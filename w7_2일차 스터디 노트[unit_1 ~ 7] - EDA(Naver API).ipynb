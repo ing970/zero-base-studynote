{
 "cells": [
  {
   "cell_type": "markdown",
   "id": "d6ebe005",
   "metadata": {},
   "source": [
    "# ⚡️study by 석민⚡️"
   ]
  },
  {
   "cell_type": "markdown",
   "id": "45f6186d",
   "metadata": {},
   "source": [
    "# 네이버 검색 API 사용하기"
   ]
  },
  {
   "cell_type": "code",
   "execution_count": 1,
   "id": "b97f5137",
   "metadata": {},
   "outputs": [
    {
     "name": "stdout",
     "output_type": "stream",
     "text": [
      "{\n",
      "\t\"lastBuildDate\":\"Thu, 17 Aug 2023 02:04:40 +0900\",\n",
      "\t\"total\":406512,\n",
      "\t\"start\":1,\n",
      "\t\"display\":10,\n",
      "\t\"items\":[\n",
      "\t\t{\n",
      "\t\t\t\"title\":\"<b>파이썬<\\/b> 학원 개발자 되기 위한 준비과정\",\n",
      "\t\t\t\"link\":\"https:\\/\\/blog.naver.com\\/rhkdgus772\\/223162313386\",\n",
      "\t\t\t\"description\":\"그 중에서도 코딩 관련 분야가 인기가 많은 것 같아서 <b>파이썬<\\/b> 학원을 다니기 시작했어요. 수업은 총... <b>파이썬<\\/b> 학원에서는 입문 단계에서 시작해서 중급 과정까지 끌어 올려주는 커리큘럼이 있어서 충분히 다닐... \",\n",
      "\t\t\t\"bloggername\":\"우리의 소소한 일상\",\n",
      "\t\t\t\"bloggerlink\":\"blog.naver.com\\/rhkdgus772\",\n",
      "\t\t\t\"postdate\":\"20230721\"\n",
      "\t\t},\n",
      "\t\t{\n",
      "\t\t\t\"title\":\"<b>파이썬<\\/b>자격증 수업내용과 취득방법\",\n",
      "\t\t\t\"link\":\"https:\\/\\/blog.naver.com\\/ying61\\/223171962293\",\n",
      "\t\t\t\"description\":\"오늘은 제가 왜 <b>파이썬<\\/b>자격증을 땄고 수업내용이 어땠는지, 취득방법에 대해 한 번 포스팅 해볼게요. <b>파이썬<\\/b>자격증은 1) COS Pro, 2) <b>파이썬<\\/b> 마스터가 있었어요. 초보자가 따기엔 그나마 이게 쉽더라고요 ㅋ 물론... \",\n",
      "\t\t\t\"bloggername\":\"험한 세상의 다리가 되어\",\n",
      "\t\t\t\"bloggerlink\":\"blog.naver.com\\/ying61\",\n",
      "\t\t\t\"postdate\":\"20230801\"\n",
      "\t\t},\n",
      "\t\t{\n",
      "\t\t\t\"title\":\"<b>파이썬<\\/b>학원을 다니면서 공부해야하는 이유\",\n",
      "\t\t\t\"link\":\"https:\\/\\/blog.naver.com\\/sow723\\/223024072662\",\n",
      "\t\t\t\"description\":\"개발자와는 전혀 관계 없던 제가 <b>파이썬<\\/b>학원을 다니면서 이 쪽으로 취업에 성공할 줄이야 아무도... 그래서 일단 비전공자도 쉽게 배울 수 있다는 언어를 배우기 위해서 #<b>파이썬<\\/b>학원 을 다녀보게 되었습니다.... \",\n",
      "\t\t\t\"bloggername\":\"Onelog\",\n",
      "\t\t\t\"bloggerlink\":\"blog.naver.com\\/sow723\",\n",
      "\t\t\t\"postdate\":\"20230222\"\n",
      "\t\t},\n",
      "\t\t{\n",
      "\t\t\t\"title\":\"<b>파이썬<\\/b> 학원 교육과정과 학습 후기\",\n",
      "\t\t\t\"link\":\"https:\\/\\/blog.naver.com\\/liprap\\/223166787094\",\n",
      "\t\t\t\"description\":\"특히 IT 관련 이슈가 끊이지 않는 요즘에는 교육, 의료, 제조 분야를 막론하고 융합 기술이 사용되어서 더욱 좋겠다고 생각했는데 그중에서도 <b>파이썬<\\/b> 학원을 선택했습니다. 제가 <b>파이썬<\\/b> 학원을 선택한... \",\n",
      "\t\t\t\"bloggername\":\"메타피지코\",\n",
      "\t\t\t\"bloggerlink\":\"blog.naver.com\\/liprap\",\n",
      "\t\t\t\"postdate\":\"20230726\"\n",
      "\t\t},\n",
      "\t\t{\n",
      "\t\t\t\"title\":\"<b>파이썬<\\/b> 자격증 취득 수업 내용 정리!\",\n",
      "\t\t\t\"link\":\"https:\\/\\/blog.naver.com\\/eunoia1017\\/222968873209\",\n",
      "\t\t\t\"description\":\"<b>파이썬<\\/b> 자격증 취득 수업 내용 정리! 많은 분들이 자신의 본 직업이나 N잡으로 코딩 한 번씩은 다... 오늘은 제가 왜 <b>파이썬<\\/b> 자격증을 취득하게 되었는지에 대한 글을 같이 써보려고 해요! <b>파이썬<\\/b> 자격증을... \",\n",
      "\t\t\t\"bloggername\":\"반짝반짝 빛나는\",\n",
      "\t\t\t\"bloggerlink\":\"blog.naver.com\\/eunoia1017\",\n",
      "\t\t\t\"postdate\":\"20221229\"\n",
      "\t\t},\n",
      "\t\t{\n",
      "\t\t\t\"title\":\"국비지원무료교육 <b>파이썬<\\/b> 취업 연계 과정\",\n",
      "\t\t\t\"link\":\"https:\\/\\/blog.naver.com\\/notgloom\\/223154195272\",\n",
      "\t\t\t\"description\":\"많은 <b>파이썬<\\/b>을 배우자는 생각을 하게 되었습니다. Hrd-net을 통해 알아보던 중 국비지원무료교육 <b>파이썬<\\/b> 취업 연계 과정이 있다는 것을 알게 되었고, 비용과 취업을 동시에 해결할 수 있는 수업이기에 학원으로... \",\n",
      "\t\t\t\"bloggername\":\"Cloud_shop ~☆\",\n",
      "\t\t\t\"bloggerlink\":\"blog.naver.com\\/notgloom\",\n",
      "\t\t\t\"postdate\":\"20230712\"\n",
      "\t\t},\n",
      "\t\t{\n",
      "\t\t\t\"title\":\"<b>파이썬<\\/b> 기초 독학 코딩입문 부트캠프 1위 슈퍼코딩 제대로된... \",\n",
      "\t\t\t\"link\":\"https:\\/\\/blog.naver.com\\/ewqdsa2211\\/223143303630\",\n",
      "\t\t\t\"description\":\"것이 <b>파이썬<\\/b> 독학이었어요. 컴퓨터라곤 PC 카톡 밖에 할 줄 몰랐고 레포트 쓰느라 끄적이는 노트북 사용이 익숙했는데 막상 취업하려고 관심 갖고 있는 분야인 AI관련 기업에서는 <b>파이썬<\\/b>을 다루는 것이... \",\n",
      "\t\t\t\"bloggername\":\"검은눈동자의 장막을 걷어내고\",\n",
      "\t\t\t\"bloggerlink\":\"blog.naver.com\\/ewqdsa2211\",\n",
      "\t\t\t\"postdate\":\"20230630\"\n",
      "\t\t},\n",
      "\t\t{\n",
      "\t\t\t\"title\":\"<b>파이썬<\\/b>-엑셀 연동 실습\",\n",
      "\t\t\t\"link\":\"https:\\/\\/blog.naver.com\\/infopub\\/223184784975\",\n",
      "\t\t\t\"description\":\"간단하게 <b>파이썬<\\/b>에서 엑셀을 컨트롤하는 예제를 살펴보겠습니다. 먼저 [0_1.ipynb] 파일이 있는 폴더에 [0_1.xlsx] 엑셀 파일을 미리 만들어 둡니다. [그림 0-19] 파일 확인 처음에는 <b>파이썬<\\/b>에서 엑셀값을... \",\n",
      "\t\t\t\"bloggername\":\"IT 서적의 명가\",\n",
      "\t\t\t\"bloggerlink\":\"blog.naver.com\\/infopub\",\n",
      "\t\t\t\"postdate\":\"20230816\"\n",
      "\t\t},\n",
      "\t\t{\n",
      "\t\t\t\"title\":\"프론트엔드 부트캠프 1위, 슈퍼코딩에서 <b>파이썬<\\/b> 기초 다지고... \",\n",
      "\t\t\t\"link\":\"https:\\/\\/blog.naver.com\\/toy0uluv\\/223173065295\",\n",
      "\t\t\t\"description\":\"저는 문과생들이 처음에 배우기 좋은 <b>파이썬<\\/b>을 배우기로 했습니다. 그래서 <b>파이썬<\\/b> 기초를 처음부터 초보자의 눈높이에 맞춰서 가르쳐주는 업체를 원했어요. 이런 저런 부트캠프를 찾다가 슈퍼코딩이라는 곳에서... \",\n",
      "\t\t\t\"bloggername\":\"Love to you\",\n",
      "\t\t\t\"bloggerlink\":\"blog.naver.com\\/toy0uluv\",\n",
      "\t\t\t\"postdate\":\"20230802\"\n",
      "\t\t},\n",
      "\t\t{\n",
      "\t\t\t\"title\":\"<b>파이썬<\\/b>학원 실무적인 학습 커리큘럼\",\n",
      "\t\t\t\"link\":\"https:\\/\\/blog.naver.com\\/euney\\/223064924715\",\n",
      "\t\t\t\"description\":\"전망이 나빠진 본인의 전공을 고려하여 <b>파이썬<\\/b>학원을 염두에 두는 인원이 상당히 많아지는 추세인데요.... 소개해드리는 <b>파이썬<\\/b> 관련 취직 루트를 유심히 살펴보시길 바랍니다. 초심자의 입장에서 왜 독학이... \",\n",
      "\t\t\t\"bloggername\":\"혼자만의 여행\",\n",
      "\t\t\t\"bloggerlink\":\"blog.naver.com\\/euney\",\n",
      "\t\t\t\"postdate\":\"20230404\"\n",
      "\t\t}\n",
      "\t]\n",
      "}\n"
     ]
    }
   ],
   "source": [
    "# 네이버 검색 API 예제 - 블로그 검색\n",
    "import os\n",
    "import sys\n",
    "import urllib.request\n",
    "\n",
    "client_id = \"LMHyeL3KkQiIz9VirLSy\"\n",
    "client_secret = \"D3zekzXRH3\"\n",
    "\n",
    "encText = urllib.parse.quote(\"파이썬\")\n",
    "url = \"https://openapi.naver.com/v1/search/blog?query=\" + encText # JSON 결과\n",
    "# url = \"https://openapi.naver.com/v1/search/blog.xml?query=\" + encText # XML 결과\n",
    "request = urllib.request.Request(url)\n",
    "request.add_header(\"X-Naver-Client-Id\",client_id)\n",
    "request.add_header(\"X-Naver-Client-Secret\",client_secret)\n",
    "response = urllib.request.urlopen(request)\n",
    "rescode = response.getcode()\n",
    "\n",
    "if(rescode==200):\n",
    "    response_body = response.read()\n",
    "    print(response_body.decode('utf-8'))\n",
    "else:\n",
    "    print(\"Error Code:\" + rescode)"
   ]
  },
  {
   "cell_type": "markdown",
   "id": "81f9398d",
   "metadata": {},
   "source": [
    "- urllib: http 프로토콜에 따라서 서버의 요청/응답을 처리하기 위한 모듈 \n",
    "- urllib.request: 클라이언트의 요청을 처리하는 모듈 \n",
    "- urllib.parse: url 주소에 대한 분석 "
   ]
  },
  {
   "cell_type": "code",
   "execution_count": 2,
   "id": "90611cf1",
   "metadata": {},
   "outputs": [
    {
     "data": {
      "text/plain": [
       "<http.client.HTTPResponse at 0x10d7cfca0>"
      ]
     },
     "execution_count": 2,
     "metadata": {},
     "output_type": "execute_result"
    }
   ],
   "source": [
    "response"
   ]
  },
  {
   "cell_type": "code",
   "execution_count": 5,
   "id": "5d1c222f",
   "metadata": {},
   "outputs": [
    {
     "data": {
      "text/plain": [
       "200"
      ]
     },
     "execution_count": 5,
     "metadata": {},
     "output_type": "execute_result"
    }
   ],
   "source": [
    "response.getcode()"
   ]
  },
  {
   "cell_type": "code",
   "execution_count": 3,
   "id": "6d3ad7b2",
   "metadata": {},
   "outputs": [
    {
     "data": {
      "text/plain": [
       "(<http.client.HTTPResponse at 0x10d7cfca0>, 200, 200, 200)"
      ]
     },
     "execution_count": 3,
     "metadata": {},
     "output_type": "execute_result"
    }
   ],
   "source": [
    "response, response.getcode(), response.code, response.status"
   ]
  },
  {
   "cell_type": "code",
   "execution_count": 7,
   "id": "a9e989d1",
   "metadata": {},
   "outputs": [
    {
     "name": "stdout",
     "output_type": "stream",
     "text": [
      "{\n",
      "\t\"lastBuildDate\":\"Thu, 17 Aug 2023 02:04:40 +0900\",\n",
      "\t\"total\":406512,\n",
      "\t\"start\":1,\n",
      "\t\"display\":10,\n",
      "\t\"items\":[\n",
      "\t\t{\n",
      "\t\t\t\"title\":\"<b>파이썬<\\/b> 학원 개발자 되기 위한 준비과정\",\n",
      "\t\t\t\"link\":\"https:\\/\\/blog.naver.com\\/rhkdgus772\\/223162313386\",\n",
      "\t\t\t\"description\":\"그 중에서도 코딩 관련 분야가 인기가 많은 것 같아서 <b>파이썬<\\/b> 학원을 다니기 시작했어요. 수업은 총... <b>파이썬<\\/b> 학원에서는 입문 단계에서 시작해서 중급 과정까지 끌어 올려주는 커리큘럼이 있어서 충분히 다닐... \",\n",
      "\t\t\t\"bloggername\":\"우리의 소소한 일상\",\n",
      "\t\t\t\"bloggerlink\":\"blog.naver.com\\/rhkdgus772\",\n",
      "\t\t\t\"postdate\":\"20230721\"\n",
      "\t\t},\n",
      "\t\t{\n",
      "\t\t\t\"title\":\"<b>파이썬<\\/b>자격증 수업내용과 취득방법\",\n",
      "\t\t\t\"link\":\"https:\\/\\/blog.naver.com\\/ying61\\/223171962293\",\n",
      "\t\t\t\"description\":\"오늘은 제가 왜 <b>파이썬<\\/b>자격증을 땄고 수업내용이 어땠는지, 취득방법에 대해 한 번 포스팅 해볼게요. <b>파이썬<\\/b>자격증은 1) COS Pro, 2) <b>파이썬<\\/b> 마스터가 있었어요. 초보자가 따기엔 그나마 이게 쉽더라고요 ㅋ 물론... \",\n",
      "\t\t\t\"bloggername\":\"험한 세상의 다리가 되어\",\n",
      "\t\t\t\"bloggerlink\":\"blog.naver.com\\/ying61\",\n",
      "\t\t\t\"postdate\":\"20230801\"\n",
      "\t\t},\n",
      "\t\t{\n",
      "\t\t\t\"title\":\"<b>파이썬<\\/b>학원을 다니면서 공부해야하는 이유\",\n",
      "\t\t\t\"link\":\"https:\\/\\/blog.naver.com\\/sow723\\/223024072662\",\n",
      "\t\t\t\"description\":\"개발자와는 전혀 관계 없던 제가 <b>파이썬<\\/b>학원을 다니면서 이 쪽으로 취업에 성공할 줄이야 아무도... 그래서 일단 비전공자도 쉽게 배울 수 있다는 언어를 배우기 위해서 #<b>파이썬<\\/b>학원 을 다녀보게 되었습니다.... \",\n",
      "\t\t\t\"bloggername\":\"Onelog\",\n",
      "\t\t\t\"bloggerlink\":\"blog.naver.com\\/sow723\",\n",
      "\t\t\t\"postdate\":\"20230222\"\n",
      "\t\t},\n",
      "\t\t{\n",
      "\t\t\t\"title\":\"<b>파이썬<\\/b> 학원 교육과정과 학습 후기\",\n",
      "\t\t\t\"link\":\"https:\\/\\/blog.naver.com\\/liprap\\/223166787094\",\n",
      "\t\t\t\"description\":\"특히 IT 관련 이슈가 끊이지 않는 요즘에는 교육, 의료, 제조 분야를 막론하고 융합 기술이 사용되어서 더욱 좋겠다고 생각했는데 그중에서도 <b>파이썬<\\/b> 학원을 선택했습니다. 제가 <b>파이썬<\\/b> 학원을 선택한... \",\n",
      "\t\t\t\"bloggername\":\"메타피지코\",\n",
      "\t\t\t\"bloggerlink\":\"blog.naver.com\\/liprap\",\n",
      "\t\t\t\"postdate\":\"20230726\"\n",
      "\t\t},\n",
      "\t\t{\n",
      "\t\t\t\"title\":\"<b>파이썬<\\/b> 자격증 취득 수업 내용 정리!\",\n",
      "\t\t\t\"link\":\"https:\\/\\/blog.naver.com\\/eunoia1017\\/222968873209\",\n",
      "\t\t\t\"description\":\"<b>파이썬<\\/b> 자격증 취득 수업 내용 정리! 많은 분들이 자신의 본 직업이나 N잡으로 코딩 한 번씩은 다... 오늘은 제가 왜 <b>파이썬<\\/b> 자격증을 취득하게 되었는지에 대한 글을 같이 써보려고 해요! <b>파이썬<\\/b> 자격증을... \",\n",
      "\t\t\t\"bloggername\":\"반짝반짝 빛나는\",\n",
      "\t\t\t\"bloggerlink\":\"blog.naver.com\\/eunoia1017\",\n",
      "\t\t\t\"postdate\":\"20221229\"\n",
      "\t\t},\n",
      "\t\t{\n",
      "\t\t\t\"title\":\"국비지원무료교육 <b>파이썬<\\/b> 취업 연계 과정\",\n",
      "\t\t\t\"link\":\"https:\\/\\/blog.naver.com\\/notgloom\\/223154195272\",\n",
      "\t\t\t\"description\":\"많은 <b>파이썬<\\/b>을 배우자는 생각을 하게 되었습니다. Hrd-net을 통해 알아보던 중 국비지원무료교육 <b>파이썬<\\/b> 취업 연계 과정이 있다는 것을 알게 되었고, 비용과 취업을 동시에 해결할 수 있는 수업이기에 학원으로... \",\n",
      "\t\t\t\"bloggername\":\"Cloud_shop ~☆\",\n",
      "\t\t\t\"bloggerlink\":\"blog.naver.com\\/notgloom\",\n",
      "\t\t\t\"postdate\":\"20230712\"\n",
      "\t\t},\n",
      "\t\t{\n",
      "\t\t\t\"title\":\"<b>파이썬<\\/b> 기초 독학 코딩입문 부트캠프 1위 슈퍼코딩 제대로된... \",\n",
      "\t\t\t\"link\":\"https:\\/\\/blog.naver.com\\/ewqdsa2211\\/223143303630\",\n",
      "\t\t\t\"description\":\"것이 <b>파이썬<\\/b> 독학이었어요. 컴퓨터라곤 PC 카톡 밖에 할 줄 몰랐고 레포트 쓰느라 끄적이는 노트북 사용이 익숙했는데 막상 취업하려고 관심 갖고 있는 분야인 AI관련 기업에서는 <b>파이썬<\\/b>을 다루는 것이... \",\n",
      "\t\t\t\"bloggername\":\"검은눈동자의 장막을 걷어내고\",\n",
      "\t\t\t\"bloggerlink\":\"blog.naver.com\\/ewqdsa2211\",\n",
      "\t\t\t\"postdate\":\"20230630\"\n",
      "\t\t},\n",
      "\t\t{\n",
      "\t\t\t\"title\":\"<b>파이썬<\\/b>-엑셀 연동 실습\",\n",
      "\t\t\t\"link\":\"https:\\/\\/blog.naver.com\\/infopub\\/223184784975\",\n",
      "\t\t\t\"description\":\"간단하게 <b>파이썬<\\/b>에서 엑셀을 컨트롤하는 예제를 살펴보겠습니다. 먼저 [0_1.ipynb] 파일이 있는 폴더에 [0_1.xlsx] 엑셀 파일을 미리 만들어 둡니다. [그림 0-19] 파일 확인 처음에는 <b>파이썬<\\/b>에서 엑셀값을... \",\n",
      "\t\t\t\"bloggername\":\"IT 서적의 명가\",\n",
      "\t\t\t\"bloggerlink\":\"blog.naver.com\\/infopub\",\n",
      "\t\t\t\"postdate\":\"20230816\"\n",
      "\t\t},\n",
      "\t\t{\n",
      "\t\t\t\"title\":\"프론트엔드 부트캠프 1위, 슈퍼코딩에서 <b>파이썬<\\/b> 기초 다지고... \",\n",
      "\t\t\t\"link\":\"https:\\/\\/blog.naver.com\\/toy0uluv\\/223173065295\",\n",
      "\t\t\t\"description\":\"저는 문과생들이 처음에 배우기 좋은 <b>파이썬<\\/b>을 배우기로 했습니다. 그래서 <b>파이썬<\\/b> 기초를 처음부터 초보자의 눈높이에 맞춰서 가르쳐주는 업체를 원했어요. 이런 저런 부트캠프를 찾다가 슈퍼코딩이라는 곳에서... \",\n",
      "\t\t\t\"bloggername\":\"Love to you\",\n",
      "\t\t\t\"bloggerlink\":\"blog.naver.com\\/toy0uluv\",\n",
      "\t\t\t\"postdate\":\"20230802\"\n",
      "\t\t},\n",
      "\t\t{\n",
      "\t\t\t\"title\":\"<b>파이썬<\\/b>학원 실무적인 학습 커리큘럼\",\n",
      "\t\t\t\"link\":\"https:\\/\\/blog.naver.com\\/euney\\/223064924715\",\n",
      "\t\t\t\"description\":\"전망이 나빠진 본인의 전공을 고려하여 <b>파이썬<\\/b>학원을 염두에 두는 인원이 상당히 많아지는 추세인데요.... 소개해드리는 <b>파이썬<\\/b> 관련 취직 루트를 유심히 살펴보시길 바랍니다. 초심자의 입장에서 왜 독학이... \",\n",
      "\t\t\t\"bloggername\":\"혼자만의 여행\",\n",
      "\t\t\t\"bloggerlink\":\"blog.naver.com\\/euney\",\n",
      "\t\t\t\"postdate\":\"20230404\"\n",
      "\t\t}\n",
      "\t]\n",
      "}\n"
     ]
    }
   ],
   "source": [
    "# 글자로 읽을 경우, decode utf-8 설정\n",
    "print(response_body.decode(\"utf-8\"))"
   ]
  },
  {
   "cell_type": "markdown",
   "id": "75806fdd",
   "metadata": {},
   "source": [
    "# 검색: 책(book)"
   ]
  },
  {
   "cell_type": "code",
   "execution_count": 8,
   "id": "e44bc6f4",
   "metadata": {},
   "outputs": [
    {
     "name": "stdout",
     "output_type": "stream",
     "text": [
      "{\n",
      "\t\"lastBuildDate\":\"Thu, 17 Aug 2023 02:07:40 +0900\",\n",
      "\t\"total\":909,\n",
      "\t\"start\":1,\n",
      "\t\"display\":10,\n",
      "\t\"items\":[\n",
      "\t\t{\n",
      "\t\t\t\"title\":\"파이썬의 정석\",\n",
      "\t\t\t\"link\":\"https:\\/\\/search.shopping.naver.com\\/book\\/catalog\\/36925491630\",\n",
      "\t\t\t\"image\":\"https:\\/\\/shopping-phinf.pstatic.net\\/main_3692549\\/36925491630.20230321164704.jpg\",\n",
      "\t\t\t\"author\":\"조용주^임좌상\",\n",
      "\t\t\t\"discount\":\"26820\",\n",
      "\t\t\t\"publisher\":\"길벗캠퍼스\",\n",
      "\t\t\t\"pubdate\":\"20230110\",\n",
      "\t\t\t\"isbn\":\"9791140702671\",\n",
      "\t\t\t\"description\":\"프로그래밍 입문자를 위한 파이썬의 입문 가이드\\n\\n4차 산업혁명의 핵심인 머신러닝, 사물 인터넷(IoT), 데이터 분석 등 다양한 분야에 활용되는\\n직관적이고 간결한 문법의 파이썬 프로그래밍 언어를 최신 트렌드에 맞게 예제 중심으로 학습\\n할 수 있습니다.\\n무엇보다 프로그래밍을 처음 접하는 학생과 파이썬 초보자를 위한 파이썬 입문용 교육교재이\\n기 때문에 프로그래밍 언어 가운데 가장 쉽고 강력한 파이썬의 기초 내용부터 변수, 반복문,\\n자료구조, 객체 지향 프로그램의 탄탄한 활용까지 장별로 강화된 연습문제와 실무 프로젝트\\n등 규모 있는 프로그램으로 실력을 향상시킬 수 있습니다.\\n이 책의 장점, 3가지 요약\\n코딩의 개념을 깨우치고 데이터 분석 및 웹 개발의 시작을 위한\\n파이썬 프로그래밍의 완벽 가이드\\n코딩을 한번도 접해보지 못한 학생도 기초부터 심화 단계까지\\n파이썬 프로그래밍의 문법을 집중적으로 배울 수 있다!\\n방금 배운 내용의 결과물을 바로 확인할 수 있는 문제해결을 위한\\n프로젝트성 실습문제 43개와 다양한 상황을 제시하여 응용 능력을 높여주는 279개 연습문제\"\n",
      "\t\t},\n",
      "\t\t{\n",
      "\t\t\t\"title\":\"Do it! 점프 투 파이썬 (중학생도 첫날부터 실습하는 초고속 입문서)\",\n",
      "\t\t\t\"link\":\"https:\\/\\/search.shopping.naver.com\\/book\\/catalog\\/40354085633\",\n",
      "\t\t\t\"image\":\"https:\\/\\/shopping-phinf.pstatic.net\\/main_4035408\\/40354085633.20230725120555.jpg\",\n",
      "\t\t\t\"author\":\"박응용\",\n",
      "\t\t\t\"discount\":\"19800\",\n",
      "\t\t\t\"publisher\":\"이지스퍼블리싱\",\n",
      "\t\t\t\"pubdate\":\"20230615\",\n",
      "\t\t\t\"isbn\":\"9791163034735\",\n",
      "\t\t\t\"description\":\"프로그래밍 분야 8년 연속 베스트셀러!\\n《Do it! 점프 투 파이썬》 전면 개정 2판 출시!\\n\\n중고등학생도, 비전공자도, 직장인도 프로그래밍에 눈뜨게 만든 바로 그 책이 전면 개정 2판으로 새롭게 태어났다! 챗GPT를 시작으로 펼쳐진 생성 AI 시대에 맞춰 설명과 예제를 다듬고, 최신 경향과 심화 내용을 보충했다. 또한 이번 개정 2판도 50만 코딩 유튜버인 조코딩과 협업을 통해 유튜브 동영상을 제공해 파이썬을 더 쉽게 공부할 수 있다.\\n\\n8년 연속 베스트셀러! 위키독스 누적 방문 300만! 독자의 입에서 입으로 전해진 추천과 수많은 대학 및 학원의 교재 채택을 통해 검증은 이미 끝났다. 코딩을 처음 배우는 중고등학생부터 코딩 소양을 기르려는 비전공자, 자기계발에 진심인 직장인까지! 이 책과 함께 파이썬 프로그래밍의 세계로 ‘점프’해 보자!\"\n",
      "\t\t},\n",
      "\t\t{\n",
      "\t\t\t\"title\":\"디딤돌 파이썬 (구조적 프로그래밍으로 설명한 파이썬 기초)\",\n",
      "\t\t\t\"link\":\"https:\\/\\/search.shopping.naver.com\\/book\\/catalog\\/34233217628\",\n",
      "\t\t\t\"image\":\"https:\\/\\/shopping-phinf.pstatic.net\\/main_3423321\\/34233217628.20221019114545.jpg\",\n",
      "\t\t\t\"author\":\"이찬수\",\n",
      "\t\t\t\"discount\":\"26100\",\n",
      "\t\t\t\"publisher\":\"인피니티북스\",\n",
      "\t\t\t\"pubdate\":\"20220823\",\n",
      "\t\t\t\"isbn\":\"9791192373058\",\n",
      "\t\t\t\"description\":\"이 책은 파이썬의 고유한 문법이나 그에 대한 활용보다는, 파이썬 언어를 기반으로 한 컴퓨터 프로그래밍과 문제해결에 비중을 두고 있다. 이를 위해 일반적인 파이썬 학습 순서와는 달리 첫 시작부터 ‘사용자 정의 함수’를 중심으로 서술한다.\\n다양한 예제를 통해 문제의 요구사항을 의사코드로 설계하고, 이를 실제로 구현해볼 수 있다. 이 과정에서 복잡한 문제를 좀 더 다루기 쉽도록 작은 규모로 분해하고, 함수로 구조화하여 문제를 해결한다. 또한 앞에서 다룬 코드에 기능을 추가하거나 수정하여 프로그램을 점차 확장시킨다. 이러한 학습 과정으로 어떤 새롭고 복잡한 문제를 만나더라도 스스로 해결할 수 있는 능력을 갖출 수 있을 것이다.\\n\\n이 책의 구성\\n- 1장: 컴퓨터 시스템의 기본 특징을 통해 프로그래밍에 대한 개념을 소개한다. \\n- 2장: 파이썬 소스코드에 나타나는 주석과 문장, 리터럴 그리고 함수에 대해 소개한다. \\n- 3장: 변수에 대한 개념과 입력문을 통해 데이터를 입력 받는 방법에 대해 알아본다. \\n- 4장: 하나의 연산 표현식을 이루는 기본 연산자 중 부호, 산술, 대입, 비트, 축약 대입 연산자 그리고 연산자 우선순위와 결합규칙을 소개함으로써 기본적인 연산을 처리하는 프로그램을 작성할 수 있도록 한다.\\n- 5장: 지역변수와 전역변수의 차이를 기반으로 함수 호출 메커니즘에 대한 온전한 이해를 도모한다.\\n- 6장: 문자열을 표현하는 다양한 방법과 문자열에서 제공되는 기본 메서드에 대해 소개한다. \\n- 7장: 비교 연산자와 논리 연산자를 기반으로 조건평가식을 구성하고, 이를 조건문에 적용해 본다.\\n- 8장: 프로그램에서의 반복 루프를 효율적으로 기술하기 위해 while 문과 for 문에 대해 다룬다.\\n- 9장: 복합 자료형 중 리스트와 튜플, 딕셔너리에 대해 다룬다.\\n- 10장: 복합 자료형의 데이터를 반복문과 같이 좀 더 효율적으로 사용하는 방법에 대해 다룬다.\\n- 11장: 객체지향 프로그래밍에 대한 기본 개념들을 다룬다.\\n- 12장: 데이터 파일에 대한 개념과 더불어 데이터 파일에 입출력하는 방법에 대해 다룬다.\\n- 13장: tkinter 모듈을 인용해 GUI 프로그램을 작성하는 방법에 대해 소개한다.\"\n",
      "\t\t},\n",
      "\t\t{\n",
      "\t\t\t\"title\":\"혼자 공부하는 파이썬 (1:1 과외하듯 배우는 프로그래밍 자습서)\",\n",
      "\t\t\t\"link\":\"https:\\/\\/search.shopping.naver.com\\/book\\/catalog\\/32507605957\",\n",
      "\t\t\t\"image\":\"https:\\/\\/shopping-phinf.pstatic.net\\/main_3250760\\/32507605957.20230509170119.jpg\",\n",
      "\t\t\t\"author\":\"윤인성\",\n",
      "\t\t\t\"discount\":\"19800\",\n",
      "\t\t\t\"publisher\":\"한빛미디어\",\n",
      "\t\t\t\"pubdate\":\"20220601\",\n",
      "\t\t\t\"isbn\":\"9791162245651\",\n",
      "\t\t\t\"description\":\"혼자 해도 충분하다! 1:1 과외하듯 배우는 파이썬 프로그래밍 자습서\\n\\n『혼자 공부하는 파이썬』이 더욱 흥미있고 알찬 내용으로 개정되었습니다. 프로그래밍이 정말 처음인 입문자도 따라갈 수 있는 친절한 설명과 단계별 학습은 그대로! 혼자 공부하더라도 체계적으로 계획을 세워 학습할 수 있도록 ‘혼공 계획표’를 새롭게 추가했습니다. 또한 입문자가 자주 물어보는 질문과 오류 해결 방법을 적재적소에 배치하여 예상치 못한 문제에 부딪혀도 좌절하지 않고 끝까지 완독할 수 있도록 도와줍니다. 단순한 문법 암기와 코딩 따라하기에 지쳤다면, 새로운 혼공파와 함께 ‘누적 예제’와 ‘도전 문제’로 프로그래밍의 신세계를 경험해 보세요! 배운 내용을 씹고 뜯고 맛보고 즐기다 보면 응용력은 물론 알고리즘 사고력까지 키워 코딩 실력이 쑥쑥 성장할 것입니다.\\n\\n이 책은 독학으로 파이썬을 배우는 입문자가 ‘꼭 필요한 내용을 제대로 학습’할 수 있도록 구성했습니다. 뭘 모르는지조차 모르는 입문자의 막연한 마음에 십분 공감하여 과외 선생님이 알려주듯 친절하게, 핵심적인 내용만 콕콕 집어줍니다. 책의 첫 페이지를 펼쳐서 마지막 페이지를 덮을 때까지, 혼자서도 충분히 파이썬을 배울 수 있다는 자신감과 확신이 계속될 것입니다!\\n\\n베타리더와 함께 입문자에게 맞는 난이도, 분량, 학습 요소 등을 적극 반영했습니다. 어려운 용어와 개념은 한 번 더 풀어쓰고, 복잡한 설명은 눈에 잘 들어오는 그림으로 풀어냈습니다. ‘혼자 공부해 본’ 여러 입문자의 초심과 눈높이가 책 곳곳에 반영된 것이 이 책의 가장 큰 장점입니다.\"\n",
      "\t\t},\n",
      "\t\t{\n",
      "\t\t\t\"title\":\"코딩 자율학습 나도코딩의 파이썬 입문 (초보자 눈높이에 맞춘 친절한 프로그래밍 자습서)\",\n",
      "\t\t\t\"link\":\"https:\\/\\/search.shopping.naver.com\\/book\\/catalog\\/37828235624\",\n",
      "\t\t\t\"image\":\"https:\\/\\/shopping-phinf.pstatic.net\\/main_3782823\\/37828235624.20230404163151.jpg\",\n",
      "\t\t\t\"author\":\"나도코딩\",\n",
      "\t\t\t\"discount\":\"21600\",\n",
      "\t\t\t\"publisher\":\"길벗\",\n",
      "\t\t\t\"pubdate\":\"20230220\",\n",
      "\t\t\t\"isbn\":\"9791140703302\",\n",
      "\t\t\t\"description\":\"30만 명의 구독자와 2만 6천 명의 수강생이 증명한 최고의 파이썬 강의\\n나도코딩의 프로그래밍 학습 노하우를 배우자!\\n\\n유튜브와 인프런 최고의 인기 강의를 한 권에 담았습니다. 일상 속 재미있는 예제로 파이썬 기본 개념을 배우고 1분 퀴즈, 실습 문제, 셀프체크로 이어지는 단계별 학습으로 파이썬을 완공할 수 있습니다. 이제 코딩은 선택이 아닌 필수! 코딩은 전공자만 배울 수 있다는 생각으로 지레 포기하지 마세요. 파이썬은 초보자가 가장 쉽게 배울 수 있는 프로그래밍 언어입니다. 관심만 있다면 누구나 코딩을 배울 수 있습니다. 나도코딩이 쉽고 재미있게 알려드립니다. 코딩을 처음 배우는 사람도 단계적 용어 설명과 친절한 지시선으로 막힘없이 따라 할 수 있습니다. 기본 설명 외에 팁, 노트 등을 적재적소에 배치해 혼자 공부할 때 생길 수 있는 의문점을 쉽게 해결할 수 있게 도와줍니다. 이제 〈코딩 자율학습 나도코딩의 파이썬 입문〉으로 완벽한 코딩 자율학습을 경험해 보세요.\"\n",
      "\t\t},\n",
      "\t\t{\n",
      "\t\t\t\"title\":\"파이썬\",\n",
      "\t\t\t\"link\":\"https:\\/\\/search.shopping.naver.com\\/book\\/catalog\\/32489150082\",\n",
      "\t\t\t\"image\":\"https:\\/\\/shopping-phinf.pstatic.net\\/main_3248915\\/32489150082.20230207165503.jpg\",\n",
      "\t\t\t\"author\":\"천인국\",\n",
      "\t\t\t\"discount\":\"11640\",\n",
      "\t\t\t\"publisher\":\"인피니티북스\",\n",
      "\t\t\t\"pubdate\":\"20170830\",\n",
      "\t\t\t\"isbn\":\"9791185578330\",\n",
      "\t\t\t\"description\":\"컴퓨팅 사고(Computational Thinking)는 자넷 윙 교수가 2006년에 컴퓨터 학술지에서 언급한 이후로 컴퓨터 교육 분야에서 상당한 이슈가 되고 있는 용어이다. 컴퓨팅 사고는 복잡한 문제를 분해하여 문제 안에 내재된 패턴을 찾고 추상화 단계를 거쳐서 문제를 해결하는 알고리즘을 작성하는 과정이다. 작성된 알고리즘은 사람이 수행하거나 컴퓨터를 이용하여 자동화될 수 있다. \\n이 책은 컴퓨팅 사고와 파이썬을 동시에 학습할 수 있도록 기획되었다. 파이썬은 컴퓨터를 전공하지 않은 학생들도 쉽게 사용할 수 있다는 큰 장점이 있다. 컴퓨팅 사고는 흥미로운 실습 예제가 많이 필요하다. 이 책에서는 최대한 많은 실습 예제를 간추려서 파이썬으로 실습할 수 있도록 하였다. 파이썬은 다양한 애니메이션이나 가상 실습을 만들 수 있는 최적의 도구이다. 학생들은 파이썬을 통하여 컴퓨터 프로그래밍의 기본적인 개념들과 컴퓨팅 사고에서 나타나는 다양한 실습을 수행할 수 있을 것이다.\"\n",
      "\t\t},\n",
      "\t\t{\n",
      "\t\t\t\"title\":\"CODING BASICS PYTHON (파이썬)\",\n",
      "\t\t\t\"link\":\"https:\\/\\/search.shopping.naver.com\\/book\\/catalog\\/32440944646\",\n",
      "\t\t\t\"image\":\"https:\\/\\/shopping-phinf.pstatic.net\\/main_3244094\\/32440944646.20230509164030.jpg\",\n",
      "\t\t\t\"author\":\"김상민^장성식^김일태\",\n",
      "\t\t\t\"discount\":\"18000\",\n",
      "\t\t\t\"publisher\":\"렉스미디어닷넷\",\n",
      "\t\t\t\"pubdate\":\"20220210\",\n",
      "\t\t\t\"isbn\":\"9788959604210\",\n",
      "\t\t\t\"description\":\"파이썬으로 다지는 프로그래밍의 기초\\n\\nㆍ 다양한 예제를 활용하여 초보자도 쉽게 프로그래밍의 기본을 익힐 수 있는 파이썬 입문서입니다.\\nㆍ 문법을 사전식으로 나열하지 않고 기능적인 프로그램을 하나씩 완성하면서 익힐 수 있게 구성했습니다.\\nㆍ 단계별로 완성하는 장별 예제 및 연습문제를 바탕으로 자신만의 프로그램을 완성할 수 있습니다.\"\n",
      "\t\t},\n",
      "\t\t{\n",
      "\t\t\t\"title\":\"파이썬\",\n",
      "\t\t\t\"link\":\"https:\\/\\/search.shopping.naver.com\\/book\\/catalog\\/32438172833\",\n",
      "\t\t\t\"image\":\"https:\\/\\/shopping-phinf.pstatic.net\\/main_3243817\\/32438172833.20230404163256.jpg\",\n",
      "\t\t\t\"author\":\"김영천\",\n",
      "\t\t\t\"discount\":\"22500\",\n",
      "\t\t\t\"publisher\":\"기한재\",\n",
      "\t\t\t\"pubdate\":\"20200225\",\n",
      "\t\t\t\"isbn\":\"9788970187990\",\n",
      "\t\t\t\"description\":\"▶ 이 책은 Python(파이썬)을 다룬 이론서입니다. Python(파이썬)의 기초적이고 전반적인 내용을 학습할 수 있습니다.\"\n",
      "\t\t},\n",
      "\t\t{\n",
      "\t\t\t\"title\":\"파이썬\",\n",
      "\t\t\t\"link\":\"https:\\/\\/search.shopping.naver.com\\/book\\/catalog\\/32460987987\",\n",
      "\t\t\t\"image\":\"https:\\/\\/shopping-phinf.pstatic.net\\/main_3246098\\/32460987987.20230207163755.jpg\",\n",
      "\t\t\t\"author\":\"홍의경\",\n",
      "\t\t\t\"discount\":\"29760\",\n",
      "\t\t\t\"publisher\":\"생능출판\",\n",
      "\t\t\t\"pubdate\":\"20220309\",\n",
      "\t\t\t\"isbn\":\"9788970506784\",\n",
      "\t\t\t\"description\":\"코딩 실력을 키우는 지름길은 실습이다.\\n\\n2008년 즈음에 검인정 중학교 교과서 정보1, 정보2, 정보3을 공저로 저술하였습니다. 그 당시에 8종류의 교과서가 검인정에 합격하였는데, 파이썬을 기반으로 하는 교과서가 2종류, C언어를 기반으로 하는 교과서가 2종류, 베이직을 기반으로 하는 교과서가 2종류, 스크래치를 기반으로 하는 교과서가 2종류였습니다.\\n\\n교육용 언어로 시작한 파이썬이 중학교 학생들이 비교적 쉽게 학습할 수 있는 프로그래밍 언어라고 생각했는데 10여년의 세월이 흐른 지금 파이썬이 활용되는 분야가 가히 폭발적으로 증가하였습니다. \\n\\n파이썬에 관한 쉽고 좋은 교재를 저술하기 위해서 인터넷에서 30,000페이지 이상의 자료를 찾아서 검토하였습니다. 어쩌면 파이썬이 첫 프로그래밍 언어일 본 교재의 독자들이 두려움 없이 파이썬을 기초부터 쉽게 공부하다가, 교재를 다 읽고 나면 “어느새 중급 수준에 도달했구나”라는 생각이 들도록  완성도 높은 교재를 목표로 하였습니다. \\n\\n입문자를 대상으로 하는 교재일수록 집필하는데 훨씬 더 많은 정성과 노력이 필요하다는 것을 잘 알고 있습니다. 개인적으로는 데이터베이스 전공교재를 저술할 때보다 몇 배 더 힘들었고, 공을 많이 들였습니다. \\n\\n원고를 버전 9까지 작성하는 동안 셀 수 없이 원고를 읽어보면서 꼭 필요하지 않은 문장은 삭제하고, 필요한 문장은 반드시 넣었습니다. 고등학교 검인정 교과서 1권, 중학교 검인정 교과서 3권, 데이터베이스 전공 교재 2권, 엑셀 교재 1권, 번역서 2권을 집필하면서 나름대로 한글을 정확하고 간결하게 표현하는데 자신이 있습니다.\"\n",
      "\t\t},\n",
      "\t\t{\n",
      "\t\t\t\"title\":\"Wonder 파이썬 (놀랍도록 쉬운 파이썬 기초)\",\n",
      "\t\t\t\"link\":\"https:\\/\\/search.shopping.naver.com\\/book\\/catalog\\/33490408618\",\n",
      "\t\t\t\"image\":\"https:\\/\\/shopping-phinf.pstatic.net\\/main_3349040\\/33490408618.20230411163730.jpg\",\n",
      "\t\t\t\"author\":\"조성호\",\n",
      "\t\t\t\"discount\":\"25200\",\n",
      "\t\t\t\"publisher\":\"인피니티북스\",\n",
      "\t\t\t\"pubdate\":\"20220708\",\n",
      "\t\t\t\"isbn\":\"9791192373034\",\n",
      "\t\t\t\"description\":\"파이썬을 이보다 더 쉽고 재미있게 설명할 수 없다\\n\\n파이썬 언어의 문법은 매우 단순하여 누구나 쉽게 배울 수 있다. 이러한 장점으로 프로그래밍을 처음 배우는 초보자들에게 추천되는 언어이다. 이 책은 실생활에서 흔히 접할 수 있는 예제와 여러 캐릭터를 활용한 그림으로 비전공자도 쉽게 이해할 수 있도록 풀어서 설명했다. 그리고 어느 파이썬 책에서도 볼 수 없었던 독창적인 예제 코드들로, 놀랍고 신기한 실행결과를 눈으로 직접 확인해볼 수 있다. 또한 다양한 주제의 LAB을 통해 직접 실습하고, 각 장마다 학습한 내용은 연습문제를 통해 점검할 수 있도록 구성하였다.\\n\\n이 책의 특징\\n1. 파이썬 문법을 다양한 캐릭터와 그림으로 재미있게 설명\\n2. 30줄 내외의 간결한 코드로 초보자도 쉽게 이해하고 실습 가능\\n3. 실생활에 응용할 수 있는 다양한 주제의 LAB과 PROJECT를 포함\\n4. 움직이는 코드나 화려한 그래픽을 활용한 150여 개의 독창적인 코드\\n5. 각 장마다 중간점검 문제와 코드를 포함한 다양한 연습문제 376개 수록\"\n",
      "\t\t}\n",
      "\t]\n",
      "}\n"
     ]
    }
   ],
   "source": [
    "# 네이버 검색 API 예제 - 블로그 검색\n",
    "import os\n",
    "import sys\n",
    "import urllib.request\n",
    "\n",
    "client_id = \"LMHyeL3KkQiIz9VirLSy\"\n",
    "client_secret = \"D3zekzXRH3\"\n",
    "\n",
    "encText = urllib.parse.quote(\"파이썬\")\n",
    "url = \"https://openapi.naver.com/v1/search/book?query=\" + encText # JSON 결과\n",
    "# url = \"https://openapi.naver.com/v1/search/blog.xml?query=\" + encText # XML 결과\n",
    "request = urllib.request.Request(url)\n",
    "request.add_header(\"X-Naver-Client-Id\",client_id)\n",
    "request.add_header(\"X-Naver-Client-Secret\",client_secret)\n",
    "response = urllib.request.urlopen(request)\n",
    "rescode = response.getcode()\n",
    "\n",
    "if(rescode==200):\n",
    "    response_body = response.read()\n",
    "    print(response_body.decode('utf-8'))\n",
    "else:\n",
    "    print(\"Error Code:\" + rescode)"
   ]
  },
  {
   "cell_type": "markdown",
   "id": "a4a03e0d",
   "metadata": {},
   "source": [
    "# 검색: 영화\n",
    "- 서비스 종료"
   ]
  },
  {
   "cell_type": "code",
   "execution_count": 9,
   "id": "741d2e40",
   "metadata": {
    "collapsed": true
   },
   "outputs": [
    {
     "ename": "HTTPError",
     "evalue": "HTTP Error 404: Not Found",
     "output_type": "error",
     "traceback": [
      "\u001b[0;31m---------------------------------------------------------------------------\u001b[0m",
      "\u001b[0;31mHTTPError\u001b[0m                                 Traceback (most recent call last)",
      "Cell \u001b[0;32mIn[9], line 15\u001b[0m\n\u001b[1;32m     13\u001b[0m request\u001b[38;5;241m.\u001b[39madd_header(\u001b[38;5;124m\"\u001b[39m\u001b[38;5;124mX-Naver-Client-Id\u001b[39m\u001b[38;5;124m\"\u001b[39m,client_id)\n\u001b[1;32m     14\u001b[0m request\u001b[38;5;241m.\u001b[39madd_header(\u001b[38;5;124m\"\u001b[39m\u001b[38;5;124mX-Naver-Client-Secret\u001b[39m\u001b[38;5;124m\"\u001b[39m,client_secret)\n\u001b[0;32m---> 15\u001b[0m response \u001b[38;5;241m=\u001b[39m \u001b[43murllib\u001b[49m\u001b[38;5;241;43m.\u001b[39;49m\u001b[43mrequest\u001b[49m\u001b[38;5;241;43m.\u001b[39;49m\u001b[43murlopen\u001b[49m\u001b[43m(\u001b[49m\u001b[43mrequest\u001b[49m\u001b[43m)\u001b[49m\n\u001b[1;32m     16\u001b[0m rescode \u001b[38;5;241m=\u001b[39m response\u001b[38;5;241m.\u001b[39mgetcode()\n\u001b[1;32m     18\u001b[0m \u001b[38;5;28;01mif\u001b[39;00m(rescode\u001b[38;5;241m==\u001b[39m\u001b[38;5;241m200\u001b[39m):\n",
      "File \u001b[0;32m~/opt/anaconda3/envs/tf/lib/python3.9/urllib/request.py:214\u001b[0m, in \u001b[0;36murlopen\u001b[0;34m(url, data, timeout, cafile, capath, cadefault, context)\u001b[0m\n\u001b[1;32m    212\u001b[0m \u001b[38;5;28;01melse\u001b[39;00m:\n\u001b[1;32m    213\u001b[0m     opener \u001b[38;5;241m=\u001b[39m _opener\n\u001b[0;32m--> 214\u001b[0m \u001b[38;5;28;01mreturn\u001b[39;00m \u001b[43mopener\u001b[49m\u001b[38;5;241;43m.\u001b[39;49m\u001b[43mopen\u001b[49m\u001b[43m(\u001b[49m\u001b[43murl\u001b[49m\u001b[43m,\u001b[49m\u001b[43m \u001b[49m\u001b[43mdata\u001b[49m\u001b[43m,\u001b[49m\u001b[43m \u001b[49m\u001b[43mtimeout\u001b[49m\u001b[43m)\u001b[49m\n",
      "File \u001b[0;32m~/opt/anaconda3/envs/tf/lib/python3.9/urllib/request.py:523\u001b[0m, in \u001b[0;36mOpenerDirector.open\u001b[0;34m(self, fullurl, data, timeout)\u001b[0m\n\u001b[1;32m    521\u001b[0m \u001b[38;5;28;01mfor\u001b[39;00m processor \u001b[38;5;129;01min\u001b[39;00m \u001b[38;5;28mself\u001b[39m\u001b[38;5;241m.\u001b[39mprocess_response\u001b[38;5;241m.\u001b[39mget(protocol, []):\n\u001b[1;32m    522\u001b[0m     meth \u001b[38;5;241m=\u001b[39m \u001b[38;5;28mgetattr\u001b[39m(processor, meth_name)\n\u001b[0;32m--> 523\u001b[0m     response \u001b[38;5;241m=\u001b[39m \u001b[43mmeth\u001b[49m\u001b[43m(\u001b[49m\u001b[43mreq\u001b[49m\u001b[43m,\u001b[49m\u001b[43m \u001b[49m\u001b[43mresponse\u001b[49m\u001b[43m)\u001b[49m\n\u001b[1;32m    525\u001b[0m \u001b[38;5;28;01mreturn\u001b[39;00m response\n",
      "File \u001b[0;32m~/opt/anaconda3/envs/tf/lib/python3.9/urllib/request.py:632\u001b[0m, in \u001b[0;36mHTTPErrorProcessor.http_response\u001b[0;34m(self, request, response)\u001b[0m\n\u001b[1;32m    629\u001b[0m \u001b[38;5;66;03m# According to RFC 2616, \"2xx\" code indicates that the client's\u001b[39;00m\n\u001b[1;32m    630\u001b[0m \u001b[38;5;66;03m# request was successfully received, understood, and accepted.\u001b[39;00m\n\u001b[1;32m    631\u001b[0m \u001b[38;5;28;01mif\u001b[39;00m \u001b[38;5;129;01mnot\u001b[39;00m (\u001b[38;5;241m200\u001b[39m \u001b[38;5;241m<\u001b[39m\u001b[38;5;241m=\u001b[39m code \u001b[38;5;241m<\u001b[39m \u001b[38;5;241m300\u001b[39m):\n\u001b[0;32m--> 632\u001b[0m     response \u001b[38;5;241m=\u001b[39m \u001b[38;5;28;43mself\u001b[39;49m\u001b[38;5;241;43m.\u001b[39;49m\u001b[43mparent\u001b[49m\u001b[38;5;241;43m.\u001b[39;49m\u001b[43merror\u001b[49m\u001b[43m(\u001b[49m\n\u001b[1;32m    633\u001b[0m \u001b[43m        \u001b[49m\u001b[38;5;124;43m'\u001b[39;49m\u001b[38;5;124;43mhttp\u001b[39;49m\u001b[38;5;124;43m'\u001b[39;49m\u001b[43m,\u001b[49m\u001b[43m \u001b[49m\u001b[43mrequest\u001b[49m\u001b[43m,\u001b[49m\u001b[43m \u001b[49m\u001b[43mresponse\u001b[49m\u001b[43m,\u001b[49m\u001b[43m \u001b[49m\u001b[43mcode\u001b[49m\u001b[43m,\u001b[49m\u001b[43m \u001b[49m\u001b[43mmsg\u001b[49m\u001b[43m,\u001b[49m\u001b[43m \u001b[49m\u001b[43mhdrs\u001b[49m\u001b[43m)\u001b[49m\n\u001b[1;32m    635\u001b[0m \u001b[38;5;28;01mreturn\u001b[39;00m response\n",
      "File \u001b[0;32m~/opt/anaconda3/envs/tf/lib/python3.9/urllib/request.py:561\u001b[0m, in \u001b[0;36mOpenerDirector.error\u001b[0;34m(self, proto, *args)\u001b[0m\n\u001b[1;32m    559\u001b[0m \u001b[38;5;28;01mif\u001b[39;00m http_err:\n\u001b[1;32m    560\u001b[0m     args \u001b[38;5;241m=\u001b[39m (\u001b[38;5;28mdict\u001b[39m, \u001b[38;5;124m'\u001b[39m\u001b[38;5;124mdefault\u001b[39m\u001b[38;5;124m'\u001b[39m, \u001b[38;5;124m'\u001b[39m\u001b[38;5;124mhttp_error_default\u001b[39m\u001b[38;5;124m'\u001b[39m) \u001b[38;5;241m+\u001b[39m orig_args\n\u001b[0;32m--> 561\u001b[0m     \u001b[38;5;28;01mreturn\u001b[39;00m \u001b[38;5;28;43mself\u001b[39;49m\u001b[38;5;241;43m.\u001b[39;49m\u001b[43m_call_chain\u001b[49m\u001b[43m(\u001b[49m\u001b[38;5;241;43m*\u001b[39;49m\u001b[43margs\u001b[49m\u001b[43m)\u001b[49m\n",
      "File \u001b[0;32m~/opt/anaconda3/envs/tf/lib/python3.9/urllib/request.py:494\u001b[0m, in \u001b[0;36mOpenerDirector._call_chain\u001b[0;34m(self, chain, kind, meth_name, *args)\u001b[0m\n\u001b[1;32m    492\u001b[0m \u001b[38;5;28;01mfor\u001b[39;00m handler \u001b[38;5;129;01min\u001b[39;00m handlers:\n\u001b[1;32m    493\u001b[0m     func \u001b[38;5;241m=\u001b[39m \u001b[38;5;28mgetattr\u001b[39m(handler, meth_name)\n\u001b[0;32m--> 494\u001b[0m     result \u001b[38;5;241m=\u001b[39m \u001b[43mfunc\u001b[49m\u001b[43m(\u001b[49m\u001b[38;5;241;43m*\u001b[39;49m\u001b[43margs\u001b[49m\u001b[43m)\u001b[49m\n\u001b[1;32m    495\u001b[0m     \u001b[38;5;28;01mif\u001b[39;00m result \u001b[38;5;129;01mis\u001b[39;00m \u001b[38;5;129;01mnot\u001b[39;00m \u001b[38;5;28;01mNone\u001b[39;00m:\n\u001b[1;32m    496\u001b[0m         \u001b[38;5;28;01mreturn\u001b[39;00m result\n",
      "File \u001b[0;32m~/opt/anaconda3/envs/tf/lib/python3.9/urllib/request.py:641\u001b[0m, in \u001b[0;36mHTTPDefaultErrorHandler.http_error_default\u001b[0;34m(self, req, fp, code, msg, hdrs)\u001b[0m\n\u001b[1;32m    640\u001b[0m \u001b[38;5;28;01mdef\u001b[39;00m \u001b[38;5;21mhttp_error_default\u001b[39m(\u001b[38;5;28mself\u001b[39m, req, fp, code, msg, hdrs):\n\u001b[0;32m--> 641\u001b[0m     \u001b[38;5;28;01mraise\u001b[39;00m HTTPError(req\u001b[38;5;241m.\u001b[39mfull_url, code, msg, hdrs, fp)\n",
      "\u001b[0;31mHTTPError\u001b[0m: HTTP Error 404: Not Found"
     ]
    }
   ],
   "source": [
    "# 네이버 검색 API 예제 - 블로그 검색\n",
    "import os\n",
    "import sys\n",
    "import urllib.request\n",
    "\n",
    "client_id = \"LMHyeL3KkQiIz9VirLSy\"\n",
    "client_secret = \"D3zekzXRH3\"\n",
    "\n",
    "encText = urllib.parse.quote(\"파이썬\")\n",
    "url = \"https://openapi.naver.com/v1/search/movie?query=\" + encText # JSON 결과\n",
    "# url = \"https://openapi.naver.com/v1/search/blog.xml?query=\" + encText # XML 결과\n",
    "request = urllib.request.Request(url)\n",
    "request.add_header(\"X-Naver-Client-Id\",client_id)\n",
    "request.add_header(\"X-Naver-Client-Secret\",client_secret)\n",
    "response = urllib.request.urlopen(request)\n",
    "rescode = response.getcode()\n",
    "\n",
    "if(rescode==200):\n",
    "    response_body = response.read()\n",
    "    print(response_body.decode('utf-8'))\n",
    "else:\n",
    "    print(\"Error Code:\" + rescode)"
   ]
  },
  {
   "cell_type": "markdown",
   "id": "b11fd767",
   "metadata": {},
   "source": [
    "# 검색: 카페(cafearticle)"
   ]
  },
  {
   "cell_type": "code",
   "execution_count": 10,
   "id": "4a3393cc",
   "metadata": {
    "scrolled": true
   },
   "outputs": [
    {
     "name": "stdout",
     "output_type": "stream",
     "text": [
      "{\n",
      "\t\"lastBuildDate\":\"Thu, 17 Aug 2023 02:09:06 +0900\",\n",
      "\t\"total\":172128,\n",
      "\t\"start\":1,\n",
      "\t\"display\":10,\n",
      "\t\"items\":[\n",
      "\t\t{\n",
      "\t\t\t\"title\":\"학점은행제 컴퓨터공학 + 코딩 <b>파이썬<\\/b> 인강! 독학 기초 쌓기\",\n",
      "\t\t\t\"link\":\"http:\\/\\/cafe.naver.com\\/outcampus\\/732391\",\n",
      "\t\t\t\"description\":\"학점은행제 컴퓨터공학 + 코딩 <b>파이썬<\\/b> 인강! 독학 기초 쌓기 평균 수명이 늘어난 만큼 평생 직업에 대한... 및 <b>파이썬<\\/b> 기초가 필요하신 분들에게는 트렌디한 기초 강의도 연계해드리고 있어요 학점은행제 컴퓨터공학... \",\n",
      "\t\t\t\"cafename\":\"[아웃캠퍼스] 대학생 공모전 대외활동...\",\n",
      "\t\t\t\"cafeurl\":\"https:\\/\\/cafe.naver.com\\/outcampus\"\n",
      "\t\t},\n",
      "\t\t{\n",
      "\t\t\t\"title\":\"자바나 <b>파이썬<\\/b> 책 보고? 유투브 강의? 어떤게 좋을까요?\",\n",
      "\t\t\t\"link\":\"http:\\/\\/cafe.naver.com\\/dieselmania\\/42133139\",\n",
      "\t\t\t\"description\":\"노베이스이고 책보면서 자바나 <b>파이썬<\\/b> 조금씩 해보려고 하는데 책이 좋을까요 유투브 강의가 좋을까요? 책이나 유투브 추천 부탁드립니다\",\n",
      "\t\t\t\"cafename\":\"●디젤매니아● 대한민국 일등 패션 커...\",\n",
      "\t\t\t\"cafeurl\":\"https:\\/\\/cafe.naver.com\\/dieselmania\"\n",
      "\t\t},\n",
      "\t\t{\n",
      "\t\t\t\"title\":\"C언어와 <b>파이썬<\\/b> 배울수있는 컴퓨터학원 있나요?\",\n",
      "\t\t\t\"link\":\"http:\\/\\/cafe.naver.com\\/gumimom7\\/6030704\",\n",
      "\t\t\t\"description\":\"안녕하세요 중3 아이가 C언어와 <b>파이썬<\\/b> 배울수있는컴퓨터 학원을 알아보고 있는데요. 혹시 알고계시거나 배우고 계신분 있나요?\",\n",
      "\t\t\t\"cafename\":\"구미맘 수다방(임신,출산,육아,구미맘...\",\n",
      "\t\t\t\"cafeurl\":\"https:\\/\\/cafe.naver.com\\/gumimom7\"\n",
      "\t\t},\n",
      "\t\t{\n",
      "\t\t\t\"title\":\"<b>파이썬<\\/b> 하실 분 계실까요?\",\n",
      "\t\t\t\"link\":\"http:\\/\\/cafe.naver.com\\/isajime\\/5573710\",\n",
      "\t\t\t\"description\":\"혼자 <b>파이썬<\\/b> 공부하려니 심심하고 진도가 잘 안나가네요. ㅎㅎ 프로그래밍 언어라 많이 어려워서... 왜 <b>파이썬<\\/b>을 하고 싶은지 댓글로 남겨주시면 오래 같이 하실분을 컨텍할까 하는데요( 좀 그런가요? ㅎㅎ) 아무도 지원... \",\n",
      "\t\t\t\"cafename\":\"고.우.리 일산아지매\",\n",
      "\t\t\t\"cafeurl\":\"https:\\/\\/cafe.naver.com\\/isajime\"\n",
      "\t\t},\n",
      "\t\t{\n",
      "\t\t\t\"title\":\"챗 지피티. <b>파이썬<\\/b> 생기부에 기재해도 되나요?\",\n",
      "\t\t\t\"link\":\"http:\\/\\/cafe.naver.com\\/suhui\\/27534984\",\n",
      "\t\t\t\"description\":\"존중하고, 응원해 주는 수만휘에 오신 것을 환영합니다. [안내] 의견이 다른 회원 간 저격 및 비난 금지 [참고] 질문하기 전에 카페 키워드 검색 추천 ---------------------------- 챗 gpt랑 <b>파이썬<\\/b> 생기부에 기재해도 되는 단언가요?\",\n",
      "\t\t\t\"cafename\":\"수만휘-수능날만점시험지를휘날리자★...\",\n",
      "\t\t\t\"cafeurl\":\"https:\\/\\/cafe.naver.com\\/suhui\"\n",
      "\t\t},\n",
      "\t\t{\n",
      "\t\t\t\"title\":\"<b>파이썬<\\/b>독학 초보도 할 수 있어요\",\n",
      "\t\t\t\"link\":\"http:\\/\\/cafe.naver.com\\/hotengnet\\/929871\",\n",
      "\t\t\t\"description\":\"저는 개인적으로 <b>파이썬<\\/b>을 추천드리고 싶어요! <b>파이썬<\\/b>은 TIOBE Index에서 선정한 세계에서 가장 많이 쓰이는 프로그래밍 언어이기 때문입니다. 많이 쓰이는 만큼 이 언어를 쓸 줄 아는 사람을 찾는 곳도 많겠죠? 게다가... \",\n",
      "\t\t\t\"cafename\":\"취준생★스펙뽀개기★연봉,인적성,이력...\",\n",
      "\t\t\t\"cafeurl\":\"https:\\/\\/cafe.naver.com\\/hotengnet\"\n",
      "\t\t},\n",
      "\t\t{\n",
      "\t\t\t\"title\":\"아두이노와 <b>파이썬<\\/b> 직렬통신 질문이요\",\n",
      "\t\t\t\"link\":\"http:\\/\\/cafe.naver.com\\/arduinostory\\/150994\",\n",
      "\t\t\t\"description\":\"아두이노 ide로 업로드는 했는데 <b>파이썬<\\/b>에서 업로드가 안 됩니다 Linking .pio... 1 계속 이 오류가 뜨네요. 아두이노와 <b>파이썬<\\/b> 직렬 통신을 하려고 합니다 최종적으로\",\n",
      "\t\t\t\"cafename\":\"아두이노 스토리\",\n",
      "\t\t\t\"cafeurl\":\"https:\\/\\/cafe.naver.com\\/arduinostory\"\n",
      "\t\t},\n",
      "\t\t{\n",
      "\t\t\t\"title\":\"구리 <b>파이썬<\\/b> 배울만한곳 있나요?\",\n",
      "\t\t\t\"link\":\"http:\\/\\/cafe.naver.com\\/momingrnyj\\/1688701\",\n",
      "\t\t\t\"description\":\"방학동안 <b>파이썬<\\/b> 맛보기로 배울수 있는곳 있나요? 인창동이면 더욱 좋구요. 없으면 다른 동네라도.. c언어나 다른 다양한 프로그램이 있으면 좋을듯합니다. 아시는분들 소개 부탁드립니다~ ^^\",\n",
      "\t\t\t\"cafename\":\"구리 남양주맘 - 다산맘 왕숙 갈매 별...\",\n",
      "\t\t\t\"cafeurl\":\"https:\\/\\/cafe.naver.com\\/momingrnyj\"\n",
      "\t\t},\n",
      "\t\t{\n",
      "\t\t\t\"title\":\"다락원▶<b>파이썬<\\/b>아 반가워!\",\n",
      "\t\t\t\"link\":\"http:\\/\\/cafe.naver.com\\/dochithink\\/2051358\",\n",
      "\t\t\t\"description\":\"그래서 이번에는 좀 더 어렵다는 <b>파이썬<\\/b>을 활용해보기로하고, 관련 도서를 찾아보았다. 일단 학원에 다니지 않고 혼자 힘으로 할 수 있을만한 교재가 뭐가 있을까...하고 고민하다 찾은, [<b>파이썬<\\/b>아 반가워!] 이 책은 20일... \",\n",
      "\t\t\t\"cafename\":\"[도치맘카페]도치엄마들의생각키우기\",\n",
      "\t\t\t\"cafeurl\":\"https:\\/\\/cafe.naver.com\\/dochithink\"\n",
      "\t\t},\n",
      "\t\t{\n",
      "\t\t\t\"title\":\"텔로 에듀 <b>파이썬<\\/b> 동작\",\n",
      "\t\t\t\"link\":\"http:\\/\\/cafe.naver.com\\/dronplay\\/715615\",\n",
      "\t\t\t\"description\":\"<b>파이썬<\\/b>으로 텔로에듀를 동작시켜보고 있는데 궁금한 점이 있어 질문 드립니다 제가 학교에서 대여받은 텔로에듀를 사용하여 <b>파이썬<\\/b>으로 여러가지 코딩을 해보았는데 문제없이 잘 동작하였습니다. 그런데 똑같은 모델의... \",\n",
      "\t\t\t\"cafename\":\"★드론플레이★대한민국No1드론커뮤니...\",\n",
      "\t\t\t\"cafeurl\":\"https:\\/\\/cafe.naver.com\\/dronplay\"\n",
      "\t\t}\n",
      "\t]\n",
      "}\n"
     ]
    }
   ],
   "source": [
    "# 네이버 검색 API 예제 - 블로그 검색\n",
    "import os\n",
    "import sys\n",
    "import urllib.request\n",
    "\n",
    "client_id = \"LMHyeL3KkQiIz9VirLSy\"\n",
    "client_secret = \"D3zekzXRH3\"\n",
    "\n",
    "encText = urllib.parse.quote(\"파이썬\")\n",
    "url = \"https://openapi.naver.com/v1/search/cafearticle?query=\" + encText # JSON 결과\n",
    "# url = \"https://openapi.naver.com/v1/search/blog.xml?query=\" + encText # XML 결과\n",
    "request = urllib.request.Request(url)\n",
    "request.add_header(\"X-Naver-Client-Id\",client_id)\n",
    "request.add_header(\"X-Naver-Client-Secret\",client_secret)\n",
    "response = urllib.request.urlopen(request)\n",
    "rescode = response.getcode()\n",
    "\n",
    "if(rescode==200):\n",
    "    response_body = response.read()\n",
    "    print(response_body.decode('utf-8'))\n",
    "else:\n",
    "    print(\"Error Code:\" + rescode)"
   ]
  },
  {
   "cell_type": "markdown",
   "id": "4f5d663c",
   "metadata": {},
   "source": [
    "# 검색: 쇼핑(shop)"
   ]
  },
  {
   "cell_type": "code",
   "execution_count": 11,
   "id": "c2423ea2",
   "metadata": {},
   "outputs": [
    {
     "name": "stdout",
     "output_type": "stream",
     "text": [
      "{\n",
      "\t\"lastBuildDate\":\"Thu, 17 Aug 2023 02:09:21 +0900\",\n",
      "\t\"total\":138000,\n",
      "\t\"start\":1,\n",
      "\t\"display\":10,\n",
      "\t\"items\":[\n",
      "\t\t{\n",
      "\t\t\t\"title\":\"점프 투 <b>파이썬<\\/b> (전면 개정판) 책\",\n",
      "\t\t\t\"link\":\"https:\\/\\/search.shopping.naver.com\\/gate.nhn?id=40230844404\",\n",
      "\t\t\t\"image\":\"https:\\/\\/shopping-phinf.pstatic.net\\/main_4023084\\/40230844404.jpg\",\n",
      "\t\t\t\"lprice\":\"22570\",\n",
      "\t\t\t\"hprice\":\"\",\n",
      "\t\t\t\"mallName\":\"인터파크쇼핑\",\n",
      "\t\t\t\"productId\":\"40230844404\",\n",
      "\t\t\t\"productType\":\"2\",\n",
      "\t\t\t\"brand\":\"\",\n",
      "\t\t\t\"maker\":\"\",\n",
      "\t\t\t\"category1\":\"출산\\/육아\",\n",
      "\t\t\t\"category2\":\"교구\",\n",
      "\t\t\t\"category3\":\"학습교구\",\n",
      "\t\t\t\"category4\":\"기타교구\"\n",
      "\t\t},\n",
      "\t\t{\n",
      "\t\t\t\"title\":\"Do it 점프 투 <b>파이썬<\\/b> 프로그래밍 언어 책 코딩\",\n",
      "\t\t\t\"link\":\"https:\\/\\/search.shopping.naver.com\\/gate.nhn?id=40923069997\",\n",
      "\t\t\t\"image\":\"https:\\/\\/shopping-phinf.pstatic.net\\/main_4092306\\/40923069997.jpg\",\n",
      "\t\t\t\"lprice\":\"19800\",\n",
      "\t\t\t\"hprice\":\"\",\n",
      "\t\t\t\"mallName\":\"인터파크쇼핑\",\n",
      "\t\t\t\"productId\":\"40923069997\",\n",
      "\t\t\t\"productType\":\"2\",\n",
      "\t\t\t\"brand\":\"\",\n",
      "\t\t\t\"maker\":\"\",\n",
      "\t\t\t\"category1\":\"출산\\/육아\",\n",
      "\t\t\t\"category2\":\"교구\",\n",
      "\t\t\t\"category3\":\"학습교구\",\n",
      "\t\t\t\"category4\":\"기타교구\"\n",
      "\t\t},\n",
      "\t\t{\n",
      "\t\t\t\"title\":\"혼자 공부하는 <b>파이썬<\\/b> 프로그래밍 한빛미디어\",\n",
      "\t\t\t\"link\":\"https:\\/\\/search.shopping.naver.com\\/gate.nhn?id=41679017261\",\n",
      "\t\t\t\"image\":\"https:\\/\\/shopping-phinf.pstatic.net\\/main_4167901\\/41679017261.jpg\",\n",
      "\t\t\t\"lprice\":\"19800\",\n",
      "\t\t\t\"hprice\":\"\",\n",
      "\t\t\t\"mallName\":\"유젠샵s\",\n",
      "\t\t\t\"productId\":\"41679017261\",\n",
      "\t\t\t\"productType\":\"2\",\n",
      "\t\t\t\"brand\":\"\",\n",
      "\t\t\t\"maker\":\"한빛미디어\",\n",
      "\t\t\t\"category1\":\"출산\\/육아\",\n",
      "\t\t\t\"category2\":\"교구\",\n",
      "\t\t\t\"category3\":\"학습교구\",\n",
      "\t\t\t\"category4\":\"기타교구\"\n",
      "\t\t},\n",
      "\t\t{\n",
      "\t\t\t\"title\":\"혼자 공부하는 <b>파이썬<\\/b> (1:1 과외하듯 배우는 프로그래밍 독학 자습서 책)(개정판)\",\n",
      "\t\t\t\"link\":\"https:\\/\\/search.shopping.naver.com\\/gate.nhn?id=40231355730\",\n",
      "\t\t\t\"image\":\"https:\\/\\/shopping-phinf.pstatic.net\\/main_4023135\\/40231355730.jpg\",\n",
      "\t\t\t\"lprice\":\"28500\",\n",
      "\t\t\t\"hprice\":\"\",\n",
      "\t\t\t\"mallName\":\"옥션\",\n",
      "\t\t\t\"productId\":\"40231355730\",\n",
      "\t\t\t\"productType\":\"2\",\n",
      "\t\t\t\"brand\":\"\",\n",
      "\t\t\t\"maker\":\"\",\n",
      "\t\t\t\"category1\":\"출산\\/육아\",\n",
      "\t\t\t\"category2\":\"교구\",\n",
      "\t\t\t\"category3\":\"학습교구\",\n",
      "\t\t\t\"category4\":\"기타교구\"\n",
      "\t\t},\n",
      "\t\t{\n",
      "\t\t\t\"title\":\"이것이 취업을 위한 코딩 테스트 with <b>파이썬<\\/b> 책\",\n",
      "\t\t\t\"link\":\"https:\\/\\/search.shopping.naver.com\\/gate.nhn?id=41679031451\",\n",
      "\t\t\t\"image\":\"https:\\/\\/shopping-phinf.pstatic.net\\/main_4167903\\/41679031451.jpg\",\n",
      "\t\t\t\"lprice\":\"30600\",\n",
      "\t\t\t\"hprice\":\"\",\n",
      "\t\t\t\"mallName\":\"유젠샵s\",\n",
      "\t\t\t\"productId\":\"41679031451\",\n",
      "\t\t\t\"productType\":\"2\",\n",
      "\t\t\t\"brand\":\"\",\n",
      "\t\t\t\"maker\":\"한빛미디어\",\n",
      "\t\t\t\"category1\":\"출산\\/육아\",\n",
      "\t\t\t\"category2\":\"교구\",\n",
      "\t\t\t\"category3\":\"학습교구\",\n",
      "\t\t\t\"category4\":\"기타교구\"\n",
      "\t\t},\n",
      "\t\t{\n",
      "\t\t\t\"title\":\"[롯데아이몰][팝북] 쉽게 배우는 <b>파이썬<\\/b>\",\n",
      "\t\t\t\"link\":\"https:\\/\\/search.shopping.naver.com\\/gate.nhn?id=41770160939\",\n",
      "\t\t\t\"image\":\"https:\\/\\/shopping-phinf.pstatic.net\\/main_4177016\\/41770160939.jpg\",\n",
      "\t\t\t\"lprice\":\"15300\",\n",
      "\t\t\t\"hprice\":\"\",\n",
      "\t\t\t\"mallName\":\"인터파크쇼핑\",\n",
      "\t\t\t\"productId\":\"41770160939\",\n",
      "\t\t\t\"productType\":\"2\",\n",
      "\t\t\t\"brand\":\"\",\n",
      "\t\t\t\"maker\":\"삼양미디어\",\n",
      "\t\t\t\"category1\":\"출산\\/육아\",\n",
      "\t\t\t\"category2\":\"교구\",\n",
      "\t\t\t\"category3\":\"학습교구\",\n",
      "\t\t\t\"category4\":\"기타교구\"\n",
      "\t\t},\n",
      "\t\t{\n",
      "\t\t\t\"title\":\"[롯데아이몰][봄봄북스] <b>파이썬<\\/b>의 정석\",\n",
      "\t\t\t\"link\":\"https:\\/\\/search.shopping.naver.com\\/gate.nhn?id=41831609659\",\n",
      "\t\t\t\"image\":\"https:\\/\\/shopping-phinf.pstatic.net\\/main_4183160\\/41831609659.jpg\",\n",
      "\t\t\t\"lprice\":\"22110\",\n",
      "\t\t\t\"hprice\":\"\",\n",
      "\t\t\t\"mallName\":\"인터파크쇼핑\",\n",
      "\t\t\t\"productId\":\"41831609659\",\n",
      "\t\t\t\"productType\":\"2\",\n",
      "\t\t\t\"brand\":\"\",\n",
      "\t\t\t\"maker\":\"\",\n",
      "\t\t\t\"category1\":\"출산\\/육아\",\n",
      "\t\t\t\"category2\":\"교구\",\n",
      "\t\t\t\"category3\":\"학습교구\",\n",
      "\t\t\t\"category4\":\"기타교구\"\n",
      "\t\t},\n",
      "\t\t{\n",
      "\t\t\t\"title\":\"[롯데아이몰][봄봄북스] <b>파이썬<\\/b> 퀵스타트\",\n",
      "\t\t\t\"link\":\"https:\\/\\/search.shopping.naver.com\\/gate.nhn?id=41769701593\",\n",
      "\t\t\t\"image\":\"https:\\/\\/shopping-phinf.pstatic.net\\/main_4176970\\/41769701593.jpg\",\n",
      "\t\t\t\"lprice\":\"18710\",\n",
      "\t\t\t\"hprice\":\"\",\n",
      "\t\t\t\"mallName\":\"인터파크쇼핑\",\n",
      "\t\t\t\"productId\":\"41769701593\",\n",
      "\t\t\t\"productType\":\"2\",\n",
      "\t\t\t\"brand\":\"\",\n",
      "\t\t\t\"maker\":\"\",\n",
      "\t\t\t\"category1\":\"출산\\/육아\",\n",
      "\t\t\t\"category2\":\"교구\",\n",
      "\t\t\t\"category3\":\"학습교구\",\n",
      "\t\t\t\"category4\":\"기타교구\"\n",
      "\t\t},\n",
      "\t\t{\n",
      "\t\t\t\"title\":\"[봄봄북스] 10대를 위한 <b>파이썬<\\/b> 교과서\",\n",
      "\t\t\t\"link\":\"https:\\/\\/search.shopping.naver.com\\/gate.nhn?id=41754305817\",\n",
      "\t\t\t\"image\":\"https:\\/\\/shopping-phinf.pstatic.net\\/main_4175430\\/41754305817.jpg\",\n",
      "\t\t\t\"lprice\":\"19800\",\n",
      "\t\t\t\"hprice\":\"\",\n",
      "\t\t\t\"mallName\":\"롯데ON\",\n",
      "\t\t\t\"productId\":\"41754305817\",\n",
      "\t\t\t\"productType\":\"2\",\n",
      "\t\t\t\"brand\":\"\",\n",
      "\t\t\t\"maker\":\"\",\n",
      "\t\t\t\"category1\":\"출산\\/육아\",\n",
      "\t\t\t\"category2\":\"교구\",\n",
      "\t\t\t\"category3\":\"학습교구\",\n",
      "\t\t\t\"category4\":\"기타교구\"\n",
      "\t\t},\n",
      "\t\t{\n",
      "\t\t\t\"title\":\"[롯데아이몰][팝북] <b>파이썬<\\/b> 핵심 개발자들과의 인터뷰\",\n",
      "\t\t\t\"link\":\"https:\\/\\/search.shopping.naver.com\\/gate.nhn?id=41679080768\",\n",
      "\t\t\t\"image\":\"https:\\/\\/shopping-phinf.pstatic.net\\/main_4167908\\/41679080768.jpg\",\n",
      "\t\t\t\"lprice\":\"16070\",\n",
      "\t\t\t\"hprice\":\"\",\n",
      "\t\t\t\"mallName\":\"인터파크쇼핑\",\n",
      "\t\t\t\"productId\":\"41679080768\",\n",
      "\t\t\t\"productType\":\"2\",\n",
      "\t\t\t\"brand\":\"\",\n",
      "\t\t\t\"maker\":\"\",\n",
      "\t\t\t\"category1\":\"출산\\/육아\",\n",
      "\t\t\t\"category2\":\"교구\",\n",
      "\t\t\t\"category3\":\"학습교구\",\n",
      "\t\t\t\"category4\":\"기타교구\"\n",
      "\t\t}\n",
      "\t]\n",
      "}\n"
     ]
    }
   ],
   "source": [
    "# 네이버 검색 API 예제 - 블로그 검색\n",
    "import os\n",
    "import sys\n",
    "import urllib.request\n",
    "\n",
    "client_id = \"LMHyeL3KkQiIz9VirLSy\"\n",
    "client_secret = \"D3zekzXRH3\"\n",
    "\n",
    "encText = urllib.parse.quote(\"파이썬\")\n",
    "url = \"https://openapi.naver.com/v1/search/shop?query=\" + encText # JSON 결과\n",
    "# url = \"https://openapi.naver.com/v1/search/blog.xml?query=\" + encText # XML 결과\n",
    "request = urllib.request.Request(url)\n",
    "request.add_header(\"X-Naver-Client-Id\",client_id)\n",
    "request.add_header(\"X-Naver-Client-Secret\",client_secret)\n",
    "response = urllib.request.urlopen(request)\n",
    "rescode = response.getcode()\n",
    "\n",
    "if(rescode==200):\n",
    "    response_body = response.read()\n",
    "    print(response_body.decode('utf-8'))\n",
    "else:\n",
    "    print(\"Error Code:\" + rescode)"
   ]
  },
  {
   "cell_type": "markdown",
   "id": "a9d3df51",
   "metadata": {},
   "source": [
    "# 검색: 백과사전(encyc)"
   ]
  },
  {
   "cell_type": "code",
   "execution_count": 12,
   "id": "7aa91bb5",
   "metadata": {},
   "outputs": [
    {
     "name": "stdout",
     "output_type": "stream",
     "text": [
      "{\n",
      "\t\"lastBuildDate\":\"Thu, 17 Aug 2023 02:09:48 +0900\",\n",
      "\t\"total\":43,\n",
      "\t\"start\":1,\n",
      "\t\"display\":10,\n",
      "\t\"items\":[\n",
      "\t\t{\n",
      "\t\t\t\"title\":\"<b>파이썬<\\/b>\",\n",
      "\t\t\t\"link\":\"https:\\/\\/terms.naver.com\\/entry.naver?docId=3580815&cid=59088&categoryId=59096\",\n",
      "\t\t\t\"description\":\"‘<b>파이썬<\\/b>’이다. 간결한 문법으로 입문자가 이해하기 쉽고, 다양한 분야에 활용할 수 있기 때문이다. 이 외에도 <b>파이썬<\\/b>은 머신러닝, 그래픽, 웹 개발 등 여러 업계에서 선호하는 언어로 꾸준히... \",\n",
      "\t\t\t\"thumbnail\":\"http:\\/\\/openapi-dbscthumb.phinf.naver.net\\/4749_000_1\\/20170118193349632_0CHSSS5Y6.png\\/01_16.png?type=m160_160\"\n",
      "\t\t},\n",
      "\t\t{\n",
      "\t\t\t\"title\":\"<b>파이썬<\\/b>\",\n",
      "\t\t\t\"link\":\"https:\\/\\/terms.naver.com\\/entry.naver?docId=3607513&cid=58598&categoryId=59316\",\n",
      "\t\t\t\"description\":\" 컴퓨터 언어의 일종으로 간결하고 생산성 높은 프로그래밍 언어.  <b>파이썬<\\/b>(python)은 프로그램을 설계하는 프로그래밍 언어 중 하나입니다. 컴퓨터는 0과 1을(이진수) 인식하여 작동하기 때문에 과거에는... \",\n",
      "\t\t\t\"thumbnail\":\"http:\\/\\/openapi-dbscthumb.phinf.naver.net\\/4751_000_3\\/20170710213206672_OPHLG2VOW.jpg\\/992_170575_10034.jpg?type=m160_160\"\n",
      "\t\t},\n",
      "\t\t{\n",
      "\t\t\t\"title\":\"<b>파이썬<\\/b>\",\n",
      "\t\t\t\"link\":\"https:\\/\\/terms.naver.com\\/entry.naver?docId=3533295&cid=40942&categoryId=32838\",\n",
      "\t\t\t\"description\":\" 오픈소스 고급 프로그래밍 언어 중 하나이다.  C언어를 기반으로 한 오픈소스 고급 프로그래밍 언어로, 1991년 귀도 반 로섬(Guido van Rossum)에 의해 설계 및 개발되었다. <b>파이썬<\\/b>이라는 이름은 <b>파이썬<\\/b>을... \",\n",
      "\t\t\t\"thumbnail\":\"\"\n",
      "\t\t},\n",
      "\t\t{\n",
      "\t\t\t\"title\":\"장고\",\n",
      "\t\t\t\"link\":\"https:\\/\\/terms.naver.com\\/entry.naver?docId=4367087&cid=59088&categoryId=59096\",\n",
      "\t\t\t\"description\":\" 장고는 <b>파이썬<\\/b> 기반 웹 애플리케이션 프레임워크다. 좀 더 쉽게 웹 개발을 할 수 있게 돕는 오픈소스 기술이다. 장고는 개발 과정을 단축시켜주고, 다양한 추가 기능을 포함하고 있으며 보안성이... \",\n",
      "\t\t\t\"thumbnail\":\"https:\\/\\/dthumb-phinf.pstatic.net\\/?src=%22https%3A%2F%2Fpost-phinf.pstatic.net%2FMjAxNzEyMTVfMTM1%2FMDAxNTEzMzI3NDI4MjIz.nZhrYOO1nwD5YToYQRQoI8UH4MdHD8_SOjO2Uu_A45Ug.Is-NiXSP4wOgQDVNW_8j6QrMId6m1vlOohGSK1pEHa0g.JPEG%2FIjqeSPB8TSqGe9ibG3dK_hGmkobI.jpg%3Ftype%3Dm4500_4500_fst%22&type=w540#540x405#c405\"\n",
      "\t\t},\n",
      "\t\t{\n",
      "\t\t\t\"title\":\"루비 (프로그래밍 언어)\",\n",
      "\t\t\t\"link\":\"https:\\/\\/terms.naver.com\\/entry.naver?docId=3581025&cid=59088&categoryId=59096\",\n",
      "\t\t\t\"description\":\"C언어는 미국, 자바(Java)는 캐나다, <b>파이썬<\\/b>(Python)은 네덜란드, 스칼라(Scala)는 스위스에서 나오는 식이다. 이러한 환경에서 주류 언어이자 주목받은 새로운 언어 중 아시아 지역에서 탄생한 유일한 언어가... \",\n",
      "\t\t\t\"thumbnail\":\"http:\\/\\/openapi-dbscthumb.phinf.naver.net\\/4749_000_10\\/20170404204312715_1X732KEQK.png\\/1_40.png?type=m160_160\"\n",
      "\t\t},\n",
      "\t\t{\n",
      "\t\t\t\"title\":\"오토GPT\",\n",
      "\t\t\t\"link\":\"https:\\/\\/terms.naver.com\\/entry.naver?docId=6690638&cid=43667&categoryId=43667\",\n",
      "\t\t\t\"description\":\" 사용자가 목표를 설정하면 인공지능(AI)이 자동으로 인터넷을 검색하고 방법을 탐색해 결과물을 내놓는 생성형 AI로, AI 스타트업 시그니피컨트 그래피타스가 2023년 3월 30일 개발자 코드... \",\n",
      "\t\t\t\"thumbnail\":\"\"\n",
      "\t\t},\n",
      "\t\t{\n",
      "\t\t\t\"title\":\"Gensim\",\n",
      "\t\t\t\"link\":\"https:\\/\\/terms.naver.com\\/entry.naver?docId=6653626&cid=69974&categoryId=69974\",\n",
      "\t\t\t\"description\":\"Gensim은 <b>파이썬<\\/b>과 NumPy(숫자의 연산을 행렬 등의 형태로 쉽게 처리할 수 있게 하는 <b>파이썬<\\/b> 라이브러리)를 지원하기만 하면 어떤 운영체제와도 호환된다. 무엇보다도 데이터 스트리밍을... \",\n",
      "\t\t\t\"thumbnail\":\"\"\n",
      "\t\t},\n",
      "\t\t{\n",
      "\t\t\t\"title\":\"Perplexity\",\n",
      "\t\t\t\"link\":\"https:\\/\\/terms.naver.com\\/entry.naver?docId=6653705&cid=69974&categoryId=69974\",\n",
      "\t\t\t\"description\":\"언어 모델링 과정이나 음성 인식에서 엔트로피를 계산할 때에는 0에 가까운 작은 확률값이 나오는 경우가 많은데, <b>파이썬<\\/b>에서는 이러한 값을 0으로 근사시키는 underflow가 발생한다는 문제가... \",\n",
      "\t\t\t\"thumbnail\":\"https:\\/\\/dthumb-phinf.pstatic.net\\/?src=%22https%3A%2F%2Fpost-phinf.pstatic.net%2FMjAyMjA4MjhfNDgg%2FMDAxNjYxNjkyMTczMjI3.2IEVYNlzKicXI-yYu3-JtNBl7gRGusb-i2UPfFozT_8g.uIhO9ts858Cr4VooW7qsTgRI9wtLI2mrwFpcIPxBIM8g.GIF%2FIo8p_EY-DJjgmP-xdX2ktfuv61XY.jpg%3Ftype%3Dm4500_4500_fst%22&type=w540#540x120\"\n",
      "\t\t},\n",
      "\t\t{\n",
      "\t\t\t\"title\":\"조프\",\n",
      "\t\t\t\"link\":\"https:\\/\\/terms.naver.com\\/entry.naver?docId=3436079&cid=42346&categoryId=42346\",\n",
      "\t\t\t\"description\":\"<b>파이썬<\\/b>(Python) 프로그래밍 언어로 작성된 웹 애플리케이션 서버 구현 관련 기술. 객체 기술 기능, 폴더ㆍ파일ㆍ이미지용 프레임워크, 객체 데이터베이스, 웹 페이지 생성 템플릿, 구조화 질의 언어(SQL) 방법... \",\n",
      "\t\t\t\"thumbnail\":\"\"\n",
      "\t\t},\n",
      "\t\t{\n",
      "\t\t\t\"title\":\"행동 프로그래밍\",\n",
      "\t\t\t\"link\":\"https:\\/\\/terms.naver.com\\/entry.naver?docId=5762303&cid=42107&categoryId=42107\",\n",
      "\t\t\t\"description\":\"다양한 컴퓨터 언어(<b>파이썬<\\/b>, C++, 자바 등)를 이용해 로봇에 명령을 전달하는 작업. ROS(로봇오퍼레이팅시스템)가 대표적이다. 오픈소스 라이선스인 ROS는 복잡하고 강렬한 로봇 동작을 단순화하는 ‘도구... \",\n",
      "\t\t\t\"thumbnail\":\"\"\n",
      "\t\t}\n",
      "\t]\n",
      "}\n"
     ]
    }
   ],
   "source": [
    "# 네이버 검색 API 예제 - 블로그 검색\n",
    "import os\n",
    "import sys\n",
    "import urllib.request\n",
    "\n",
    "client_id = \"LMHyeL3KkQiIz9VirLSy\"\n",
    "client_secret = \"D3zekzXRH3\"\n",
    "\n",
    "encText = urllib.parse.quote(\"파이썬\")\n",
    "url = \"https://openapi.naver.com/v1/search/encyc?query=\" + encText # JSON 결과\n",
    "# url = \"https://openapi.naver.com/v1/search/blog.xml?query=\" + encText # XML 결과\n",
    "request = urllib.request.Request(url)\n",
    "request.add_header(\"X-Naver-Client-Id\",client_id)\n",
    "request.add_header(\"X-Naver-Client-Secret\",client_secret)\n",
    "response = urllib.request.urlopen(request)\n",
    "rescode = response.getcode()\n",
    "\n",
    "if(rescode==200):\n",
    "    response_body = response.read()\n",
    "    print(response_body.decode('utf-8'))\n",
    "else:\n",
    "    print(\"Error Code:\" + rescode)"
   ]
  },
  {
   "cell_type": "markdown",
   "id": "7bbec9b1",
   "metadata": {},
   "source": [
    "# 파라미터 \n",
    "- 파라미터를 쿼리 스트링 형식으로 전달합니다"
   ]
  },
  {
   "attachments": {
    "%E1%84%89%E1%85%B3%E1%84%8F%E1%85%B3%E1%84%85%E1%85%B5%E1%86%AB%E1%84%89%E1%85%A3%E1%86%BA%202023-08-17%20%E1%84%8B%E1%85%A9%E1%84%8C%E1%85%A5%E1%86%AB%202.15.52.png": {
     "image/png": "[encoded data removed]"
    }
   },
   "cell_type": "markdown",
   "id": "68cf751b",
   "metadata": {},
   "source": [
    "![%E1%84%89%E1%85%B3%E1%84%8F%E1%85%B3%E1%84%85%E1%85%B5%E1%86%AB%E1%84%89%E1%85%A3%E1%86%BA%202023-08-17%20%E1%84%8B%E1%85%A9%E1%84%8C%E1%85%A5%E1%86%AB%202.15.52.png](attachment:%E1%84%89%E1%85%B3%E1%84%8F%E1%85%B3%E1%84%85%E1%85%B5%E1%86%AB%E1%84%89%E1%85%A3%E1%86%BA%202023-08-17%20%E1%84%8B%E1%85%A9%E1%84%8C%E1%85%A5%E1%86%AB%202.15.52.png)"
   ]
  },
  {
   "cell_type": "markdown",
   "id": "8c762e7e",
   "metadata": {},
   "source": [
    "# 함수 만들기"
   ]
  },
  {
   "attachments": {
    "%E1%84%89%E1%85%B3%E1%84%8F%E1%85%B3%E1%84%85%E1%85%B5%E1%86%AB%E1%84%89%E1%85%A3%E1%86%BA%202023-08-17%20%E1%84%8B%E1%85%A9%E1%84%8C%E1%85%A5%E1%86%AB%202.13.13.png": {
     "image/png": "[encoded data removed]"
    }
   },
   "cell_type": "markdown",
   "id": "0a2ed505",
   "metadata": {},
   "source": [
    "![%E1%84%89%E1%85%B3%E1%84%8F%E1%85%B3%E1%84%85%E1%85%B5%E1%86%AB%E1%84%89%E1%85%A3%E1%86%BA%202023-08-17%20%E1%84%8B%E1%85%A9%E1%84%8C%E1%85%A5%E1%86%AB%202.13.13.png](attachment:%E1%84%89%E1%85%B3%E1%84%8F%E1%85%B3%E1%84%85%E1%85%B5%E1%86%AB%E1%84%89%E1%85%A3%E1%86%BA%202023-08-17%20%E1%84%8B%E1%85%A9%E1%84%8C%E1%85%A5%E1%86%AB%202.13.13.png)"
   ]
  },
  {
   "cell_type": "code",
   "execution_count": 7,
   "id": "4121aecf",
   "metadata": {},
   "outputs": [
    {
     "name": "stdout",
     "output_type": "stream",
     "text": [
      "{\n",
      "\t\"lastBuildDate\":\"Thu, 17 Aug 2023 20:33:09 +0900\",\n",
      "\t\"total\":27655,\n",
      "\t\"start\":1,\n",
      "\t\"display\":10,\n",
      "\t\"items\":[\n",
      "\t\t{\n",
      "\t\t\t\"title\":\"<b>몰스킨<\\/b> 2024 위클리 18개월 다이어리 하드커버 상품선택\",\n",
      "\t\t\t\"link\":\"https:\\/\\/search.shopping.naver.com\\/gate.nhn?id=39992373021\",\n",
      "\t\t\t\"image\":\"https:\\/\\/shopping-phinf.pstatic.net\\/main_3999237\\/39992373021.20230513055543.jpg\",\n",
      "\t\t\t\"lprice\":\"30260\",\n",
      "\t\t\t\"hprice\":\"\",\n",
      "\t\t\t\"mallName\":\"네이버\",\n",
      "\t\t\t\"productId\":\"39992373021\",\n",
      "\t\t\t\"productType\":\"1\",\n",
      "\t\t\t\"brand\":\"몰스킨\",\n",
      "\t\t\t\"maker\":\"몰스킨\",\n",
      "\t\t\t\"category1\":\"생활\\/건강\",\n",
      "\t\t\t\"category2\":\"문구\\/사무용품\",\n",
      "\t\t\t\"category3\":\"다이어리\\/플래너\",\n",
      "\t\t\t\"category4\":\"다이어리\"\n",
      "\t\t},\n",
      "\t\t{\n",
      "\t\t\t\"title\":\"<b>몰스킨<\\/b> <b>몰스킨<\\/b> 2024 데일리 18개월 다이어리 라지 커버선택\",\n",
      "\t\t\t\"link\":\"https:\\/\\/search.shopping.naver.com\\/gate.nhn?id=40100046083\",\n",
      "\t\t\t\"image\":\"https:\\/\\/shopping-phinf.pstatic.net\\/main_4010004\\/40100046083.20230526044002.jpg\",\n",
      "\t\t\t\"lprice\":\"46800\",\n",
      "\t\t\t\"hprice\":\"\",\n",
      "\t\t\t\"mallName\":\"네이버\",\n",
      "\t\t\t\"productId\":\"40100046083\",\n",
      "\t\t\t\"productType\":\"1\",\n",
      "\t\t\t\"brand\":\"몰스킨\",\n",
      "\t\t\t\"maker\":\"\",\n",
      "\t\t\t\"category1\":\"생활\\/건강\",\n",
      "\t\t\t\"category2\":\"문구\\/사무용품\",\n",
      "\t\t\t\"category3\":\"다이어리\\/플래너\",\n",
      "\t\t\t\"category4\":\"다이어리\"\n",
      "\t\t},\n",
      "\t\t{\n",
      "\t\t\t\"title\":\"<b>몰스킨<\\/b> 클래식노트 플레인 소프트커버 포켓 Pocket\",\n",
      "\t\t\t\"link\":\"https:\\/\\/search.shopping.naver.com\\/gate.nhn?id=30656121375\",\n",
      "\t\t\t\"image\":\"https:\\/\\/shopping-phinf.pstatic.net\\/main_3065612\\/30656121375.20220124025746.jpg\",\n",
      "\t\t\t\"lprice\":\"21379\",\n",
      "\t\t\t\"hprice\":\"\",\n",
      "\t\t\t\"mallName\":\"네이버\",\n",
      "\t\t\t\"productId\":\"30656121375\",\n",
      "\t\t\t\"productType\":\"1\",\n",
      "\t\t\t\"brand\":\"몰스킨\",\n",
      "\t\t\t\"maker\":\"\",\n",
      "\t\t\t\"category1\":\"생활\\/건강\",\n",
      "\t\t\t\"category2\":\"문구\\/사무용품\",\n",
      "\t\t\t\"category3\":\"노트\\/수첩\",\n",
      "\t\t\t\"category4\":\"노트\"\n",
      "\t\t},\n",
      "\t\t{\n",
      "\t\t\t\"title\":\"[<b>몰스킨<\\/b>] 2023-24년 18개월 다이어리(데일리, 위클리)\",\n",
      "\t\t\t\"link\":\"https:\\/\\/search.shopping.naver.com\\/gate.nhn?id=39859450686\",\n",
      "\t\t\t\"image\":\"https:\\/\\/shopping-phinf.pstatic.net\\/main_3985945\\/39859450686.jpg\",\n",
      "\t\t\t\"lprice\":\"35000\",\n",
      "\t\t\t\"hprice\":\"\",\n",
      "\t\t\t\"mallName\":\"몰스킨공식온라인스토어\",\n",
      "\t\t\t\"productId\":\"39859450686\",\n",
      "\t\t\t\"productType\":\"2\",\n",
      "\t\t\t\"brand\":\"몰스킨\",\n",
      "\t\t\t\"maker\":\"\",\n",
      "\t\t\t\"category1\":\"생활\\/건강\",\n",
      "\t\t\t\"category2\":\"문구\\/사무용품\",\n",
      "\t\t\t\"category3\":\"다이어리\\/플래너\",\n",
      "\t\t\t\"category4\":\"다이어리\"\n",
      "\t\t},\n",
      "\t\t{\n",
      "\t\t\t\"title\":\"시리즈 series 역시즌 50 series <b>몰스킨<\\/b> 집업 아우터 셔츠 SH SASFW22821KHL\",\n",
      "\t\t\t\"link\":\"https:\\/\\/search.shopping.naver.com\\/gate.nhn?id=40277938372\",\n",
      "\t\t\t\"image\":\"https:\\/\\/shopping-phinf.pstatic.net\\/main_4027793\\/40277938372.20230531092727.jpg\",\n",
      "\t\t\t\"lprice\":\"101383\",\n",
      "\t\t\t\"hprice\":\"\",\n",
      "\t\t\t\"mallName\":\"네이버\",\n",
      "\t\t\t\"productId\":\"40277938372\",\n",
      "\t\t\t\"productType\":\"1\",\n",
      "\t\t\t\"brand\":\"시리즈\",\n",
      "\t\t\t\"maker\":\"\",\n",
      "\t\t\t\"category1\":\"패션의류\",\n",
      "\t\t\t\"category2\":\"남성의류\",\n",
      "\t\t\t\"category3\":\"셔츠\\/남방\",\n",
      "\t\t\t\"category4\":\"\"\n",
      "\t\t},\n",
      "\t\t{\n",
      "\t\t\t\"title\":\"<b>몰스킨<\\/b> 2023년 다이어리 데일리 소프트커버 라지\",\n",
      "\t\t\t\"link\":\"https:\\/\\/search.shopping.naver.com\\/gate.nhn?id=32288589870\",\n",
      "\t\t\t\"image\":\"https:\\/\\/shopping-phinf.pstatic.net\\/main_3228858\\/32288589870.20230104072413.jpg\",\n",
      "\t\t\t\"lprice\":\"20350\",\n",
      "\t\t\t\"hprice\":\"\",\n",
      "\t\t\t\"mallName\":\"네이버\",\n",
      "\t\t\t\"productId\":\"32288589870\",\n",
      "\t\t\t\"productType\":\"1\",\n",
      "\t\t\t\"brand\":\"몰스킨\",\n",
      "\t\t\t\"maker\":\"몰스킨\",\n",
      "\t\t\t\"category1\":\"생활\\/건강\",\n",
      "\t\t\t\"category2\":\"문구\\/사무용품\",\n",
      "\t\t\t\"category3\":\"다이어리\\/플래너\",\n",
      "\t\t\t\"category4\":\"다이어리\"\n",
      "\t\t},\n",
      "\t\t{\n",
      "\t\t\t\"title\":\"<b>몰스킨<\\/b> 클래식노트 룰드 하이드레인저블루 소프트커버 포켓 Pocket\",\n",
      "\t\t\t\"link\":\"https:\\/\\/search.shopping.naver.com\\/gate.nhn?id=38102873867\",\n",
      "\t\t\t\"image\":\"https:\\/\\/shopping-phinf.pstatic.net\\/main_3810287\\/38102873867.20230219215959.jpg\",\n",
      "\t\t\t\"lprice\":\"19400\",\n",
      "\t\t\t\"hprice\":\"\",\n",
      "\t\t\t\"mallName\":\"네이버\",\n",
      "\t\t\t\"productId\":\"38102873867\",\n",
      "\t\t\t\"productType\":\"1\",\n",
      "\t\t\t\"brand\":\"\",\n",
      "\t\t\t\"maker\":\"\",\n",
      "\t\t\t\"category1\":\"생활\\/건강\",\n",
      "\t\t\t\"category2\":\"문구\\/사무용품\",\n",
      "\t\t\t\"category3\":\"다이어리\\/플래너\",\n",
      "\t\t\t\"category4\":\"다이어리\"\n",
      "\t\t},\n",
      "\t\t{\n",
      "\t\t\t\"title\":\"<b>몰스킨<\\/b> <b>Moleskine<\\/b> 2024 데일리 플래너 12M 포켓 머틀 그린 소프트 커버 8 9 x 14 3 5 5 5인치\",\n",
      "\t\t\t\"link\":\"https:\\/\\/search.shopping.naver.com\\/gate.nhn?id=40315340634\",\n",
      "\t\t\t\"image\":\"https:\\/\\/shopping-phinf.pstatic.net\\/main_4031534\\/40315340634.20230530215838.jpg\",\n",
      "\t\t\t\"lprice\":\"27490\",\n",
      "\t\t\t\"hprice\":\"\",\n",
      "\t\t\t\"mallName\":\"네이버\",\n",
      "\t\t\t\"productId\":\"40315340634\",\n",
      "\t\t\t\"productType\":\"1\",\n",
      "\t\t\t\"brand\":\"몰스킨\",\n",
      "\t\t\t\"maker\":\"\",\n",
      "\t\t\t\"category1\":\"생활\\/건강\",\n",
      "\t\t\t\"category2\":\"문구\\/사무용품\",\n",
      "\t\t\t\"category3\":\"다이어리\\/플래너\",\n",
      "\t\t\t\"category4\":\"다이어리\"\n",
      "\t\t},\n",
      "\t\t{\n",
      "\t\t\t\"title\":\"시리즈 역시즌 series <b>몰스킨<\\/b> 스탠카라 점퍼 SAUAW22201OLL LE1214597300\",\n",
      "\t\t\t\"link\":\"https:\\/\\/search.shopping.naver.com\\/gate.nhn?id=41169241959\",\n",
      "\t\t\t\"image\":\"https:\\/\\/shopping-phinf.pstatic.net\\/main_4116924\\/41169241959.20230714032240.jpg\",\n",
      "\t\t\t\"lprice\":\"197610\",\n",
      "\t\t\t\"hprice\":\"\",\n",
      "\t\t\t\"mallName\":\"네이버\",\n",
      "\t\t\t\"productId\":\"41169241959\",\n",
      "\t\t\t\"productType\":\"1\",\n",
      "\t\t\t\"brand\":\"시리즈\",\n",
      "\t\t\t\"maker\":\"\",\n",
      "\t\t\t\"category1\":\"패션의류\",\n",
      "\t\t\t\"category2\":\"남성의류\",\n",
      "\t\t\t\"category3\":\"점퍼\",\n",
      "\t\t\t\"category4\":\"\"\n",
      "\t\t},\n",
      "\t\t{\n",
      "\t\t\t\"title\":\"르몽생미셸 지니언 워크자켓 블루 <b>몰스킨<\\/b> 프렌치 워크자켓\",\n",
      "\t\t\t\"link\":\"https:\\/\\/search.shopping.naver.com\\/gate.nhn?id=83453383930\",\n",
      "\t\t\t\"image\":\"https:\\/\\/shopping-phinf.pstatic.net\\/main_8345338\\/83453383930.2.jpg\",\n",
      "\t\t\t\"lprice\":\"344000\",\n",
      "\t\t\t\"hprice\":\"\",\n",
      "\t\t\t\"mallName\":\"스프링스트릿 마켓\",\n",
      "\t\t\t\"productId\":\"83453383930\",\n",
      "\t\t\t\"productType\":\"2\",\n",
      "\t\t\t\"brand\":\"\",\n",
      "\t\t\t\"maker\":\"\",\n",
      "\t\t\t\"category1\":\"패션의류\",\n",
      "\t\t\t\"category2\":\"남성의류\",\n",
      "\t\t\t\"category3\":\"재킷\",\n",
      "\t\t\t\"category4\":\"\"\n",
      "\t\t}\n",
      "\t]\n",
      "}\n"
     ]
    }
   ],
   "source": [
    "# 네이버 검색 API 예제 - 블로그 검색\n",
    "import os\n",
    "import sys\n",
    "import urllib.request\n",
    "\n",
    "client_id = \"LMHyeL3KkQiIz9VirLSy\"\n",
    "client_secret = \"D3zekzXRH3\"\n",
    "\n",
    "encText = urllib.parse.quote(\"몰스킨\")\n",
    "url = \"https://openapi.naver.com/v1/search/shop?query=\" + encText # JSON 결과\n",
    "# url = \"https://openapi.naver.com/v1/search/blog.xml?query=\" + encText # XML 결과\n",
    "request = urllib.request.Request(url)\n",
    "request.add_header(\"X-Naver-Client-Id\",client_id)\n",
    "request.add_header(\"X-Naver-Client-Secret\",client_secret)\n",
    "response = urllib.request.urlopen(request)\n",
    "rescode = response.getcode()\n",
    "\n",
    "if(rescode==200):\n",
    "    response_body = response.read()\n",
    "    print(response_body.decode('utf-8'))\n",
    "else:\n",
    "    print(\"Error Code:\" + rescode)"
   ]
  },
  {
   "cell_type": "markdown",
   "id": "88645afd",
   "metadata": {},
   "source": [
    "~~~python\n",
    "encText = urllib.parse.quote(\"몰스킨\")\n",
    "url = \"https://openapi.naver.com/v1/search/shop?query=\" + encText # JSON 결과\n",
    "~~~"
   ]
  },
  {
   "cell_type": "markdown",
   "id": "3c1a1605",
   "metadata": {},
   "source": [
    "# 1. gen_search_url( )"
   ]
  },
  {
   "cell_type": "code",
   "execution_count": 8,
   "id": "7f6c134b",
   "metadata": {},
   "outputs": [],
   "source": [
    "def gen_search_url(api_node, search_text, start_num, disp_num):\n",
    "    base = \"https://openapi.naver.com/v1/search\"\n",
    "    node = \"/\" + api_node + \".json\"\n",
    "    param_query = \"?query=\" + urllib.parse.quote(search_text)\n",
    "    param_start = \"&start=\" + str(start_num)\n",
    "    param_disp = \"&display=\" + str(disp_num)\n",
    "    \n",
    "    return base + node + param_query + param_start + param_disp"
   ]
  },
  {
   "cell_type": "code",
   "execution_count": 9,
   "id": "afaffd89",
   "metadata": {},
   "outputs": [
    {
     "data": {
      "text/plain": [
       "'https://openapi.naver.com/v1/search/shop.json?query=TEST&start=10&display=3'"
      ]
     },
     "execution_count": 9,
     "metadata": {},
     "output_type": "execute_result"
    }
   ],
   "source": [
    "gen_search_url(\"shop\", \"TEST\", 10, 3)"
   ]
  },
  {
   "cell_type": "markdown",
   "id": "4c8006f5",
   "metadata": {},
   "source": [
    "# 2. get_result_onepage( )"
   ]
  },
  {
   "cell_type": "code",
   "execution_count": 10,
   "id": "020817b9",
   "metadata": {},
   "outputs": [],
   "source": [
    "import json\n",
    "import datetime\n",
    "\n",
    "def get_result_onepage(url):\n",
    "    request = urllib.request.Request(url)\n",
    "    request.add_header(\"X-Naver-Client-Id\",client_id)\n",
    "    request.add_header(\"X-Naver-Client-Secret\",client_secret)\n",
    "    response = urllib.request.urlopen(request)\n",
    "    print(\"[%s] Url Request Success\" % datetime.datetime.now())\n",
    "    return json.loads(response.read().decode(\"utf-8\"))\n"
   ]
  },
  {
   "cell_type": "code",
   "execution_count": 11,
   "id": "b0270afa",
   "metadata": {},
   "outputs": [
    {
     "data": {
      "text/plain": [
       "datetime.datetime(2023, 8, 17, 20, 33, 16, 367562)"
      ]
     },
     "execution_count": 11,
     "metadata": {},
     "output_type": "execute_result"
    }
   ],
   "source": [
    "datetime.datetime.now()"
   ]
  },
  {
   "cell_type": "code",
   "execution_count": 12,
   "id": "fa357ca7",
   "metadata": {},
   "outputs": [
    {
     "name": "stdout",
     "output_type": "stream",
     "text": [
      "[2023-08-17 20:33:17.330124] Url Request Success\n"
     ]
    }
   ],
   "source": [
    "url = gen_search_url(\"shop\", \"몰스킨\", 1, 5)\n",
    "one_result = get_result_onepage(url)"
   ]
  },
  {
   "cell_type": "markdown",
   "id": "da2b32c9",
   "metadata": {},
   "source": [
    "# json 파일은 딕셔너리 파일 형식으로 이루어져 있다."
   ]
  },
  {
   "cell_type": "code",
   "execution_count": 42,
   "id": "45ec67fe",
   "metadata": {
    "scrolled": true
   },
   "outputs": [
    {
     "data": {
      "text/plain": [
       "{'lastBuildDate': 'Thu, 17 Aug 2023 02:43:20 +0900',\n",
       " 'total': 27665,\n",
       " 'start': 1,\n",
       " 'display': 5,\n",
       " 'items': [{'title': '<b>몰스킨</b> 2024 위클리 18개월 다이어리 하드커버 상품선택',\n",
       "   'link': 'https://search.shopping.naver.com/gate.nhn?id=39992373021',\n",
       "   'image': 'https://shopping-phinf.pstatic.net/main_3999237/39992373021.20230513055543.jpg',\n",
       "   'lprice': '30260',\n",
       "   'hprice': '',\n",
       "   'mallName': '네이버',\n",
       "   'productId': '39992373021',\n",
       "   'productType': '1',\n",
       "   'brand': '몰스킨',\n",
       "   'maker': '몰스킨',\n",
       "   'category1': '생활/건강',\n",
       "   'category2': '문구/사무용품',\n",
       "   'category3': '다이어리/플래너',\n",
       "   'category4': '다이어리'},\n",
       "  {'title': '<b>몰스킨</b> 클래식노트 플레인 소프트커버 포켓 Pocket',\n",
       "   'link': 'https://search.shopping.naver.com/gate.nhn?id=30656121375',\n",
       "   'image': 'https://shopping-phinf.pstatic.net/main_3065612/30656121375.20220124025746.jpg',\n",
       "   'lprice': '21379',\n",
       "   'hprice': '',\n",
       "   'mallName': '네이버',\n",
       "   'productId': '30656121375',\n",
       "   'productType': '1',\n",
       "   'brand': '몰스킨',\n",
       "   'maker': '',\n",
       "   'category1': '생활/건강',\n",
       "   'category2': '문구/사무용품',\n",
       "   'category3': '노트/수첩',\n",
       "   'category4': '노트'},\n",
       "  {'title': '<b>몰스킨</b> <b>몰스킨</b> 2024 데일리 18개월 다이어리 라지 커버선택',\n",
       "   'link': 'https://search.shopping.naver.com/gate.nhn?id=40100046083',\n",
       "   'image': 'https://shopping-phinf.pstatic.net/main_4010004/40100046083.20230526044002.jpg',\n",
       "   'lprice': '46800',\n",
       "   'hprice': '',\n",
       "   'mallName': '네이버',\n",
       "   'productId': '40100046083',\n",
       "   'productType': '1',\n",
       "   'brand': '몰스킨',\n",
       "   'maker': '',\n",
       "   'category1': '생활/건강',\n",
       "   'category2': '문구/사무용품',\n",
       "   'category3': '다이어리/플래너',\n",
       "   'category4': '다이어리'},\n",
       "  {'title': '[<b>몰스킨</b>] 2023-24년 18개월 다이어리(데일리, 위클리)',\n",
       "   'link': 'https://search.shopping.naver.com/gate.nhn?id=39859450686',\n",
       "   'image': 'https://shopping-phinf.pstatic.net/main_3985945/39859450686.jpg',\n",
       "   'lprice': '35000',\n",
       "   'hprice': '',\n",
       "   'mallName': '몰스킨공식온라인스토어',\n",
       "   'productId': '39859450686',\n",
       "   'productType': '2',\n",
       "   'brand': '몰스킨',\n",
       "   'maker': '',\n",
       "   'category1': '생활/건강',\n",
       "   'category2': '문구/사무용품',\n",
       "   'category3': '다이어리/플래너',\n",
       "   'category4': '다이어리'},\n",
       "  {'title': '<b>몰스킨</b> 클래식노트 룰드 하이드레인저블루 소프트커버 포켓 Pocket',\n",
       "   'link': 'https://search.shopping.naver.com/gate.nhn?id=38102873867',\n",
       "   'image': 'https://shopping-phinf.pstatic.net/main_3810287/38102873867.20230219215959.jpg',\n",
       "   'lprice': '19400',\n",
       "   'hprice': '',\n",
       "   'mallName': '네이버',\n",
       "   'productId': '38102873867',\n",
       "   'productType': '1',\n",
       "   'brand': '',\n",
       "   'maker': '',\n",
       "   'category1': '생활/건강',\n",
       "   'category2': '문구/사무용품',\n",
       "   'category3': '다이어리/플래너',\n",
       "   'category4': '다이어리'}]}"
      ]
     },
     "execution_count": 42,
     "metadata": {},
     "output_type": "execute_result"
    }
   ],
   "source": [
    "one_result"
   ]
  },
  {
   "cell_type": "code",
   "execution_count": 43,
   "id": "492b992d",
   "metadata": {
    "scrolled": true
   },
   "outputs": [
    {
     "data": {
      "text/plain": [
       "[{'title': '<b>몰스킨</b> 2024 위클리 18개월 다이어리 하드커버 상품선택',\n",
       "  'link': 'https://search.shopping.naver.com/gate.nhn?id=39992373021',\n",
       "  'image': 'https://shopping-phinf.pstatic.net/main_3999237/39992373021.20230513055543.jpg',\n",
       "  'lprice': '30260',\n",
       "  'hprice': '',\n",
       "  'mallName': '네이버',\n",
       "  'productId': '39992373021',\n",
       "  'productType': '1',\n",
       "  'brand': '몰스킨',\n",
       "  'maker': '몰스킨',\n",
       "  'category1': '생활/건강',\n",
       "  'category2': '문구/사무용품',\n",
       "  'category3': '다이어리/플래너',\n",
       "  'category4': '다이어리'},\n",
       " {'title': '<b>몰스킨</b> 클래식노트 플레인 소프트커버 포켓 Pocket',\n",
       "  'link': 'https://search.shopping.naver.com/gate.nhn?id=30656121375',\n",
       "  'image': 'https://shopping-phinf.pstatic.net/main_3065612/30656121375.20220124025746.jpg',\n",
       "  'lprice': '21379',\n",
       "  'hprice': '',\n",
       "  'mallName': '네이버',\n",
       "  'productId': '30656121375',\n",
       "  'productType': '1',\n",
       "  'brand': '몰스킨',\n",
       "  'maker': '',\n",
       "  'category1': '생활/건강',\n",
       "  'category2': '문구/사무용품',\n",
       "  'category3': '노트/수첩',\n",
       "  'category4': '노트'},\n",
       " {'title': '<b>몰스킨</b> <b>몰스킨</b> 2024 데일리 18개월 다이어리 라지 커버선택',\n",
       "  'link': 'https://search.shopping.naver.com/gate.nhn?id=40100046083',\n",
       "  'image': 'https://shopping-phinf.pstatic.net/main_4010004/40100046083.20230526044002.jpg',\n",
       "  'lprice': '46800',\n",
       "  'hprice': '',\n",
       "  'mallName': '네이버',\n",
       "  'productId': '40100046083',\n",
       "  'productType': '1',\n",
       "  'brand': '몰스킨',\n",
       "  'maker': '',\n",
       "  'category1': '생활/건강',\n",
       "  'category2': '문구/사무용품',\n",
       "  'category3': '다이어리/플래너',\n",
       "  'category4': '다이어리'},\n",
       " {'title': '[<b>몰스킨</b>] 2023-24년 18개월 다이어리(데일리, 위클리)',\n",
       "  'link': 'https://search.shopping.naver.com/gate.nhn?id=39859450686',\n",
       "  'image': 'https://shopping-phinf.pstatic.net/main_3985945/39859450686.jpg',\n",
       "  'lprice': '35000',\n",
       "  'hprice': '',\n",
       "  'mallName': '몰스킨공식온라인스토어',\n",
       "  'productId': '39859450686',\n",
       "  'productType': '2',\n",
       "  'brand': '몰스킨',\n",
       "  'maker': '',\n",
       "  'category1': '생활/건강',\n",
       "  'category2': '문구/사무용품',\n",
       "  'category3': '다이어리/플래너',\n",
       "  'category4': '다이어리'},\n",
       " {'title': '<b>몰스킨</b> 클래식노트 룰드 하이드레인저블루 소프트커버 포켓 Pocket',\n",
       "  'link': 'https://search.shopping.naver.com/gate.nhn?id=38102873867',\n",
       "  'image': 'https://shopping-phinf.pstatic.net/main_3810287/38102873867.20230219215959.jpg',\n",
       "  'lprice': '19400',\n",
       "  'hprice': '',\n",
       "  'mallName': '네이버',\n",
       "  'productId': '38102873867',\n",
       "  'productType': '1',\n",
       "  'brand': '',\n",
       "  'maker': '',\n",
       "  'category1': '생활/건강',\n",
       "  'category2': '문구/사무용품',\n",
       "  'category3': '다이어리/플래너',\n",
       "  'category4': '다이어리'}]"
      ]
     },
     "execution_count": 43,
     "metadata": {},
     "output_type": "execute_result"
    }
   ],
   "source": [
    "one_result[\"items\"]"
   ]
  },
  {
   "cell_type": "code",
   "execution_count": 44,
   "id": "afb79337",
   "metadata": {},
   "outputs": [
    {
     "data": {
      "text/plain": [
       "{'title': '<b>몰스킨</b> 2024 위클리 18개월 다이어리 하드커버 상품선택',\n",
       " 'link': 'https://search.shopping.naver.com/gate.nhn?id=39992373021',\n",
       " 'image': 'https://shopping-phinf.pstatic.net/main_3999237/39992373021.20230513055543.jpg',\n",
       " 'lprice': '30260',\n",
       " 'hprice': '',\n",
       " 'mallName': '네이버',\n",
       " 'productId': '39992373021',\n",
       " 'productType': '1',\n",
       " 'brand': '몰스킨',\n",
       " 'maker': '몰스킨',\n",
       " 'category1': '생활/건강',\n",
       " 'category2': '문구/사무용품',\n",
       " 'category3': '다이어리/플래너',\n",
       " 'category4': '다이어리'}"
      ]
     },
     "execution_count": 44,
     "metadata": {},
     "output_type": "execute_result"
    }
   ],
   "source": [
    "one_result[\"items\"][0]"
   ]
  },
  {
   "cell_type": "code",
   "execution_count": 45,
   "id": "872c8bd6",
   "metadata": {},
   "outputs": [
    {
     "data": {
      "text/plain": [
       "'<b>몰스킨</b> 2024 위클리 18개월 다이어리 하드커버 상품선택'"
      ]
     },
     "execution_count": 45,
     "metadata": {},
     "output_type": "execute_result"
    }
   ],
   "source": [
    "one_result[\"items\"][0][\"title\"]"
   ]
  },
  {
   "cell_type": "code",
   "execution_count": 46,
   "id": "a791d485",
   "metadata": {},
   "outputs": [
    {
     "data": {
      "text/plain": [
       "'https://search.shopping.naver.com/gate.nhn?id=39992373021'"
      ]
     },
     "execution_count": 46,
     "metadata": {},
     "output_type": "execute_result"
    }
   ],
   "source": [
    "one_result[\"items\"][0][\"link\"]"
   ]
  },
  {
   "cell_type": "code",
   "execution_count": 47,
   "id": "12f3a5c0",
   "metadata": {},
   "outputs": [
    {
     "data": {
      "text/plain": [
       "'30260'"
      ]
     },
     "execution_count": 47,
     "metadata": {},
     "output_type": "execute_result"
    }
   ],
   "source": [
    "one_result[\"items\"][0][\"lprice\"]"
   ]
  },
  {
   "cell_type": "code",
   "execution_count": 48,
   "id": "e6775775",
   "metadata": {},
   "outputs": [
    {
     "data": {
      "text/plain": [
       "'네이버'"
      ]
     },
     "execution_count": 48,
     "metadata": {},
     "output_type": "execute_result"
    }
   ],
   "source": [
    "one_result[\"items\"][0][\"mallName\"]"
   ]
  },
  {
   "cell_type": "markdown",
   "id": "26e8d083",
   "metadata": {},
   "source": [
    "# 3. get_fields( )"
   ]
  },
  {
   "cell_type": "code",
   "execution_count": 56,
   "id": "aa8bf254",
   "metadata": {},
   "outputs": [],
   "source": [
    "import pandas as pd\n",
    "\n",
    "def get_fields(json_data):\n",
    "    # title에 <b>, </b> 지워주는 함수 적용\n",
    "    title = [delete_tag(each[\"title\"])for each in json_data[\"items\"]]\n",
    "    link = [each[\"link\"] for each in json_data[\"items\"]]\n",
    "    lprice = [each[\"lprice\"] for each in json_data[\"items\"]]\n",
    "    mall_name = [each[\"mallName\"] for each in json_data[\"items\"]]\n",
    "    \n",
    "    result_pd = pd.DataFrame({\n",
    "        \"title\": title,\n",
    "        \"link\": link,\n",
    "        \"lprice\": lprice,\n",
    "        \"mall_name\": mall_name\n",
    "    }, columns=[\"title\", \"lprice\", \"link\", \"mall_name\"])\n",
    "    return result_pd"
   ]
  },
  {
   "cell_type": "code",
   "execution_count": 57,
   "id": "13a1de64",
   "metadata": {},
   "outputs": [
    {
     "data": {
      "text/html": [
       "<div>\n",
       "<style scoped>\n",
       "    .dataframe tbody tr th:only-of-type {\n",
       "        vertical-align: middle;\n",
       "    }\n",
       "\n",
       "    .dataframe tbody tr th {\n",
       "        vertical-align: top;\n",
       "    }\n",
       "\n",
       "    .dataframe thead th {\n",
       "        text-align: right;\n",
       "    }\n",
       "</style>\n",
       "<table border=\"1\" class=\"dataframe\">\n",
       "  <thead>\n",
       "    <tr style=\"text-align: right;\">\n",
       "      <th></th>\n",
       "      <th>title</th>\n",
       "      <th>lprice</th>\n",
       "      <th>link</th>\n",
       "      <th>mall_name</th>\n",
       "    </tr>\n",
       "  </thead>\n",
       "  <tbody>\n",
       "    <tr>\n",
       "      <th>0</th>\n",
       "      <td>몰스킨 2024 위클리 18개월 다이어리 하드커버 상품선택</td>\n",
       "      <td>30260</td>\n",
       "      <td>https://search.shopping.naver.com/gate.nhn?id=...</td>\n",
       "      <td>네이버</td>\n",
       "    </tr>\n",
       "    <tr>\n",
       "      <th>1</th>\n",
       "      <td>몰스킨 클래식노트 플레인 소프트커버 포켓 Pocket</td>\n",
       "      <td>21379</td>\n",
       "      <td>https://search.shopping.naver.com/gate.nhn?id=...</td>\n",
       "      <td>네이버</td>\n",
       "    </tr>\n",
       "    <tr>\n",
       "      <th>2</th>\n",
       "      <td>몰스킨 몰스킨 2024 데일리 18개월 다이어리 라지 커버선택</td>\n",
       "      <td>46800</td>\n",
       "      <td>https://search.shopping.naver.com/gate.nhn?id=...</td>\n",
       "      <td>네이버</td>\n",
       "    </tr>\n",
       "    <tr>\n",
       "      <th>3</th>\n",
       "      <td>[몰스킨] 2023-24년 18개월 다이어리(데일리, 위클리)</td>\n",
       "      <td>35000</td>\n",
       "      <td>https://search.shopping.naver.com/gate.nhn?id=...</td>\n",
       "      <td>몰스킨공식온라인스토어</td>\n",
       "    </tr>\n",
       "    <tr>\n",
       "      <th>4</th>\n",
       "      <td>몰스킨 클래식노트 룰드 하이드레인저블루 소프트커버 포켓 Pocket</td>\n",
       "      <td>19400</td>\n",
       "      <td>https://search.shopping.naver.com/gate.nhn?id=...</td>\n",
       "      <td>네이버</td>\n",
       "    </tr>\n",
       "  </tbody>\n",
       "</table>\n",
       "</div>"
      ],
      "text/plain": [
       "                                   title lprice  \\\n",
       "0       몰스킨 2024 위클리 18개월 다이어리 하드커버 상품선택  30260   \n",
       "1          몰스킨 클래식노트 플레인 소프트커버 포켓 Pocket  21379   \n",
       "2     몰스킨 몰스킨 2024 데일리 18개월 다이어리 라지 커버선택  46800   \n",
       "3     [몰스킨] 2023-24년 18개월 다이어리(데일리, 위클리)  35000   \n",
       "4  몰스킨 클래식노트 룰드 하이드레인저블루 소프트커버 포켓 Pocket  19400   \n",
       "\n",
       "                                                link    mall_name  \n",
       "0  https://search.shopping.naver.com/gate.nhn?id=...          네이버  \n",
       "1  https://search.shopping.naver.com/gate.nhn?id=...          네이버  \n",
       "2  https://search.shopping.naver.com/gate.nhn?id=...          네이버  \n",
       "3  https://search.shopping.naver.com/gate.nhn?id=...  몰스킨공식온라인스토어  \n",
       "4  https://search.shopping.naver.com/gate.nhn?id=...          네이버  "
      ]
     },
     "execution_count": 57,
     "metadata": {},
     "output_type": "execute_result"
    }
   ],
   "source": [
    "get_fields(one_result)"
   ]
  },
  {
   "cell_type": "markdown",
   "id": "bff3be28",
   "metadata": {},
   "source": [
    "# 4. delete_tag()"
   ]
  },
  {
   "cell_type": "code",
   "execution_count": 55,
   "id": "09c241ff",
   "metadata": {},
   "outputs": [],
   "source": [
    "def delete_tag(input_str):\n",
    "    input_str = input_str.replace(\"<b>\", \"\")\n",
    "    input_str = input_str.replace(\"</b>\", \"\")\n",
    "    return input_str"
   ]
  },
  {
   "cell_type": "markdown",
   "id": "20462d8d",
   "metadata": {},
   "source": [
    "# 중간 정리"
   ]
  },
  {
   "cell_type": "code",
   "execution_count": 60,
   "id": "cb158cd2",
   "metadata": {},
   "outputs": [
    {
     "name": "stdout",
     "output_type": "stream",
     "text": [
      "[2023-08-17 02:53:01.225456] Url Request Success\n"
     ]
    }
   ],
   "source": [
    "url = gen_search_url(\"shop\", \"몰스킨\", 1 ,5)\n",
    "json_result = get_result_onepage(url)\n",
    "pd_result = get_fields(json_result)"
   ]
  },
  {
   "cell_type": "code",
   "execution_count": 61,
   "id": "7b3019a5",
   "metadata": {},
   "outputs": [
    {
     "data": {
      "text/html": [
       "<div>\n",
       "<style scoped>\n",
       "    .dataframe tbody tr th:only-of-type {\n",
       "        vertical-align: middle;\n",
       "    }\n",
       "\n",
       "    .dataframe tbody tr th {\n",
       "        vertical-align: top;\n",
       "    }\n",
       "\n",
       "    .dataframe thead th {\n",
       "        text-align: right;\n",
       "    }\n",
       "</style>\n",
       "<table border=\"1\" class=\"dataframe\">\n",
       "  <thead>\n",
       "    <tr style=\"text-align: right;\">\n",
       "      <th></th>\n",
       "      <th>title</th>\n",
       "      <th>lprice</th>\n",
       "      <th>link</th>\n",
       "      <th>mall_name</th>\n",
       "    </tr>\n",
       "  </thead>\n",
       "  <tbody>\n",
       "    <tr>\n",
       "      <th>0</th>\n",
       "      <td>몰스킨 2024 위클리 18개월 다이어리 하드커버 상품선택</td>\n",
       "      <td>30260</td>\n",
       "      <td>https://search.shopping.naver.com/gate.nhn?id=...</td>\n",
       "      <td>네이버</td>\n",
       "    </tr>\n",
       "    <tr>\n",
       "      <th>1</th>\n",
       "      <td>몰스킨 클래식노트 플레인 소프트커버 포켓 Pocket</td>\n",
       "      <td>21379</td>\n",
       "      <td>https://search.shopping.naver.com/gate.nhn?id=...</td>\n",
       "      <td>네이버</td>\n",
       "    </tr>\n",
       "    <tr>\n",
       "      <th>2</th>\n",
       "      <td>몰스킨 몰스킨 2024 데일리 18개월 다이어리 라지 커버선택</td>\n",
       "      <td>46800</td>\n",
       "      <td>https://search.shopping.naver.com/gate.nhn?id=...</td>\n",
       "      <td>네이버</td>\n",
       "    </tr>\n",
       "    <tr>\n",
       "      <th>3</th>\n",
       "      <td>[몰스킨] 2023-24년 18개월 다이어리(데일리, 위클리)</td>\n",
       "      <td>35000</td>\n",
       "      <td>https://search.shopping.naver.com/gate.nhn?id=...</td>\n",
       "      <td>몰스킨공식온라인스토어</td>\n",
       "    </tr>\n",
       "    <tr>\n",
       "      <th>4</th>\n",
       "      <td>몰스킨 클래식노트 룰드 하이드레인저블루 소프트커버 포켓 Pocket</td>\n",
       "      <td>19400</td>\n",
       "      <td>https://search.shopping.naver.com/gate.nhn?id=...</td>\n",
       "      <td>네이버</td>\n",
       "    </tr>\n",
       "  </tbody>\n",
       "</table>\n",
       "</div>"
      ],
      "text/plain": [
       "                                   title lprice  \\\n",
       "0       몰스킨 2024 위클리 18개월 다이어리 하드커버 상품선택  30260   \n",
       "1          몰스킨 클래식노트 플레인 소프트커버 포켓 Pocket  21379   \n",
       "2     몰스킨 몰스킨 2024 데일리 18개월 다이어리 라지 커버선택  46800   \n",
       "3     [몰스킨] 2023-24년 18개월 다이어리(데일리, 위클리)  35000   \n",
       "4  몰스킨 클래식노트 룰드 하이드레인저블루 소프트커버 포켓 Pocket  19400   \n",
       "\n",
       "                                                link    mall_name  \n",
       "0  https://search.shopping.naver.com/gate.nhn?id=...          네이버  \n",
       "1  https://search.shopping.naver.com/gate.nhn?id=...          네이버  \n",
       "2  https://search.shopping.naver.com/gate.nhn?id=...          네이버  \n",
       "3  https://search.shopping.naver.com/gate.nhn?id=...  몰스킨공식온라인스토어  \n",
       "4  https://search.shopping.naver.com/gate.nhn?id=...          네이버  "
      ]
     },
     "execution_count": 61,
     "metadata": {},
     "output_type": "execute_result"
    }
   ],
   "source": [
    "pd_result"
   ]
  },
  {
   "cell_type": "markdown",
   "id": "70cb1426",
   "metadata": {},
   "source": [
    "# 5. actMain( )"
   ]
  },
  {
   "cell_type": "code",
   "execution_count": 64,
   "id": "17a5636f",
   "metadata": {},
   "outputs": [
    {
     "name": "stdout",
     "output_type": "stream",
     "text": [
      "[2023-08-17 02:56:07.906690] Url Request Success\n",
      "[2023-08-17 02:56:08.230173] Url Request Success\n",
      "[2023-08-17 02:56:08.540380] Url Request Success\n",
      "[2023-08-17 02:56:08.861547] Url Request Success\n",
      "[2023-08-17 02:56:09.143233] Url Request Success\n",
      "[2023-08-17 02:56:09.463471] Url Request Success\n",
      "[2023-08-17 02:56:09.792182] Url Request Success\n",
      "[2023-08-17 02:56:10.092654] Url Request Success\n",
      "[2023-08-17 02:56:10.445959] Url Request Success\n",
      "[2023-08-17 02:56:10.765557] Url Request Success\n"
     ]
    }
   ],
   "source": [
    "result_mol = []\n",
    "\n",
    "for n in range(1, 1000, 100):\n",
    "    url = gen_search_url(\"shop\", \"몰스킨\", n ,100)\n",
    "    json_result = get_result_onepage(url)\n",
    "    pd_result = get_fields(json_result)\n",
    "    \n",
    "    result_mol.append(pd_result)\n",
    "\n",
    "result_mol = pd.concat(result_mol)"
   ]
  },
  {
   "cell_type": "code",
   "execution_count": 65,
   "id": "815709ba",
   "metadata": {},
   "outputs": [
    {
     "name": "stdout",
     "output_type": "stream",
     "text": [
      "<class 'pandas.core.frame.DataFrame'>\n",
      "Int64Index: 1000 entries, 0 to 99\n",
      "Data columns (total 4 columns):\n",
      " #   Column     Non-Null Count  Dtype \n",
      "---  ------     --------------  ----- \n",
      " 0   title      1000 non-null   object\n",
      " 1   lprice     1000 non-null   object\n",
      " 2   link       1000 non-null   object\n",
      " 3   mall_name  1000 non-null   object\n",
      "dtypes: object(4)\n",
      "memory usage: 39.1+ KB\n"
     ]
    }
   ],
   "source": [
    "result_mol.info()\n",
    "# Int64Index: 1000 entries, 0 to 99"
   ]
  },
  {
   "cell_type": "code",
   "execution_count": 66,
   "id": "df746518",
   "metadata": {},
   "outputs": [],
   "source": [
    "result_mol.reset_index(drop=True, inplace=True)"
   ]
  },
  {
   "cell_type": "code",
   "execution_count": 67,
   "id": "ff758f40",
   "metadata": {},
   "outputs": [
    {
     "name": "stdout",
     "output_type": "stream",
     "text": [
      "<class 'pandas.core.frame.DataFrame'>\n",
      "RangeIndex: 1000 entries, 0 to 999\n",
      "Data columns (total 4 columns):\n",
      " #   Column     Non-Null Count  Dtype \n",
      "---  ------     --------------  ----- \n",
      " 0   title      1000 non-null   object\n",
      " 1   lprice     1000 non-null   object\n",
      " 2   link       1000 non-null   object\n",
      " 3   mall_name  1000 non-null   object\n",
      "dtypes: object(4)\n",
      "memory usage: 31.4+ KB\n"
     ]
    }
   ],
   "source": [
    "result_mol.info()\n",
    "# RangeIndex: 1000 entries, 0 to 999"
   ]
  },
  {
   "cell_type": "code",
   "execution_count": 70,
   "id": "71df7a6a",
   "metadata": {},
   "outputs": [],
   "source": [
    "result_mol[\"lprice\"] = result_mol[\"lprice\"].astype(\"float\")"
   ]
  },
  {
   "cell_type": "code",
   "execution_count": 71,
   "id": "655eea0b",
   "metadata": {},
   "outputs": [
    {
     "name": "stdout",
     "output_type": "stream",
     "text": [
      "<class 'pandas.core.frame.DataFrame'>\n",
      "RangeIndex: 1000 entries, 0 to 999\n",
      "Data columns (total 4 columns):\n",
      " #   Column     Non-Null Count  Dtype  \n",
      "---  ------     --------------  -----  \n",
      " 0   title      1000 non-null   object \n",
      " 1   lprice     1000 non-null   float64\n",
      " 2   link       1000 non-null   object \n",
      " 3   mall_name  1000 non-null   object \n",
      "dtypes: float64(1), object(3)\n",
      "memory usage: 31.4+ KB\n"
     ]
    }
   ],
   "source": [
    "result_mol.info()"
   ]
  },
  {
   "cell_type": "code",
   "execution_count": 72,
   "id": "de2e2764",
   "metadata": {},
   "outputs": [],
   "source": [
    "result_mol.to_csv(\"./result_mol.csv\", encoding = 'utf-8')"
   ]
  },
  {
   "cell_type": "markdown",
   "id": "08d37872",
   "metadata": {},
   "source": [
    "# 6. to_excel( )"
   ]
  },
  {
   "cell_type": "markdown",
   "id": "60c84867",
   "metadata": {},
   "source": [
    "### 설치\n",
    "~~~python\n",
    "!pip install xlsxwriter\n",
    "~~~"
   ]
  },
  {
   "cell_type": "code",
   "execution_count": 2,
   "id": "b0e5caf9",
   "metadata": {},
   "outputs": [],
   "source": [
    "import pandas as pd"
   ]
  },
  {
   "cell_type": "code",
   "execution_count": 3,
   "id": "759c753b",
   "metadata": {},
   "outputs": [],
   "source": [
    "result_mol = pd.read_csv(\"./result_mol.csv\", index_col=0, encoding=\"utf-8\")"
   ]
  },
  {
   "cell_type": "code",
   "execution_count": 16,
   "id": "61a2f4de",
   "metadata": {},
   "outputs": [
    {
     "data": {
      "text/html": [
       "<div>\n",
       "<style scoped>\n",
       "    .dataframe tbody tr th:only-of-type {\n",
       "        vertical-align: middle;\n",
       "    }\n",
       "\n",
       "    .dataframe tbody tr th {\n",
       "        vertical-align: top;\n",
       "    }\n",
       "\n",
       "    .dataframe thead th {\n",
       "        text-align: right;\n",
       "    }\n",
       "</style>\n",
       "<table border=\"1\" class=\"dataframe\">\n",
       "  <thead>\n",
       "    <tr style=\"text-align: right;\">\n",
       "      <th></th>\n",
       "      <th>title</th>\n",
       "      <th>lprice</th>\n",
       "      <th>link</th>\n",
       "      <th>mall_name</th>\n",
       "    </tr>\n",
       "  </thead>\n",
       "  <tbody>\n",
       "    <tr>\n",
       "      <th>0</th>\n",
       "      <td>몰스킨 2024 위클리 18개월 다이어리 하드커버 상품선택</td>\n",
       "      <td>30260.0</td>\n",
       "      <td>https://search.shopping.naver.com/gate.nhn?id=...</td>\n",
       "      <td>네이버</td>\n",
       "    </tr>\n",
       "    <tr>\n",
       "      <th>1</th>\n",
       "      <td>몰스킨 클래식노트 플레인 소프트커버 포켓 Pocket</td>\n",
       "      <td>21379.0</td>\n",
       "      <td>https://search.shopping.naver.com/gate.nhn?id=...</td>\n",
       "      <td>네이버</td>\n",
       "    </tr>\n",
       "    <tr>\n",
       "      <th>2</th>\n",
       "      <td>몰스킨 몰스킨 2024 데일리 18개월 다이어리 라지 커버선택</td>\n",
       "      <td>46800.0</td>\n",
       "      <td>https://search.shopping.naver.com/gate.nhn?id=...</td>\n",
       "      <td>네이버</td>\n",
       "    </tr>\n",
       "    <tr>\n",
       "      <th>3</th>\n",
       "      <td>[몰스킨] 2023-24년 18개월 다이어리(데일리, 위클리)</td>\n",
       "      <td>35000.0</td>\n",
       "      <td>https://search.shopping.naver.com/gate.nhn?id=...</td>\n",
       "      <td>몰스킨공식온라인스토어</td>\n",
       "    </tr>\n",
       "    <tr>\n",
       "      <th>4</th>\n",
       "      <td>몰스킨 클래식노트 룰드 하이드레인저블루 소프트커버 포켓 Pocket</td>\n",
       "      <td>19400.0</td>\n",
       "      <td>https://search.shopping.naver.com/gate.nhn?id=...</td>\n",
       "      <td>네이버</td>\n",
       "    </tr>\n",
       "    <tr>\n",
       "      <th>...</th>\n",
       "      <td>...</td>\n",
       "      <td>...</td>\n",
       "      <td>...</td>\n",
       "      <td>...</td>\n",
       "    </tr>\n",
       "    <tr>\n",
       "      <th>995</th>\n",
       "      <td>하드커버다이어리 시스템다이어리 몰스킨 스케쥴러 공책 기자 줄 메모</td>\n",
       "      <td>6200.0</td>\n",
       "      <td>https://search.shopping.naver.com/gate.nhn?id=...</td>\n",
       "      <td>네이버</td>\n",
       "    </tr>\n",
       "    <tr>\n",
       "      <th>996</th>\n",
       "      <td>몰스킨 한정판 무료각인-드래곤볼 도트 무천도사 -라지</td>\n",
       "      <td>33660.0</td>\n",
       "      <td>https://search.shopping.naver.com/gate.nhn?id=...</td>\n",
       "      <td>네이버</td>\n",
       "    </tr>\n",
       "    <tr>\n",
       "      <th>997</th>\n",
       "      <td>몰스킨 무료각인 도트 노트 하드 엑스라지 -블랙</td>\n",
       "      <td>40790.0</td>\n",
       "      <td>https://search.shopping.naver.com/gate.nhn?id=...</td>\n",
       "      <td>네이버</td>\n",
       "    </tr>\n",
       "    <tr>\n",
       "      <th>998</th>\n",
       "      <td>몰스킨 무료각인 룰드 노트 익스팬디드 하드 라지 -사파이어블루</td>\n",
       "      <td>41810.0</td>\n",
       "      <td>https://search.shopping.naver.com/gate.nhn?id=...</td>\n",
       "      <td>네이버</td>\n",
       "    </tr>\n",
       "    <tr>\n",
       "      <th>999</th>\n",
       "      <td>무료각인 몰스킨 스퀘어드 스칼렛레드 하드 엑스라지</td>\n",
       "      <td>40790.0</td>\n",
       "      <td>https://search.shopping.naver.com/gate.nhn?id=...</td>\n",
       "      <td>네이버</td>\n",
       "    </tr>\n",
       "  </tbody>\n",
       "</table>\n",
       "<p>1000 rows × 4 columns</p>\n",
       "</div>"
      ],
      "text/plain": [
       "                                     title   lprice  \\\n",
       "0         몰스킨 2024 위클리 18개월 다이어리 하드커버 상품선택  30260.0   \n",
       "1            몰스킨 클래식노트 플레인 소프트커버 포켓 Pocket  21379.0   \n",
       "2       몰스킨 몰스킨 2024 데일리 18개월 다이어리 라지 커버선택  46800.0   \n",
       "3       [몰스킨] 2023-24년 18개월 다이어리(데일리, 위클리)  35000.0   \n",
       "4    몰스킨 클래식노트 룰드 하이드레인저블루 소프트커버 포켓 Pocket  19400.0   \n",
       "..                                     ...      ...   \n",
       "995   하드커버다이어리 시스템다이어리 몰스킨 스케쥴러 공책 기자 줄 메모   6200.0   \n",
       "996          몰스킨 한정판 무료각인-드래곤볼 도트 무천도사 -라지  33660.0   \n",
       "997             몰스킨 무료각인 도트 노트 하드 엑스라지 -블랙  40790.0   \n",
       "998     몰스킨 무료각인 룰드 노트 익스팬디드 하드 라지 -사파이어블루  41810.0   \n",
       "999            무료각인 몰스킨 스퀘어드 스칼렛레드 하드 엑스라지  40790.0   \n",
       "\n",
       "                                                  link    mall_name  \n",
       "0    https://search.shopping.naver.com/gate.nhn?id=...          네이버  \n",
       "1    https://search.shopping.naver.com/gate.nhn?id=...          네이버  \n",
       "2    https://search.shopping.naver.com/gate.nhn?id=...          네이버  \n",
       "3    https://search.shopping.naver.com/gate.nhn?id=...  몰스킨공식온라인스토어  \n",
       "4    https://search.shopping.naver.com/gate.nhn?id=...          네이버  \n",
       "..                                                 ...          ...  \n",
       "995  https://search.shopping.naver.com/gate.nhn?id=...          네이버  \n",
       "996  https://search.shopping.naver.com/gate.nhn?id=...          네이버  \n",
       "997  https://search.shopping.naver.com/gate.nhn?id=...          네이버  \n",
       "998  https://search.shopping.naver.com/gate.nhn?id=...          네이버  \n",
       "999  https://search.shopping.naver.com/gate.nhn?id=...          네이버  \n",
       "\n",
       "[1000 rows x 4 columns]"
      ]
     },
     "execution_count": 16,
     "metadata": {},
     "output_type": "execute_result"
    }
   ],
   "source": [
    "result_mol"
   ]
  },
  {
   "cell_type": "code",
   "execution_count": 7,
   "id": "19e100ab",
   "metadata": {},
   "outputs": [
    {
     "name": "stderr",
     "output_type": "stream",
     "text": [
      "/var/folders/nc/lry6d8ws417_mblykm_8wpc40000gn/T/ipykernel_3178/1191283873.py:14: FutureWarning: save is not part of the public API, usage can give unexpected results and will be removed in a future version\n",
      "  writer.save()\n"
     ]
    }
   ],
   "source": [
    "writer = pd.ExcelWriter(\"./06_molskin_diary_in_naver_shop.xlsx\", engine=\"xlsxwriter\")\n",
    "result_mol.to_excel(writer, sheet_name=\"Sheet1\")\n",
    "\n",
    "workbook = writer.book\n",
    "worksheet = writer.sheets[\"Sheet1\"]\n",
    "worksheet.set_column(\"A:A\", 4)\n",
    "worksheet.set_column(\"B:B\", 60)\n",
    "worksheet.set_column(\"C:C\", 10)\n",
    "worksheet.set_column(\"D:D\", 10)\n",
    "worksheet.set_column(\"E:E\", 50)\n",
    "worksheet.set_column(\"F:F\", 10)\n",
    "\n",
    "worksheet.conditional_format(\"C2:C1001\", {\"type\": \"3_color_scale\"})\n",
    "writer.save()"
   ]
  },
  {
   "cell_type": "markdown",
   "id": "e89d1f5e",
   "metadata": {},
   "source": [
    "# 7. 시각화"
   ]
  },
  {
   "cell_type": "code",
   "execution_count": 9,
   "id": "58f9e33b",
   "metadata": {},
   "outputs": [
    {
     "name": "stdout",
     "output_type": "stream",
     "text": [
      "Hangil OK in your MAC!!!\n"
     ]
    }
   ],
   "source": [
    "import platform\n",
    "import matplotlib.pyplot as plt\n",
    "from matplotlib import font_manager, rc\n",
    "\n",
    "path = \"c:/Windows/Fonts/malgun.ttf\"\n",
    "\n",
    "if platform.system() == \"Darwin\":\n",
    "    print(\"Hangil OK in your MAC!!!\")\n",
    "    rc(\"font\", family=\"Arial Unicode MS\")\n",
    "elif platform.system() == \"Windows\":\n",
    "    font_name = font_manager.FontProperties(fname=path).get_name()\n",
    "    rc(\"font\", family=font_name)\n",
    "else:\n",
    "    print(\"Unknown system.. sorry~~~\")\n",
    "    \n",
    "plt.rcParams[\"axes.unicode_minus\"] = False"
   ]
  },
  {
   "cell_type": "code",
   "execution_count": 11,
   "id": "63ea28a1",
   "metadata": {},
   "outputs": [],
   "source": [
    "import seaborn as sns"
   ]
  },
  {
   "cell_type": "code",
   "execution_count": 22,
   "id": "65f5001e",
   "metadata": {},
   "outputs": [
    {
     "data": {
      "image/png": "[encoded data removed]",
      "text/plain": [
       "<Figure size 1500x600 with 1 Axes>"
      ]
     },
     "metadata": {},
     "output_type": "display_data"
    }
   ],
   "source": [
    "plt.figure(figsize=(15,6))\n",
    "sns.countplot(\n",
    "    x = \"mall_name\",\n",
    "    data=result_mol,\n",
    "    palette=\"RdYlGn\",\n",
    "    order=result_mol[\"mall_name\"].value_counts().index\n",
    ")\n",
    "plt.xticks(rotation=90)\n",
    "plt.show()"
   ]
  }
 ],
 "metadata": {
  "kernelspec": {
   "display_name": "Python 3 (ipykernel)",
   "language": "python",
   "name": "python3"
  },
  "language_info": {
   "codemirror_mode": {
    "name": "ipython",
    "version": 3
   },
   "file_extension": ".py",
   "mimetype": "text/x-python",
   "name": "python",
   "nbconvert_exporter": "python",
   "pygments_lexer": "ipython3",
   "version": "3.9.16"
  }
 },
 "nbformat": 4,
 "nbformat_minor": 5
}
