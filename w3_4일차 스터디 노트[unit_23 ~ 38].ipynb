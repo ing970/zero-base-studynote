{
 "cells": [
  {
   "cell_type": "markdown",
   "id": "d6ebe005",
   "metadata": {},
   "source": [
    "# ⚡️study by 석민⚡️"
   ]
  },
  {
   "cell_type": "markdown",
   "id": "4cc5564a",
   "metadata": {},
   "source": [
    "# 23_튜플 길이"
   ]
  },
  {
   "cell_type": "markdown",
   "id": "8ccd858f",
   "metadata": {},
   "source": [
    "- 리스트와 마찬가지로, 튜플에 저장된 아이템 개수를 튜플 길이라고 한다.\n",
    "- len()과 반복문을 이용하면 튜플의 아이템 조회가 가능하다."
   ]
  },
  {
   "cell_type": "markdown",
   "id": "e0010425",
   "metadata": {},
   "source": [
    "# 24_튜플 결합"
   ]
  },
  {
   "cell_type": "markdown",
   "id": "a877389c",
   "metadata": {},
   "source": [
    "- \" + \" 두 개의 튜플을 결합할 수 있다.\n",
    "- 리스트에서 사용할 수 있는 extend( )함수를 튜플에서는 사용할 수 없다."
   ]
  },
  {
   "cell_type": "markdown",
   "id": "0d72fdb8",
   "metadata": {},
   "source": [
    "# 25_튜플 슬라이싱 "
   ]
  },
  {
   "cell_type": "markdown",
   "id": "89d4c0b0",
   "metadata": {},
   "source": [
    "- 리스트와 마찬가지로 [n:m]을 이용하면 리스트에서 원하는 아이템만 뽑아낼 수 있다.\n",
    "- 튜플은 슬라이싱을 이용해서 아이템을 변경할 수 없다."
   ]
  },
  {
   "cell_type": "markdown",
   "id": "c002deb6",
   "metadata": {},
   "source": [
    "# slice( )\n",
    "- slice()함수를 이용해서 아이템을 슬라이싱할 수 있다."
   ]
  },
  {
   "cell_type": "markdown",
   "id": "f17d29b1",
   "metadata": {},
   "source": [
    "# 26_리스트와 튜플\n",
    "- 튜플은 리스트와 달리 아이템 추가, 변경, 삭제가 불가하다.\n",
    "- 튜플은 선언 시 괄호 생략이 가능하다."
   ]
  },
  {
   "cell_type": "code",
   "execution_count": 3,
   "id": "bea1a0d2",
   "metadata": {},
   "outputs": [
    {
     "name": "stdout",
     "output_type": "stream",
     "text": [
      "<class 'tuple'>\n"
     ]
    }
   ],
   "source": [
    "number = 1, 2, 3, 4\n",
    "print(type(number))"
   ]
  },
  {
   "cell_type": "code",
   "execution_count": 4,
   "id": "da572cf5",
   "metadata": {},
   "outputs": [
    {
     "name": "stdout",
     "output_type": "stream",
     "text": [
      "<class 'list'>\n"
     ]
    }
   ],
   "source": [
    "number = list(number)\n",
    "print(type(number))"
   ]
  },
  {
   "cell_type": "markdown",
   "id": "b38520c3",
   "metadata": {},
   "source": [
    "# 27_튜플 아이템 정렬\n",
    "- 튜플은 수정이 불가하기 때문에 리스트로 변환 후 정렬하자."
   ]
  },
  {
   "cell_type": "code",
   "execution_count": 6,
   "id": "491f5e88",
   "metadata": {},
   "outputs": [
    {
     "name": "stdout",
     "output_type": "stream",
     "text": [
      "(1, 2, 3, 4, 5)\n",
      "<class 'tuple'>\n"
     ]
    }
   ],
   "source": [
    "number = 1, 4, 5, 3, 2\n",
    "number = list(number) # 리스트 타입 변환\n",
    "number.sort()         # 오름차순 정렬\n",
    "number = tuple(number)# 튜플 타입 변환\n",
    "print(number)         # 출력\n",
    "print(type(number))"
   ]
  },
  {
   "cell_type": "markdown",
   "id": "e925fb06",
   "metadata": {},
   "source": [
    "# 32_딕셔너리"
   ]
  },
  {
   "cell_type": "markdown",
   "id": "64acc34d",
   "metadata": {},
   "source": [
    "- 키(key)와 값(value)를 이용해서 자료를 관리한다.\n",
    "- ‘{  }’를 이용해서 선언하고, ’키:값’의 형태로 아이템을 정의한다\n",
    "    - key와 value에는 숫자, 문자(열), 논리형 뿐만 아니라 컨테이너 자료형도 올수 있다.\n",
    "    - 단, key에 immutable 값은 올수 있지만 mutable 값은 올수 없다."
   ]
  },
  {
   "cell_type": "markdown",
   "id": "87541db5",
   "metadata": {},
   "source": [
    "# 33_딕셔너리 조회"
   ]
  },
  {
   "cell_type": "markdown",
   "id": "6c705915",
   "metadata": {},
   "source": [
    "- 딕셔너리는 키(key)를 이용해서 값(value)을 조회한다.\n",
    "- 존재하지 않는 키를 이용한 조회 시 에러(error) 발생한다."
   ]
  },
  {
   "cell_type": "code",
   "execution_count": 40,
   "id": "9bc5d4dd",
   "metadata": {},
   "outputs": [
    {
     "data": {
      "text/plain": [
       "'기린'"
      ]
     },
     "execution_count": 40,
     "metadata": {},
     "output_type": "execute_result"
    }
   ],
   "source": [
    "info = {\n",
    "    \"1\": \"호랑이\",\n",
    "    \"2\": \"기린\",\n",
    "    \"3\": \"토끼\",\n",
    "    \"4\": \"다람쥐\"\n",
    "}\n",
    "info[\"2\"]"
   ]
  },
  {
   "cell_type": "markdown",
   "id": "cfab6551",
   "metadata": {},
   "source": [
    "- get(key)를 이용해서 값(value)을 조회 할 수 있다.\n",
    "- get( )은 key가 없어도 에러가 발생하지 않는다."
   ]
  },
  {
   "cell_type": "code",
   "execution_count": 12,
   "id": "b879424c",
   "metadata": {},
   "outputs": [
    {
     "data": {
      "text/plain": [
       "'토끼'"
      ]
     },
     "execution_count": 12,
     "metadata": {},
     "output_type": "execute_result"
    }
   ],
   "source": [
    "info.get(\"3\")"
   ]
  },
  {
   "cell_type": "markdown",
   "id": "b84a0bfd",
   "metadata": {},
   "source": [
    "# 34_딕셔너리 추가"
   ]
  },
  {
   "cell_type": "markdown",
   "id": "7f392fd3",
   "metadata": {},
   "source": [
    "- ‘딕셔너리이름[키(key)] = 값(value)’ 형태로 아이템을 추가한다.\n",
    "- 추가 하려는 키가 이미 있다면 기존 값이 변경된다."
   ]
  },
  {
   "cell_type": "code",
   "execution_count": 41,
   "id": "493a4087",
   "metadata": {},
   "outputs": [
    {
     "name": "stdout",
     "output_type": "stream",
     "text": [
      "{'1': '호랑이', '2': '기린', '3': '토끼', '4': '다람쥐', '5': '사자'}\n"
     ]
    }
   ],
   "source": [
    "info[\"5\"] = \"사자\"\n",
    "print(info)"
   ]
  },
  {
   "cell_type": "markdown",
   "id": "93c73784",
   "metadata": {},
   "source": [
    "# 36 keys( )\n",
    "- 딕셔너리의 전체 key 값을 조회할 수 있다."
   ]
  },
  {
   "cell_type": "code",
   "execution_count": 25,
   "id": "d5ccc895",
   "metadata": {},
   "outputs": [
    {
     "data": {
      "text/plain": [
       "dict_keys(['1', '2', '3', '4', '5'])"
      ]
     },
     "execution_count": 25,
     "metadata": {},
     "output_type": "execute_result"
    }
   ],
   "source": [
    "info.keys()"
   ]
  },
  {
   "cell_type": "code",
   "execution_count": 26,
   "id": "6caec465",
   "metadata": {},
   "outputs": [
    {
     "name": "stdout",
     "output_type": "stream",
     "text": [
      "1: 호랑이\n",
      "2: 기린\n",
      "3: 토끼\n",
      "4: 다람쥐\n",
      "5: 사자\n"
     ]
    }
   ],
   "source": [
    "for key in info.keys():\n",
    "    print(f\"{key}: {info[key]}\")"
   ]
  },
  {
   "cell_type": "markdown",
   "id": "1fe63c5d",
   "metadata": {},
   "source": [
    "#  values( )\n",
    "- 딕셔너리의 전체 value 값을 조회할수 있다."
   ]
  },
  {
   "cell_type": "code",
   "execution_count": 27,
   "id": "2dc290ea",
   "metadata": {
    "scrolled": true
   },
   "outputs": [
    {
     "data": {
      "text/plain": [
       "dict_values(['호랑이', '기린', '토끼', '다람쥐', '사자'])"
      ]
     },
     "execution_count": 27,
     "metadata": {},
     "output_type": "execute_result"
    }
   ],
   "source": [
    "info.values()"
   ]
  },
  {
   "cell_type": "markdown",
   "id": "b1c834fe",
   "metadata": {},
   "source": [
    "# items( )\n",
    "- 딕셔너리의 전체 item 값을 조회할 수 있다."
   ]
  },
  {
   "cell_type": "code",
   "execution_count": 28,
   "id": "c0485131",
   "metadata": {},
   "outputs": [
    {
     "data": {
      "text/plain": [
       "dict_items([('1', '호랑이'), ('2', '기린'), ('3', '토끼'), ('4', '다람쥐'), ('5', '사자')])"
      ]
     },
     "execution_count": 28,
     "metadata": {},
     "output_type": "execute_result"
    }
   ],
   "source": [
    "info.items()"
   ]
  },
  {
   "cell_type": "markdown",
   "id": "b8305e03",
   "metadata": {},
   "source": [
    "# 37_딕셔너리 삭제 "
   ]
  },
  {
   "cell_type": "markdown",
   "id": "02f1b9c0",
   "metadata": {},
   "source": [
    "- del과 key를 이용한 item 삭제"
   ]
  },
  {
   "cell_type": "code",
   "execution_count": 29,
   "id": "c951d1fe",
   "metadata": {},
   "outputs": [
    {
     "name": "stdout",
     "output_type": "stream",
     "text": [
      "{'1': '호랑이', '2': '기린', '3': '토끼', '4': '다람쥐', '5': '사자'}\n",
      "{'1': '호랑이', '2': '기린', '3': '토끼', '4': '다람쥐'}\n"
     ]
    }
   ],
   "source": [
    "print(info)\n",
    "del info[\"5\"]\n",
    "print(info)"
   ]
  },
  {
   "cell_type": "markdown",
   "id": "00fb1966",
   "metadata": {},
   "source": [
    "- pop()와 key를 이용한 item 삭제"
   ]
  },
  {
   "cell_type": "code",
   "execution_count": 31,
   "id": "bfa98976",
   "metadata": {},
   "outputs": [
    {
     "name": "stdout",
     "output_type": "stream",
     "text": [
      "{'1': '호랑이', '2': '기린', '3': '토끼', '4': '다람쥐', '5': '사자'}\n",
      "{'1': '호랑이', '2': '기린', '3': '토끼', '4': '다람쥐'}\n"
     ]
    }
   ],
   "source": [
    "print(info)\n",
    "info.pop(\"5\")\n",
    "print(info)"
   ]
  },
  {
   "cell_type": "markdown",
   "id": "986e3120",
   "metadata": {},
   "source": [
    "# 38_딕셔너리 유용한 기능"
   ]
  },
  {
   "cell_type": "markdown",
   "id": "b7645f27",
   "metadata": {},
   "source": [
    "## in, not in\n",
    "- 키(key) 존재 유/무 판단 한다."
   ]
  },
  {
   "cell_type": "code",
   "execution_count": 37,
   "id": "ef8d9b2a",
   "metadata": {},
   "outputs": [
    {
     "name": "stdout",
     "output_type": "stream",
     "text": [
      "{'1': '호랑이', '2': '기린', '3': '토끼', '4': '다람쥐', '5': '사자'}\n",
      "True\n",
      "False\n",
      "True\n"
     ]
    }
   ],
   "source": [
    "print(info)\n",
    "print(\"3\" in info)\n",
    "print(\"3\" not in info)\n",
    "print(\"6\" not in info)"
   ]
  },
  {
   "cell_type": "markdown",
   "id": "f76bb6fc",
   "metadata": {},
   "source": [
    "## len( )\n",
    "- 딕셔너리 길이(아이템 개수) 를 알 수 있다."
   ]
  },
  {
   "cell_type": "code",
   "execution_count": 34,
   "id": "7aeb7e08",
   "metadata": {},
   "outputs": [
    {
     "name": "stdout",
     "output_type": "stream",
     "text": [
      "{'1': '호랑이', '2': '기린', '3': '토끼', '4': '다람쥐', '5': '사자'}\n",
      "5\n"
     ]
    }
   ],
   "source": [
    "print(info)\n",
    "print(len(info))"
   ]
  },
  {
   "cell_type": "markdown",
   "id": "fba0dd3e",
   "metadata": {},
   "source": [
    "## clear( )\n",
    "- 모든 아이템을 삭제 한다."
   ]
  },
  {
   "cell_type": "code",
   "execution_count": 39,
   "id": "034d235c",
   "metadata": {},
   "outputs": [
    {
     "name": "stdout",
     "output_type": "stream",
     "text": [
      "{'1': '호랑이', '2': '기린', '3': '토끼', '4': '다람쥐', '5': '사자'}\n",
      "{}\n"
     ]
    }
   ],
   "source": [
    "print(info)\n",
    "info.clear()\n",
    "print(info)"
   ]
  }
 ],
 "metadata": {
  "kernelspec": {
   "display_name": "Python 3 (ipykernel)",
   "language": "python",
   "name": "python3"
  },
  "language_info": {
   "codemirror_mode": {
    "name": "ipython",
    "version": 3
   },
   "file_extension": ".py",
   "mimetype": "text/x-python",
   "name": "python",
   "nbconvert_exporter": "python",
   "pygments_lexer": "ipython3",
   "version": "3.9.16"
  }
 },
 "nbformat": 4,
 "nbformat_minor": 5
}
