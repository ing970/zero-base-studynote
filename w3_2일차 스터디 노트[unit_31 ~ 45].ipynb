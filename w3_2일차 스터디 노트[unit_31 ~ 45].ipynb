{
 "cells": [
  {
   "cell_type": "markdown",
   "id": "d6ebe005",
   "metadata": {},
   "source": [
    "# ⚡️study by 석민⚡️"
   ]
  },
  {
   "cell_type": "markdown",
   "id": "4cc5564a",
   "metadata": {},
   "source": [
    "# 31_[연습문제] 약수와 소수"
   ]
  },
  {
   "cell_type": "code",
   "execution_count": 24,
   "id": "a7c5c7c3",
   "metadata": {},
   "outputs": [
    {
     "name": "stdout",
     "output_type": "stream",
     "text": [
      "난수: 339\n",
      "약수: [1, 3, 113, 339]\n",
      "소수: [2, 3, 5, 7, 11, 13, 17, 19, 23, 29, 31, 37, 41, 43, 47, 53, 59, 61, 67, 71, 73, 79, 83, 89, 97, 101, 103, 107, 109, 113, 127, 131, 137, 139, 149, 151, 157, 163, 167, 173, 179, 181, 191, 193, 197, 199, 211, 223, 227, 229, 233, 239, 241, 251, 257, 263, 269, 271, 277, 281, 283, 293, 307, 311, 313, 317, 331, 337]\n",
      "소인수: [3, 113]\n"
     ]
    }
   ],
   "source": [
    "# 100부터 1000사이의 난수에 대해서 약수, 소수, 그리고 소인수를 출력하는\n",
    "# 프로그램을 만들어보자.\n",
    "\n",
    "import random \n",
    "\n",
    "num_r = random.randint(100, 1000)\n",
    "\n",
    "num_y = [] # 약수\n",
    "num_s = [] # 소수\n",
    "num_sy = [] # 소인수\n",
    "\n",
    "for i in range(1, (num_r + 1)):\n",
    "    soinsu = 0\n",
    "    \n",
    "    # 약수\n",
    "    if num_r % i == 0:\n",
    "        num_y.append(i)\n",
    "        soinsu += 1\n",
    "        \n",
    "    # 소수\n",
    "    if i != 1:\n",
    "        is_prime = True\n",
    "\n",
    "        for num in range(2, int(i ** 0.5) + 1):\n",
    "            if i % num == 0:\n",
    "                is_prime = False\n",
    "                break\n",
    "        if is_prime:\n",
    "            num_s.append(i)\n",
    "            soinsu += 1\n",
    "            \n",
    "    # 소인수\n",
    "    if soinsu >= 2:\n",
    "        num_sy.append(i)\n",
    "        \n",
    "print(f\"난수: {num_r}\")\n",
    "print(f\"약수: {num_y}\")\n",
    "print(f\"소수: {num_s}\")\n",
    "print(f\"소인수: {num_sy}\")"
   ]
  },
  {
   "cell_type": "markdown",
   "id": "2a827dfd",
   "metadata": {},
   "source": [
    "# 32_[연습문제] 소인수와 소인수분해"
   ]
  },
  {
   "cell_type": "code",
   "execution_count": 47,
   "id": "cffa77d0",
   "metadata": {},
   "outputs": [
    {
     "name": "stdout",
     "output_type": "stream",
     "text": [
      "난수: 270\n",
      "소인수: [2, 3, 3, 3, 5]\n",
      "[2] 의 갯수: 1\n",
      "[3] 의 갯수: 3\n",
      "[5] 의 갯수: 1\n"
     ]
    }
   ],
   "source": [
    "# 100부터 1000사이의 난수를 소인수분해를 하고 각각의 소인수에 대한 지수를\n",
    "# 출력하는 프로그램을 만들어보자.\n",
    "\n",
    "import random\n",
    "\n",
    "num_r = random.randint(100, 1000)\n",
    "print(f\"난수: {num_r}\")\n",
    "\n",
    "soin_list = []\n",
    "\n",
    "n = 2\n",
    "while 2 <= num_r:\n",
    "    if num_r % n == 0:\n",
    "        soin_list.append(n)\n",
    "        num_r /= n\n",
    "    else:\n",
    "        n += 1\n",
    "        \n",
    "print(f\"소인수: {soin_list}\")\n",
    "\n",
    "\n",
    "temp_num = 0\n",
    "for s in soin_list:\n",
    "    if temp_num != s:\n",
    "        print(f\"[{s}] 의 갯수: {soin_list.count(s)}\")\n",
    "        temp_num = s"
   ]
  },
  {
   "cell_type": "markdown",
   "id": "acd967dd",
   "metadata": {},
   "source": [
    "# 33_[연습문제] 최대공약수"
   ]
  },
  {
   "cell_type": "code",
   "execution_count": 67,
   "id": "98822212",
   "metadata": {},
   "outputs": [
    {
     "name": "stdout",
     "output_type": "stream",
     "text": [
      "난수1: 462\n",
      "난수2: 193\n",
      "난수에 대한 공약수: [1]\n",
      "난수에 대한 최대공약수: 1\n",
      "462과 193는 서로소이다.\n"
     ]
    }
   ],
   "source": [
    "# 100부터 1000사이의 2개의 난수에 대해서 공약수와 최대공약수를 출력하고,\n",
    "# 서로소인지 출력하는 프로그램을 만들어보자.\n",
    "\n",
    "import random\n",
    "\n",
    "num_r1 = random.randint(100, 1000)\n",
    "num_r2 = random.randint(100, 1000)\n",
    "\n",
    "print(f\"난수1: {num_r1}\")\n",
    "print(f\"난수2: {num_r2}\")\n",
    "\n",
    "g_y = []\n",
    "\n",
    "for i in range(1, min(num_r1, num_r2) + 1):\n",
    "    if num_r1 % i == 0 and num_r2 % i == 0:\n",
    "        g_y.append(i)\n",
    "        \n",
    "max_y = max(g_y)\n",
    "    \n",
    "print(f\"난수에 대한 공약수: {g_y}\")\n",
    "print(f\"난수에 대한 최대공약수: {max_y}\")\n",
    "\n",
    "if max_y == 1:\n",
    "    print(f\"{num_r1}과 {num_r2}는 서로소이다.\")"
   ]
  },
  {
   "cell_type": "markdown",
   "id": "700d1a15",
   "metadata": {},
   "source": [
    "# 34_[연습문제] 최소공배수"
   ]
  },
  {
   "cell_type": "code",
   "execution_count": 110,
   "id": "ebf0cca7",
   "metadata": {},
   "outputs": [
    {
     "name": "stdout",
     "output_type": "stream",
     "text": [
      "난수1: 756\n",
      "난수2: 174\n",
      "두 난수에 대한 최대공약수: 6\n",
      "두 난수에 대한 최소공약수: 21924\n"
     ]
    }
   ],
   "source": [
    "# 100부터 1000사이의 2개의 난수에 대해서 최대공약수와 최소공배수를 출력하는\n",
    "# 프로그램을 만들어보자.\n",
    "\n",
    "import random\n",
    "\n",
    "num_r1 = random.randint(100, 1000)\n",
    "num_r2 = random.randint(100, 1000)\n",
    "\n",
    "print(f\"난수1: {num_r1}\")\n",
    "print(f\"난수2: {num_r2}\")\n",
    "max_num = 0\n",
    "\n",
    "for i in range(1, min(num_r1, num_r2) + 1):\n",
    "    \n",
    "    if num_r1 % i == 0 and num_r2 % i == 0:\n",
    "        max_num = i\n",
    "        \n",
    "min_num = (num_r1 * num_r2) // max_num\n",
    "\n",
    "print(f\"두 난수에 대한 최대공약수: {max_num}\")\n",
    "print(f\"두 난수에 대한 최소공약수: {min_num}\")\n",
    "        "
   ]
  },
  {
   "cell_type": "markdown",
   "id": "4c49ff6e",
   "metadata": {},
   "source": [
    "# 35_[연습문제] 진법"
   ]
  },
  {
   "cell_type": "code",
   "execution_count": 121,
   "id": "be37962d",
   "metadata": {},
   "outputs": [
    {
     "name": "stdout",
     "output_type": "stream",
     "text": [
      "숫자 입력: 10\n",
      "정수 -> 2진수: 0b1010\n",
      "정수 -> 8진수: 0o12\n",
      "정수 -> 16진수: 0xa\n",
      "2진수(0b1010) -> 10진수(10)\n",
      "8진수(0o12) -> 10진수(10)\n",
      "16진수(0xa) -> 10진수(10)\n"
     ]
    }
   ],
   "source": [
    "num = int(input(\"숫자 입력: \"))\n",
    "\n",
    "\n",
    "num_bin = bin(num)\n",
    "num_oct = oct(num)\n",
    "num_hex = hex(num)\n",
    "\n",
    "print(f\"정수 -> 2진수: {num_bin}\")\n",
    "print(f\"정수 -> 8진수: {num_oct}\")\n",
    "print(f\"정수 -> 16진수: {num_hex}\")\n",
    "\n",
    "print(\"2진수(0b1010) -> 10진수({})\".format(int(0b1010)))\n",
    "print(\"8진수(0o12) -> 10진수({})\".format(int(0o12)))\n",
    "print(\"16진수(0xa) -> 10진수({})\".format(int(0xa)))"
   ]
  },
  {
   "cell_type": "markdown",
   "id": "6148304e",
   "metadata": {},
   "source": [
    "# 36_[연습문제] 등차수열"
   ]
  },
  {
   "cell_type": "code",
   "execution_count": 123,
   "id": "24b2524e",
   "metadata": {},
   "outputs": [
    {
     "name": "stdout",
     "output_type": "stream",
     "text": [
      "a1: 4\n",
      "공차(d): 6\n",
      "n번째 항: 3\n",
      "n번째 항 값: 16\n",
      "n번째 까지 합: 30\n"
     ]
    }
   ],
   "source": [
    "# 다음 수열의 일반항을 구하고 n번째항의 값과 합을 구하는 프로그램을 만들어보자.\n",
    "# {4, 10, 16, 22, 28, 34, 40, 46, 52, 58, 64... }\n",
    "\n",
    "a1 = int(input(\"a1: \"))\n",
    "d = int(input(\"공차(d): \"))\n",
    "n = int(input(\"n번째 항: \"))\n",
    "\n",
    "result_basic = a1 + (n-1) * d\n",
    "result_final = int(n * (a1 + result_basic) / 2)\n",
    "\n",
    "print(f\"n번째 항 값: {result_basic}\")\n",
    "print(f\"n번째 까지 합: {result_final}\")"
   ]
  },
  {
   "cell_type": "markdown",
   "id": "72f6e3ad",
   "metadata": {},
   "source": [
    "# 37_[연습문제] 등비수열"
   ]
  },
  {
   "cell_type": "code",
   "execution_count": 125,
   "id": "13058890",
   "metadata": {},
   "outputs": [
    {
     "name": "stdout",
     "output_type": "stream",
     "text": [
      "a1: 2\n",
      "공비(r): 3\n",
      "n번째 항: 4\n",
      "n번째 항 값: 54\n",
      "n번째 까지 합: 83\n"
     ]
    }
   ],
   "source": [
    "# 다음 수열의 일반항을 구하고 n번째항의 값과 합을 구하는 프로그램을 만들어보자.\n",
    "# {2, 6, 18, 54, 162, 486, 1458, 4374, 13122, ... }\n",
    "\n",
    "a1 = int(input(\"a1: \"))\n",
    "r = int(input(\"공비(r): \"))\n",
    "n = int(input(\"n번째 항: \"))\n",
    "\n",
    "result_basic = a1 * r**(n - 1)\n",
    "result_final = int(a1 * (1 - (r**n) / (1 - r)))\n",
    "\n",
    "print(f\"n번째 항 값: {result_basic}\")\n",
    "print(f\"n번째 까지 합: {result_final}\")\n"
   ]
  },
  {
   "cell_type": "markdown",
   "id": "ff305810",
   "metadata": {},
   "source": [
    "# 38_[연습문제] 시그마"
   ]
  },
  {
   "cell_type": "code",
   "execution_count": 128,
   "id": "0f9d334d",
   "metadata": {},
   "outputs": [
    {
     "name": "stdout",
     "output_type": "stream",
     "text": [
      "a1: 2\n",
      "공비(r): 2\n",
      "n번째 항: 30\n",
      "2147483650\n"
     ]
    }
   ],
   "source": [
    "#  첫 째날 쌀 두톨을 받고 둘째 날부터는 하루 전의 2배에 해당하는 쌀을 받는다고\n",
    "# 할 때, 30일째 되는 날 받게 되는 쌀의 개수를 수열과 시그마로 나타내고 이를 출력하는 프로그램을 만들어 보자.\n",
    "# {2, 4, 8, 16, 32, 64, 128, 256, 512, 1024, ... }\n",
    "\n",
    "a1 = int(input(\"a1: \"))\n",
    "r = int(input(\"공비(r): \"))\n",
    "n = int(input(\"n번째 항: \"))\n",
    "\n",
    "result = int(a1 * (1 - (r**n) / (1 - r)))\n",
    " \n",
    "print(result)"
   ]
  },
  {
   "cell_type": "markdown",
   "id": "ef8f8bc5",
   "metadata": {},
   "source": [
    "# 39_[연습문제] 계차수열"
   ]
  },
  {
   "cell_type": "code",
   "execution_count": 142,
   "id": "f258fdbd",
   "metadata": {},
   "outputs": [
    {
     "name": "stdout",
     "output_type": "stream",
     "text": [
      "a1: 2\n",
      "n번째 항: 4\n",
      "n번째 까지의 계차수열의 합: 38\n"
     ]
    }
   ],
   "source": [
    "# 다음 수열의 일반항을 구하고, n항의 값을 출력하는 프로그램을 만들어 보자.\n",
    "# {2, 5, 11, 20, 32, 47, 65, 86, 110, 137, 167, ...}\n",
    "\n",
    "a1 = int(input(\"a1: \"))\n",
    "n = int(input(\"n번째 항: \"))\n",
    "an = 3 * n\n",
    "result = a1 + (n-1) * an\n",
    "\n",
    "g_l = []\n",
    "\n",
    "print(f\"n번째 까지의 계차수열의 합: {result}\")"
   ]
  },
  {
   "cell_type": "markdown",
   "id": "0f4459db",
   "metadata": {},
   "source": [
    "## 40_[연습문제] 피보나치수열"
   ]
  },
  {
   "cell_type": "code",
   "execution_count": 6,
   "id": "08c70770",
   "metadata": {},
   "outputs": [
    {
     "name": "stdout",
     "output_type": "stream",
     "text": [
      "숫자 입력: 4\n",
      "n항의 값: 3\n",
      "n항 까지의 합: 7\n"
     ]
    }
   ],
   "source": [
    "## 피보나치수열에서 n항의 값과 n항까지의 합을 출력하는 프로그램을 만들어보자.\n",
    "# {1, 1, 2, 3, 5, 8, 13, 21, 34, 55, 89, 144, ...}\n",
    "\n",
    "def fibonacci(n):\n",
    "    if n <= 0:\n",
    "        return 0\n",
    "    elif n == 1:\n",
    "        return 1\n",
    "    else:\n",
    "        a, b = 0, 1\n",
    "        for _ in range(n-1):\n",
    "            a, b = b, a + b\n",
    "        return b\n",
    "    \n",
    "    \n",
    "num = int(input(\"숫자 입력: \"))\n",
    "\n",
    "fibo_l = []\n",
    "for i in range(1, (num + 1)):\n",
    "    fibo_l.append(fibonacci(i))\n",
    "    \n",
    "print(f\"n항의 값: {fibo_l[num-1]}\")\n",
    "print(f\"n항 까지의 합: {sum(fibo_l[:num])}\")"
   ]
  },
  {
   "cell_type": "markdown",
   "id": "b35eb296",
   "metadata": {},
   "source": [
    "# 41_[연습문제] 팩토리얼"
   ]
  },
  {
   "cell_type": "code",
   "execution_count": 8,
   "id": "c1789974",
   "metadata": {},
   "outputs": [
    {
     "name": "stdout",
     "output_type": "stream",
     "text": [
      "사용자 숫자 입력: 6\n",
      "반복문을 이용한 6! 팩토리얼: 720\n",
      "재귀함수를 이용한 6! 팩토리얼: 720\n"
     ]
    }
   ],
   "source": [
    "# 팩토리얼 프로그램을 만들되, 반복문을 이용한 함수와 재귀 함수를 이용해서\n",
    "# 구현해보고 또한, 파이썬에서 제공하는 모듈도 사용해 보자.\n",
    "\n",
    "\n",
    "def fac_fun1(n):\n",
    "    \n",
    "    fac = 1\n",
    "    for i in range(1, (n+1)):\n",
    "        fac *= i\n",
    "    \n",
    "    return fac\n",
    "\n",
    "def fac_fun2(n):\n",
    "    \n",
    "    if n == 1:\n",
    "        return n\n",
    "    \n",
    "    return n * fac_fun2(n-1)\n",
    "\n",
    "\n",
    "num = int(input(\"사용자 숫자 입력: \"))\n",
    "print(f\"반복문을 이용한 {num}! 팩토리얼: {fac_fun1(num)}\")\n",
    "print(f\"재귀함수를 이용한 {num}! 팩토리얼: {fac_fun2(num)}\")"
   ]
  },
  {
   "cell_type": "code",
   "execution_count": 10,
   "id": "3bb41257",
   "metadata": {},
   "outputs": [
    {
     "data": {
      "text/plain": [
       "720"
      ]
     },
     "execution_count": 10,
     "metadata": {},
     "output_type": "execute_result"
    }
   ],
   "source": [
    "# math 모듈 사용\n",
    "import math\n",
    "\n",
    "math.factorial(6)"
   ]
  },
  {
   "cell_type": "markdown",
   "id": "48a74d39",
   "metadata": {},
   "source": [
    "# 42_[연습문제] 군 수열"
   ]
  },
  {
   "attachments": {
    "%E1%84%89%E1%85%B3%E1%84%8F%E1%85%B3%E1%84%85%E1%85%B5%E1%86%AB%E1%84%89%E1%85%A3%E1%86%BA%202023-07-18%20%E1%84%8B%E1%85%A9%E1%84%92%E1%85%AE%204.55.28.png": {
     "image/png": "[encoded data removed]"
    }
   },
   "cell_type": "markdown",
   "id": "2759393e",
   "metadata": {},
   "source": [
    "![%E1%84%89%E1%85%B3%E1%84%8F%E1%85%B3%E1%84%85%E1%85%B5%E1%86%AB%E1%84%89%E1%85%A3%E1%86%BA%202023-07-18%20%E1%84%8B%E1%85%A9%E1%84%92%E1%85%AE%204.55.28.png](attachment:%E1%84%89%E1%85%B3%E1%84%8F%E1%85%B3%E1%84%85%E1%85%B5%E1%86%AB%E1%84%89%E1%85%A3%E1%86%BA%202023-07-18%20%E1%84%8B%E1%85%A9%E1%84%92%E1%85%AE%204.55.28.png)"
   ]
  },
  {
   "cell_type": "code",
   "execution_count": 26,
   "id": "e51c5025",
   "metadata": {},
   "outputs": [
    {
     "name": "stdout",
     "output_type": "stream",
     "text": [
      "1/1 \n",
      "1/2 2/1 \n",
      "1/3 2/2 3/1 \n",
      "1/4 2/3 3/2 4/1 \n",
      "1/5 2/4 3/3 4/2 5/1 \n",
      "1/6 2/5 3/4 4/3 5/2 6/1 \n",
      "1/7 2/6 3/5 4/4 5/3 6/2 7/1 \n",
      "1/8 2/7 3/6 4/5 5/4 6/3 7/2 8/1 \n",
      "1/9 2/8 3/7 4/6 5/5 6/4 7/3 8/2 9/1 \n",
      "1/10 2/9 3/8 4/7 5/6 6/5 7/4 8/3 9/2 10/1 \n",
      "=============================================\n",
      "수열의 합이 최초 100을 초과하는 \n",
      "항: 56\n",
      "값: 10/1\n",
      "합: 105.81\n"
     ]
    }
   ],
   "source": [
    "# 다음 수열을 보고 수열의 합이 최초 100을 초과하는 n번째 항의 값과 n을 출력하는\n",
    "# 프로그램을 만들어보자.\n",
    "\n",
    "flag = True\n",
    "\n",
    "n = 1\n",
    "n_cnt = 1; search_nc = 0; search_np = 0 \n",
    "sum_n = 0\n",
    "while flag:\n",
    "    \n",
    "    for i in range(1, (n+1)):\n",
    "        print(f\"{i}/{n - i + 1}\", end=' ')\n",
    "    \n",
    "        sum_n += i / (n - i + 1)\n",
    "        n_cnt += 1\n",
    "\n",
    "        if sum_n > 100:\n",
    "            search_nc = i\n",
    "            search_np = n - i + 1\n",
    "            flag = False\n",
    "            break\n",
    "        \n",
    "    print()\n",
    "    n += 1\n",
    "print(\"=\" * 45)\n",
    "print(f\"수열의 합이 최초 100을 초과하는 \\n항: {n_cnt}\\n값: {search_nc}/{search_np}\\n합: {round(sum_n, 2)}\")"
   ]
  },
  {
   "cell_type": "markdown",
   "id": "17a61667",
   "metadata": {},
   "source": [
    "# 43_[연습문제] 순열"
   ]
  },
  {
   "attachments": {
    "%E1%84%89%E1%85%B3%E1%84%8F%E1%85%B3%E1%84%85%E1%85%B5%E1%86%AB%E1%84%89%E1%85%A3%E1%86%BA%202023-07-18%20%E1%84%8B%E1%85%A9%E1%84%92%E1%85%AE%205.07.42.png": {
     "image/png": "[encoded data removed]"
    }
   },
   "cell_type": "markdown",
   "id": "827b4b9d",
   "metadata": {},
   "source": [
    "![%E1%84%89%E1%85%B3%E1%84%8F%E1%85%B3%E1%84%85%E1%85%B5%E1%86%AB%E1%84%89%E1%85%A3%E1%86%BA%202023-07-18%20%E1%84%8B%E1%85%A9%E1%84%92%E1%85%AE%205.07.42.png](attachment:%E1%84%89%E1%85%B3%E1%84%8F%E1%85%B3%E1%84%85%E1%85%B5%E1%86%AB%E1%84%89%E1%85%A3%E1%86%BA%202023-07-18%20%E1%84%8B%E1%85%A9%E1%84%92%E1%85%AE%205.07.42.png)"
   ]
  },
  {
   "cell_type": "code",
   "execution_count": 31,
   "id": "4c5f5fcb",
   "metadata": {},
   "outputs": [
    {
     "name": "stdout",
     "output_type": "stream",
     "text": [
      "숫자1 입력: 9\n",
      "숫자2 입력: 4\n",
      "result = 3024\n"
     ]
    }
   ],
   "source": [
    "# 파이썬을 이용해서 다음 순열들의 값을 구하는 프로그램을 만들어 보자.\n",
    "num1 = int(input(\"숫자1 입력: \"))\n",
    "num2 = int(input(\"숫자2 입력: \"))\n",
    "\n",
    "result = 1\n",
    "for i in range(num1, (num1- num2), -1):\n",
    "    result *= i\n",
    "    \n",
    "print(f\"{result = }\")"
   ]
  },
  {
   "cell_type": "code",
   "execution_count": 32,
   "id": "0ebb32ad",
   "metadata": {},
   "outputs": [
    {
     "name": "stdout",
     "output_type": "stream",
     "text": [
      "숫자1 입력: 7\n",
      "숫자2 입력: 3\n",
      "result = 210\n"
     ]
    }
   ],
   "source": [
    "# 카드 7장을 일렬로 나열하되 2, 4, 7번 카드가 서로 이웃하도록 나열하는\n",
    "# 모든 경우의 수를 구하는 프로그램을 만들어보자.\n",
    "\n",
    "num1 = int(input(\"숫자1 입력: \"))\n",
    "num2 = int(input(\"숫자2 입력: \"))\n",
    "\n",
    "result = 1\n",
    "for i in range(num1, (num1- num2), -1):\n",
    "    result *= i\n",
    "    \n",
    "print(f\"{result = }\")"
   ]
  },
  {
   "cell_type": "markdown",
   "id": "77fbeaf5",
   "metadata": {},
   "source": [
    "# 44_[연습문제] 조합"
   ]
  },
  {
   "attachments": {
    "%E1%84%89%E1%85%B3%E1%84%8F%E1%85%B3%E1%84%85%E1%85%B5%E1%86%AB%E1%84%89%E1%85%A3%E1%86%BA%202023-07-18%20%E1%84%8B%E1%85%A9%E1%84%92%E1%85%AE%205.33.34.png": {
     "image/png": "[encoded data removed]"
    }
   },
   "cell_type": "markdown",
   "id": "9c5fb6d9",
   "metadata": {},
   "source": [
    "![%E1%84%89%E1%85%B3%E1%84%8F%E1%85%B3%E1%84%85%E1%85%B5%E1%86%AB%E1%84%89%E1%85%A3%E1%86%BA%202023-07-18%20%E1%84%8B%E1%85%A9%E1%84%92%E1%85%AE%205.33.34.png](attachment:%E1%84%89%E1%85%B3%E1%84%8F%E1%85%B3%E1%84%85%E1%85%B5%E1%86%AB%E1%84%89%E1%85%A3%E1%86%BA%202023-07-18%20%E1%84%8B%E1%85%A9%E1%84%92%E1%85%AE%205.33.34.png)"
   ]
  },
  {
   "cell_type": "code",
   "execution_count": 35,
   "id": "2075513b",
   "metadata": {},
   "outputs": [
    {
     "name": "stdout",
     "output_type": "stream",
     "text": [
      "숫자1 입력: 6\n",
      "숫자2 입력: 2\n",
      "result_p = 30\n",
      "result_r = 2\n",
      "result_c = 15\n"
     ]
    }
   ],
   "source": [
    "# 파이썬을 이용해서 다음 조합들의 값을 구하는 프로그램을 만들어 보자.\n",
    "\n",
    "num_n = int(input(\"숫자1 입력: \"))\n",
    "num_r = int(input(\"숫자2 입력: \"))\n",
    "\n",
    "\n",
    "result_p = 1 # 순열\n",
    "result_r = 1\n",
    "result_c = 1 # 조합\n",
    "\n",
    "\n",
    "for i in range(num_n, num_n - num_r, -1):\n",
    "    result_p *= i\n",
    "print(f\"{result_p = }\")\n",
    "\n",
    "for i in range(num_r, 0, -1):\n",
    "    result_r *= i\n",
    "print(f\"{result_r = }\")\n",
    "\n",
    "result_c = int(result_p / result_r)\n",
    "\n",
    "print(f\"{result_c = }\")"
   ]
  },
  {
   "cell_type": "markdown",
   "id": "a20452e9",
   "metadata": {},
   "source": [
    "# 45_[연습문제] 확률"
   ]
  },
  {
   "attachments": {
    "%E1%84%89%E1%85%B3%E1%84%8F%E1%85%B3%E1%84%85%E1%85%B5%E1%86%AB%E1%84%89%E1%85%A3%E1%86%BA%202023-07-18%20%E1%84%8B%E1%85%A9%E1%84%92%E1%85%AE%205.39.23.png": {
     "image/png": "[encoded data removed]"
    }
   },
   "cell_type": "markdown",
   "id": "d6b5f8a8",
   "metadata": {},
   "source": [
    "![%E1%84%89%E1%85%B3%E1%84%8F%E1%85%B3%E1%84%85%E1%85%B5%E1%86%AB%E1%84%89%E1%85%A3%E1%86%BA%202023-07-18%20%E1%84%8B%E1%85%A9%E1%84%92%E1%85%AE%205.39.23.png](attachment:%E1%84%89%E1%85%B3%E1%84%8F%E1%85%B3%E1%84%85%E1%85%B5%E1%86%AB%E1%84%89%E1%85%A3%E1%86%BA%202023-07-18%20%E1%84%8B%E1%85%A9%E1%84%92%E1%85%AE%205.39.23.png)"
   ]
  },
  {
   "cell_type": "code",
   "execution_count": 4,
   "id": "6168c7c8",
   "metadata": {},
   "outputs": [
    {
     "name": "stdout",
     "output_type": "stream",
     "text": [
      "========= 전체 경우의 수 =========\n",
      "num_n 입력: 10\n",
      "num_r 입력: 6\n",
      "result_p = 151200\n",
      "result_r = 720\n",
      "result_c = 210\n",
      "==============================\n",
      "============= 꽝 =============\n",
      "num_n 입력: 6\n",
      "num_r 입력: 3\n",
      "result_p = 120\n",
      "result_r = 6\n",
      "result_c = 20\n",
      "==============================\n",
      "============= 선물 ============\n",
      "num_n 입력: 4\n",
      "num_r 입력: 3\n",
      "result_p = 24\n",
      "result_r = 6\n",
      "result_c = 4\n",
      "==============================\n",
      "percentage: 38.1\n"
     ]
    }
   ],
   "source": [
    "# 박스에 ‘꽝’이 적힌 종이가 6장 있고, ‘선물’이 적힌 종이가 4장이 있을 때,\n",
    "# 파이썬을 이용해서 ‘꽝’3장과 ‘선물’ 3장을 뽑는 확률(%)을 출력하자.\n",
    "\n",
    "# 전체 경우의 수: 10C6\n",
    "# 꽝: 6C3\n",
    "# 선물: 4C3\n",
    "# 전체의 경우의 수는: 꽝 * 선물 / 전체 경우의 수\n",
    "\n",
    "def percent():\n",
    "    num_n = int(input(\"num_n 입력: \"))\n",
    "    num_r = int(input(\"num_r 입력: \"))\n",
    "\n",
    "    result_p = 1 # 순열\n",
    "    result_r = 1\n",
    "    result_c = 1 # 조합\n",
    "\n",
    "    for i in range(num_n, (num_n - num_r), -1):\n",
    "        result_p *= i\n",
    "    print(f\"{result_p = }\")\n",
    "\n",
    "    for i in range(num_r , 0, -1):\n",
    "        result_r *= i\n",
    "    print(f\"{result_r = }\")\n",
    "\n",
    "    result_c = int(result_p / result_r)\n",
    "    print(f\"{result_c = }\")\n",
    "    \n",
    "    return result_c\n",
    "\n",
    "# 전체 경우의 수\n",
    "print(\"=\"*9, \"전체 경우의 수\", \"=\"*9)\n",
    "total = percent()\n",
    "print(\"=\"*30)\n",
    "# 꽝\n",
    "print(\"=\"*13, \"꽝\", \"=\"*13)\n",
    "kk = percent()\n",
    "print(\"=\"*30)\n",
    "# 선물\n",
    "print(\"=\"*13, \"선물\", \"=\"*12)\n",
    "gift = percent()\n",
    "print(\"=\"*30)\n",
    "\n",
    "result = (kk * gift) / total\n",
    "print(f\"percentage: {round(result * 100, 2)}\")\n"
   ]
  }
 ],
 "metadata": {
  "kernelspec": {
   "display_name": "Python 3 (ipykernel)",
   "language": "python",
   "name": "python3"
  },
  "language_info": {
   "codemirror_mode": {
    "name": "ipython",
    "version": 3
   },
   "file_extension": ".py",
   "mimetype": "text/x-python",
   "name": "python",
   "nbconvert_exporter": "python",
   "pygments_lexer": "ipython3",
   "version": "3.9.16"
  }
 },
 "nbformat": 4,
 "nbformat_minor": 5
}
