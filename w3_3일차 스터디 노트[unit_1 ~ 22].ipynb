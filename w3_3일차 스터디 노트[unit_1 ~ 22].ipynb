{
 "cells": [
  {
   "cell_type": "markdown",
   "id": "d6ebe005",
   "metadata": {},
   "source": [
    "# ⚡️study by 석민⚡️"
   ]
  },
  {
   "cell_type": "markdown",
   "id": "4cc5564a",
   "metadata": {},
   "source": [
    "# 01_자료구조란"
   ]
  },
  {
   "cell_type": "markdown",
   "id": "73b0acd8",
   "metadata": {},
   "source": [
    "- 여러 개의 데이터가 묶여있는 자료형을 컨테이너 자료형이라고 하고 이러한 컨테이너 자료형의 데이터 구조를 자료구조라고 한다.\n",
    "- 자료구조는 각각의 컨테이너 자료형에 따라서 차이가 있으며, 파이썬의 대표적인\n",
    "    컨테이너 자료형으로는 리스트(List), 튜플(Tuple), 딕셔너리(Dic), 셋트(Set)가 있다"
   ]
  },
  {
   "cell_type": "markdown",
   "id": "210e6f69",
   "metadata": {},
   "source": [
    "# 02_리스트(List)"
   ]
  },
  {
   "cell_type": "markdown",
   "id": "90d69167",
   "metadata": {},
   "source": [
    "- 배열과 같이 여러 개의 데이터를 나열한 자료구조\n",
    "- ‘[ ]’를 이용해서 선언하고, 데이터 구분은 ‘,’를 이용한다.\n",
    "    - 숫자,문자(열),논리형등모든기본데이터를같이저장할수있다.\n",
    "    - 리스트에 또 다른 컨테이너 자료형 데이터를 저장할 수도 있다."
   ]
  },
  {
   "cell_type": "markdown",
   "id": "cd2acf77",
   "metadata": {},
   "source": [
    "# 03_리스트 아이템 조회"
   ]
  },
  {
   "cell_type": "markdown",
   "id": "16296da5",
   "metadata": {},
   "source": [
    "### 📍 인덱스\n",
    "- 인덱스란, 아이템에 자동으로 부여되는 번호표\n",
    "- 리스트 아이템은 인덱스를 이용해서 조회 가능하다"
   ]
  },
  {
   "cell_type": "code",
   "execution_count": 9,
   "id": "19effb18",
   "metadata": {},
   "outputs": [
    {
     "name": "stdout",
     "output_type": "stream",
     "text": [
      "1\n",
      "2\n",
      "3\n",
      "4\n",
      "====================\n",
      "1\n",
      "2\n",
      "3\n",
      "4\n"
     ]
    }
   ],
   "source": [
    "num_l = [1, 2, 3, 4]\n",
    "\n",
    "print(num_l[0])\n",
    "print(num_l[1])\n",
    "print(num_l[2])\n",
    "print(num_l[3])\n",
    "print(\"=\"*20)\n",
    "for i in range(4):\n",
    "    print(num_l[i])"
   ]
  },
  {
   "cell_type": "markdown",
   "id": "ac257d25",
   "metadata": {},
   "source": [
    "# 04_ len( ) \n",
    "- 리스트 길이란, 리스트에 저장된 아이템 개수를 뜻한다.\n",
    "- 파이썬의 내장 함수로, 문자열, 리스트, 튜플, 딕셔너리 등 여러 가지 데이터 타입의 길이(항목의 개수)를 반환합니다.\n",
    "\n"
   ]
  },
  {
   "cell_type": "code",
   "execution_count": 3,
   "id": "e99c8613",
   "metadata": {},
   "outputs": [
    {
     "name": "stdout",
     "output_type": "stream",
     "text": [
      "5\n"
     ]
    }
   ],
   "source": [
    "s = \"안녕하세요\"\n",
    "print(len(s))"
   ]
  },
  {
   "cell_type": "code",
   "execution_count": 1,
   "id": "0091a541",
   "metadata": {},
   "outputs": [
    {
     "name": "stdout",
     "output_type": "stream",
     "text": [
      "5\n"
     ]
    }
   ],
   "source": [
    "list = [1, 2, 3, 4, 5]\n",
    "print(len(list))"
   ]
  },
  {
   "cell_type": "code",
   "execution_count": 4,
   "id": "2af5c21a",
   "metadata": {},
   "outputs": [
    {
     "name": "stdout",
     "output_type": "stream",
     "text": [
      "3\n"
     ]
    }
   ],
   "source": [
    "dict = {\"name\": \"John\", \"age\": 30, \"city\": \"New York\"}\n",
    "print(len(dict))"
   ]
  },
  {
   "cell_type": "markdown",
   "id": "7e30c384",
   "metadata": {},
   "source": [
    "# 05 ~ 06_리스트와 for문"
   ]
  },
  {
   "cell_type": "markdown",
   "id": "9f144d4a",
   "metadata": {},
   "source": [
    "- for문을 이용하면 리스트의 아이템을 자동으로 참조할 수 있다."
   ]
  },
  {
   "cell_type": "code",
   "execution_count": 5,
   "id": "d96a8804",
   "metadata": {},
   "outputs": [
    {
     "name": "stdout",
     "output_type": "stream",
     "text": [
      "과락 과목: 국어, 점수: 58\n",
      "과락 과목: 국사, 점수: 50\n"
     ]
    }
   ],
   "source": [
    "min_score = 60\n",
    "scores = [\n",
    "    [\"국어\", 58],\n",
    "    [\"영어\", 77],\n",
    "    [\"수학\", 89],\n",
    "    [\"과학\", 99],\n",
    "    [\"국사\", 50],\n",
    "]\n",
    "for item in scores:\n",
    "    if item[1] < min_score:\n",
    "        print(f\"과락 과목: {item[0]}, 점수: {item[1]}\")"
   ]
  },
  {
   "cell_type": "markdown",
   "id": "c59e343e",
   "metadata": {},
   "source": [
    "# 07 ~ 08_리스트와 while문"
   ]
  },
  {
   "cell_type": "markdown",
   "id": "b3bc50e4",
   "metadata": {},
   "source": [
    "- while문을 이용하면 다양한 방법으로 아이템 조회가 가능하다."
   ]
  },
  {
   "cell_type": "code",
   "execution_count": 7,
   "id": "32170e74",
   "metadata": {},
   "outputs": [
    {
     "name": "stdout",
     "output_type": "stream",
     "text": [
      "그랜저\n",
      "소나타\n",
      "말리부\n",
      "카니발\n",
      "쏘렌토\n"
     ]
    }
   ],
   "source": [
    "cars = [\"그랜저\", \"소나타\", \"말리부\", \"카니발\", \"쏘렌토\"]\n",
    "\n",
    "n = 0\n",
    "while True:\n",
    "    print(cars[n])\n",
    "    n += 1\n",
    "    \n",
    "    if n == len(cars):\n",
    "        break"
   ]
  },
  {
   "cell_type": "markdown",
   "id": "b82b466b",
   "metadata": {},
   "source": [
    "# 09_enumerate()함수"
   ]
  },
  {
   "cell_type": "markdown",
   "id": "5a11288f",
   "metadata": {},
   "source": [
    "- enumerate( ) 함수를 이용하면 아이템을 열거할 수 있다"
   ]
  },
  {
   "cell_type": "code",
   "execution_count": 8,
   "id": "cb9e59b9",
   "metadata": {},
   "outputs": [
    {
     "name": "stdout",
     "output_type": "stream",
     "text": [
      "0 : 농구\n",
      "1 : 수구\n",
      "2 : 축구\n",
      "3 : 마라톤\n",
      "4 : 테니스\n"
     ]
    }
   ],
   "source": [
    "sports = [\"농구\", \"수구\", \"축구\", \"마라톤\", \"테니스\"]\n",
    "\n",
    "for idx, value in enumerate(sports):\n",
    "    print(f\"{idx} : {value}\")"
   ]
  },
  {
   "cell_type": "code",
   "execution_count": 12,
   "id": "925ad6f6",
   "metadata": {},
   "outputs": [
    {
     "name": "stdout",
     "output_type": "stream",
     "text": [
      "가장 좋아하는 스포츠 입력: 마라톤\n",
      "마라톤(은)는 4 번째에 있습니다.\n"
     ]
    }
   ],
   "source": [
    "sports = [\"농구\", \"수구\", \"축구\", \"마라톤\", \"테니스\"]\n",
    "user = str(input(\"가장 좋아하는 스포츠 입력: \"))\n",
    "\n",
    "for idx, value in enumerate(sports):\n",
    "    if value == user:\n",
    "        print(f\"{user}(은)는 {idx+1} 번째에 있습니다.\")"
   ]
  },
  {
   "cell_type": "markdown",
   "id": "3c901be5",
   "metadata": {},
   "source": [
    "# 10_append( )\n",
    "- 리스트에 아이템 추가\n",
    "- append( ) 함수를 이용하면 마지막 인덱스에 아이템을 추가할 수 있다.\n",
    "~~~python\n",
    "list.append(value)\n",
    "~~~"
   ]
  },
  {
   "cell_type": "markdown",
   "id": "b522a652",
   "metadata": {},
   "source": [
    "# 11_insert( )\n",
    "- 리스트의 특정 위치에 아이템 추가.\n",
    "- insert() 함수를 이용하면 특정 위치(인덱스)에 아이템을 추가할 수 있다.\n",
    "~~~python\n",
    "insert(idx, value)\n",
    "~~~"
   ]
  },
  {
   "cell_type": "markdown",
   "id": "4e15565a",
   "metadata": {},
   "source": [
    "# 12_pop( )\n",
    "- 리스트의 아이템 삭제.\n",
    "- pop( ) 함수를 이용하면 마지막 인덱스에 해당하는 아이템을 삭제할 수 있다.\n",
    "- pop( )함수를 인덱스에 해당하는 아이템을 삭제할 수 있다.\n",
    "\n",
    "~~~python\n",
    "list.pop(idx)\n",
    "~~~"
   ]
  },
  {
   "cell_type": "markdown",
   "id": "1ca882cf",
   "metadata": {},
   "source": [
    "# 13_remove(  )\n",
    "- remove( ) 함수를 이용하면 특정 아이템을 삭제할 수 있다.\n",
    "- remove( )는 한 개의 아이템만 삭제 가능하다. 만약 삭제하려는 데이터가\n",
    "    2개 이상이라면 while문을 이용하자.\n",
    "~~~python\n",
    "list.remove(value)\n",
    "~~~"
   ]
  },
  {
   "cell_type": "markdown",
   "id": "7bd353cf",
   "metadata": {},
   "source": [
    "# 14_extend( )\n",
    "- extend() 함수를 이용하면 리스트에 또 다른 리스트를 연결(확장)할 수 있다.\n",
    "- \" + \" 덧셈 연산자를 이용해서 리스트를 연결할 수도 있다."
   ]
  },
  {
   "cell_type": "code",
   "execution_count": 25,
   "id": "47b1c6b4",
   "metadata": {},
   "outputs": [
    {
     "name": "stdout",
     "output_type": "stream",
     "text": [
      "my_num: [1, 3, 4, 6, 7]\n",
      "friend num: [2, 3, 5, 8, 10]\n",
      "add list: [1, 3, 4, 6, 7, 2, 3, 5, 8, 10]\n",
      "result: [1, 3, 4, 6, 7, 2, 5, 8, 10]\n"
     ]
    }
   ],
   "source": [
    "# 나와 친구가 좋아는 번호를 합치되 번호가 중복되지 않게 하는 프로그램을 만들자.\n",
    "my_number = [1, 3, 4, 6, 7]\n",
    "friend_number = [2, 3, 5, 8, 10]\n",
    "\n",
    "print(f\"my_num: {my_number}\")\n",
    "print(f\"friend num: {friend_number}\")\n",
    "\n",
    "add_list = my_number + friend_number\n",
    "print(f\"add list: {add_list}\")\n",
    "\n",
    "result = []\n",
    "\n",
    "for num in add_list:\n",
    "    if num not in result:\n",
    "        result.append(num)\n",
    "print(f\"result: {result}\")"
   ]
  },
  {
   "cell_type": "markdown",
   "id": "d656d562",
   "metadata": {},
   "source": [
    "# 15_sort( )\n",
    "- sort( ) 함수를 이용하면 아이템을 정렬할 수 있다.\n",
    "~~~python\n",
    "list.sort() # 오름차순 정렬\n",
    "list.sort(reverse = True) # 내림차순 정렬\n",
    "~~~"
   ]
  },
  {
   "cell_type": "markdown",
   "id": "32580472",
   "metadata": {},
   "source": [
    "# ⚡️ sort( ), sorted( )\n",
    "- sort( ) 함수는 리스트를 \"제자리\"에서 정렬합니다. 즉, 새로운 리스트를 반환하지 않고 원래 리스트를 수정합니다\n",
    "- 그래서 sort( )의 결과를 sort_list에 할당하면 None이 됩니다."
   ]
  },
  {
   "cell_type": "code",
   "execution_count": 38,
   "id": "5cd122f3",
   "metadata": {},
   "outputs": [
    {
     "name": "stdout",
     "output_type": "stream",
     "text": [
      "[4, 6, 1, 7, 3]\n",
      "None\n"
     ]
    }
   ],
   "source": [
    "number = [4, 6, 1,  7, 3]\n",
    "\n",
    "print(number)\n",
    "sort_list = number.sort()\n",
    "print(sort_list)"
   ]
  },
  {
   "cell_type": "markdown",
   "id": "b26f0c26",
   "metadata": {},
   "source": [
    "- 리스트를 정렬하고 출력하려면, 먼저 sort( )를 호출하고 그 후에 리스트를 출력해야 합니다"
   ]
  },
  {
   "cell_type": "code",
   "execution_count": 40,
   "id": "8438c1af",
   "metadata": {},
   "outputs": [
    {
     "name": "stdout",
     "output_type": "stream",
     "text": [
      "[4, 6, 1, 7, 3]\n",
      "[1, 3, 4, 6, 7]\n"
     ]
    }
   ],
   "source": [
    "number = [4, 6, 1,  7, 3]\n",
    "\n",
    "print(number)\n",
    "number.sort()\n",
    "print(number)"
   ]
  },
  {
   "cell_type": "markdown",
   "id": "096f551f",
   "metadata": {},
   "source": [
    "- 원래의 리스트를 정렬하지 않고 새로운 정렬된 리스트를 만들고 싶다면 sorted() 함수를 사용해야 합니다.\n",
    "- 이 경우 sorted()는 원래 리스트를 수정하지 않고 원래 리스트의 정렬된 버전을 새 리스트로 반환합니다."
   ]
  },
  {
   "cell_type": "code",
   "execution_count": 44,
   "id": "1c9ee4c2",
   "metadata": {},
   "outputs": [
    {
     "name": "stdout",
     "output_type": "stream",
     "text": [
      "[4, 6, 1, 7, 3]\n",
      "[1, 3, 4, 6, 7]\n"
     ]
    }
   ],
   "source": [
    "number = [4, 6, 1,  7, 3]\n",
    "\n",
    "print(number)\n",
    "sort_list = sorted(number)\n",
    "print(sort_list)"
   ]
  },
  {
   "cell_type": "markdown",
   "id": "fba1132a",
   "metadata": {},
   "source": [
    "# 16_reverse( )\n",
    "- reverse() 함수를 이용하면 아이템을 순서를 뒤집을 수 있다.\n",
    "~~~python\n",
    "list.reverse()\n",
    "~~~"
   ]
  },
  {
   "cell_type": "markdown",
   "id": "4866f73d",
   "metadata": {},
   "source": [
    "# 17_리스트 슬라이싱\n",
    "- [n:m]을 이용하면 리스트에서 원하는 아이템만 뽑아낼 수 있다.\n",
    "- [n:m]을 이용하면 문자열도 슬라이싱이 가능하다.\n",
    "- 슬라이싱을 이용해서 아이템을 변경할 수 있다.\n",
    "- slice()함수를 이용해서 아이템을 슬라이싱할 수 있다.\n",
    "~~~python\n",
    "list[slice(2, 4)]\n",
    "~~~"
   ]
  },
  {
   "cell_type": "markdown",
   "id": "ce100fcf",
   "metadata": {},
   "source": [
    "# 18_리스트 나머지 기능들 (01)"
   ]
  },
  {
   "cell_type": "markdown",
   "id": "fb28b8ed",
   "metadata": {},
   "source": [
    "# 리스트 곱셈 연산\n",
    "- 리스트를 곱셈 연산하면 아이템이 반복된다.\n",
    "~~~python\n",
    "list * 2\n",
    "~~~"
   ]
  },
  {
   "cell_type": "markdown",
   "id": "71bfbf4d",
   "metadata": {},
   "source": [
    "# index( )\n",
    "- index(value) 함수를 value의 인덱스를 알아낼 수 있다."
   ]
  },
  {
   "cell_type": "markdown",
   "id": "e68b2f83",
   "metadata": {},
   "source": [
    "# count( )\n",
    "- count(value) 함수를 이용하면 특정 아이템의 개수를 알아낼 수 있다."
   ]
  },
  {
   "cell_type": "markdown",
   "id": "8242ae8a",
   "metadata": {},
   "source": [
    "# del\n",
    "- del 키워드를 이용하면 특정 아이템을 삭제할 수 있다.\n",
    "- del list[idx]\n",
    "~~~python\n",
    "del number[1]\n",
    "~~~"
   ]
  },
  {
   "cell_type": "markdown",
   "id": "9fe53725",
   "metadata": {},
   "source": [
    "# 20_튜플(Tuple)"
   ]
  },
  {
   "cell_type": "markdown",
   "id": "70dabff9",
   "metadata": {},
   "source": [
    "- 리스트(List)와 비슷하지만 수정 삭제 등 변경이 불가하다.\n",
    "- ‘( )’를 이용해서 선언하고, 데이터 구분은 ‘,’를 이용한다.\n",
    "    - 숫자, 문자(열), 논리형 등 모든 기본 데이터를 같이 저장할 수 있다.\n",
    "- 튜플도 리스트와 마찬가지로 value에 자동으로 부여되는 idx가 있다."
   ]
  },
  {
   "cell_type": "markdown",
   "id": "21ac1474",
   "metadata": {},
   "source": [
    "# 22_in과 not in 키워드\n",
    "- in, not in 키워드를 이용하면 아이템의 존재 유/무를 알 수 있다.\n",
    "- in, not in 키워드는 문자열에서도 사용 가능하다."
   ]
  },
  {
   "cell_type": "code",
   "execution_count": 58,
   "id": "4d8e93f8",
   "metadata": {},
   "outputs": [
    {
     "name": "stdout",
     "output_type": "stream",
     "text": [
      "숫자 입력(환율 50%): 5\n",
      "빙공!!\n",
      "random_number: [2, 8, 5, 10, 3]\n",
      "user_number: 5\n"
     ]
    }
   ],
   "source": [
    "import random\n",
    "\n",
    "sample_list = random.sample(range(1, 11), 5)\n",
    "user = int(input(\"숫자 입력(환율 50%): \"))\n",
    "\n",
    "if user in sample_list:\n",
    "    print(\"빙공!!\")\n",
    "    \n",
    "else:\n",
    "    print(\"다음 기회에~~\")\n",
    "\n",
    "print(f\"random_number: {sample_list}\")\n",
    "print(f\"user_number: {user}\")"
   ]
  }
 ],
 "metadata": {
  "kernelspec": {
   "display_name": "Python 3 (ipykernel)",
   "language": "python",
   "name": "python3"
  },
  "language_info": {
   "codemirror_mode": {
    "name": "ipython",
    "version": 3
   },
   "file_extension": ".py",
   "mimetype": "text/x-python",
   "name": "python",
   "nbconvert_exporter": "python",
   "pygments_lexer": "ipython3",
   "version": "3.9.16"
  }
 },
 "nbformat": 4,
 "nbformat_minor": 5
}
