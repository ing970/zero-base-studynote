{
 "cells": [
  {
   "cell_type": "markdown",
   "id": "d6ebe005",
   "metadata": {},
   "source": [
    "# ⚡️study by 석민⚡️"
   ]
  },
  {
   "cell_type": "markdown",
   "id": "4cc5564a",
   "metadata": {},
   "source": [
    "# 39_[연습문제] 리스트(01)"
   ]
  },
  {
   "cell_type": "code",
   "execution_count": 5,
   "id": "bbbb5770",
   "metadata": {},
   "outputs": [
    {
     "name": "stdout",
     "output_type": "stream",
     "text": [
      "1보다 큰 정수 입력: 50\n",
      "50의 약수: [1, 2, 5, 10, 25, 50]\n",
      "50의 소수: [2, 3, 5, 7, 11, 13, 17, 19, 23, 29, 31, 37, 41, 43, 47]\n"
     ]
    }
   ],
   "source": [
    "# 1부터 사용자가 입력한 숫자까지의 약수와 소수를 리스트에 각각 저장하고, 이것을 출력하는 프로그램을 만들어보자.\n",
    "\n",
    "num = int(input(\"1보다 큰 정수 입력: \"))\n",
    "\n",
    "list_a = []\n",
    "list_b = []\n",
    "\n",
    "for i in range(1, (num + 1)):\n",
    "    if num == 1:\n",
    "        list_a.append(i)\n",
    "        \n",
    "    else:\n",
    "        if num % i == 0:\n",
    "            list_a.append(i)\n",
    "            \n",
    "\n",
    "for i in range(2, (num + 1)):\n",
    "    flag = True\n",
    "    for j in range(2, int(i**0.5) + 1):\n",
    "        if i % j == 0:\n",
    "            flag = False\n",
    "            break\n",
    "    if flag:\n",
    "        list_b.append(i)\n",
    "    \n",
    "print(f\"50의 약수: {list_a}\")\n",
    "print(f\"50의 소수: {list_b}\")"
   ]
  },
  {
   "cell_type": "markdown",
   "id": "9568b8c7",
   "metadata": {},
   "source": [
    "# 40_[연습문제] 리스트(02)"
   ]
  },
  {
   "cell_type": "code",
   "execution_count": 10,
   "id": "73dc37ff",
   "metadata": {},
   "outputs": [
    {
     "name": "stdout",
     "output_type": "stream",
     "text": [
      "홀수인 난수: [41, 39, 71, 11, 21, 1]\n",
      "홀수인 난수 갯수: 6\n",
      "====================\n",
      "짝수인 난수: [34, 96, 98, 82]\n",
      "짝수인 난수 갯수: 4\n"
     ]
    }
   ],
   "source": [
    "# 1부터 100사이에 난수 10개를 생성한 후 짝수와 홀수를 구분해서 리스트에\n",
    "# 저장하고 각각의 개수를 출력하는 프로그램을 만들어보자.\n",
    "\n",
    "import random\n",
    "\n",
    "num_r = random.sample(range(1, 100), 10)\n",
    "\n",
    "list_odd = []\n",
    "list_even = []\n",
    "\n",
    "for num in num_r:\n",
    "    if num % 2 == 0:\n",
    "        list_even.append(num)\n",
    "        \n",
    "    else:\n",
    "        list_odd.append(num)\n",
    "\n",
    "print(f\"홀수인 난수: {list_odd}\")\n",
    "print(f\"홀수인 난수 갯수: {len(list_odd)}\")\n",
    "print(\"=\"*20)\n",
    "print(f\"짝수인 난수: {list_even}\")\n",
    "print(f\"짝수인 난수 갯수: {len(list_even)}\")"
   ]
  },
  {
   "cell_type": "markdown",
   "id": "ba9fbb5f",
   "metadata": {},
   "source": [
    "# 42_[연습문제] 리스트(04)"
   ]
  },
  {
   "cell_type": "code",
   "execution_count": 12,
   "id": "3ba1ea1d",
   "metadata": {},
   "outputs": [
    {
     "name": "stdout",
     "output_type": "stream",
     "text": [
      "친구 이름 입력: 박찬호\n",
      "친구 이름 입력: 홍길동\n",
      "친구 이름 입력: 유재석\n",
      "친구 이름 입력: 강호동\n",
      "친구 이름 입력: 박지성\n",
      "친구들: ['박찬호', '홍길동', '유재석', '강호동', '박지성']\n",
      "오름차순: ['강호동', '박지성', '박찬호', '유재석', '홍길동']\n",
      "내림차순: ['홍길동', '유재석', '박찬호', '박지성', '강호동']\n"
     ]
    }
   ],
   "source": [
    "# 친구 이름 다섯 명을 리스트에 저장하고 오름차순과 내림차순으로 정렬해보자.\n",
    "name_list = []\n",
    "\n",
    "for _ in range(5):\n",
    "    name = str(input(\"친구 이름 입력: \"))\n",
    "    name_list.append(name)\n",
    "    \n",
    "print(f\"친구들: {name_list}\")\n",
    "name_list.sort()\n",
    "print(f\"오름차순: {name_list}\")\n",
    "name_list.sort(reverse = True)\n",
    "print(f\"내림차순: {name_list}\")"
   ]
  },
  {
   "cell_type": "markdown",
   "id": "be802472",
   "metadata": {},
   "source": [
    "# 43_[연습문제] 리스트(05)"
   ]
  },
  {
   "cell_type": "code",
   "execution_count": 13,
   "id": "ea274177",
   "metadata": {},
   "outputs": [
    {
     "name": "stdout",
     "output_type": "stream",
     "text": [
      "result: [[4, 6], [4, 7], [4, 9], [6, 4], [6, 7], [6, 9], [7, 4], [7, 6], [7, 9], [9, 4], [9, 6], [9, 7]]\n"
     ]
    }
   ],
   "source": [
    "# 4개의 숫자 중 서로 다른 숫자 2개를 선택해서 만들 수 있는 모든 경우의 수를 출력하는 프로그램을 만들어보자.\n",
    "\n",
    "number = [4, 6, 7, 9]\n",
    "result = []\n",
    "\n",
    "for i in number:\n",
    "    for j in number:\n",
    "        if i == j:\n",
    "            continue\n",
    "        result.append([i, j])\n",
    "        \n",
    "print(f\"result: {result}\")"
   ]
  },
  {
   "cell_type": "code",
   "execution_count": 24,
   "id": "f9356f92",
   "metadata": {},
   "outputs": [
    {
     "name": "stdout",
     "output_type": "stream",
     "text": [
      "result: [[4, 6, 7], [4, 6, 9], [4, 7, 6], [4, 7, 9], [4, 9, 6], [4, 9, 7], [6, 4, 7], [6, 4, 9], [6, 7, 4], [6, 7, 9], [6, 9, 4], [6, 9, 7], [7, 4, 6], [7, 4, 9], [7, 6, 4], [7, 6, 9], [7, 9, 4], [7, 9, 6], [9, 4, 6], [9, 4, 7], [9, 6, 4], [9, 6, 7], [9, 7, 4], [9, 7, 6]]\n"
     ]
    }
   ],
   "source": [
    "# 4개의 숫자 중 서로 다른 숫자 3개를 선택해서 만들 수 있는 모든 경우의 수를 출력하는 프로그램을 만들어보자.\n",
    "\n",
    "number = [4, 6, 7, 9]\n",
    "result = []\n",
    "\n",
    "for i in number:\n",
    "    for j in number:\n",
    "        for n in number:\n",
    "            if i != j and i != n and j != n:\n",
    "                result.append([i, j, n])\n",
    "print(f\"result: {result}\")"
   ]
  },
  {
   "cell_type": "markdown",
   "id": "a17aa184",
   "metadata": {},
   "source": [
    "# 44_[연습문제] 튜플(01)"
   ]
  },
  {
   "cell_type": "markdown",
   "id": "7f38b485",
   "metadata": {},
   "source": [
    "# 45_[연습문제] 튜플(02)"
   ]
  },
  {
   "cell_type": "code",
   "execution_count": 25,
   "id": "05b87700",
   "metadata": {},
   "outputs": [
    {
     "name": "stdout",
     "output_type": "stream",
     "text": [
      "합집합: [1, 3, 2, 6, 12, 5, 7, 8, 0, 9, 17]\n",
      "교집합: [5, 2, 8, 6, 3]\n"
     ]
    }
   ],
   "source": [
    "# 다음 2개의 튜플에 대해서 합집합과 교집합을 출력해보자.\n",
    "\n",
    "tuple1 = (1, 3, 2, 6, 12, 5, 7, 8)\n",
    "tuple2 = (0,5, 2, 9, 8, 6, 17, 3)\n",
    "\n",
    "hap = list(tuple1)\n",
    "gyo = list()\n",
    "\n",
    "for i in tuple2:\n",
    "    if i not in hap:\n",
    "        hap.append(i)\n",
    "    else:\n",
    "        gyo.append(i)\n",
    "        \n",
    "print(f\"합집합: {hap}\")\n",
    "print(f\"교집합: {gyo}\")"
   ]
  },
  {
   "cell_type": "markdown",
   "id": "1c0fd05b",
   "metadata": {},
   "source": [
    "# 46_[연습문제] 튜플(03)"
   ]
  },
  {
   "attachments": {
    "%E1%84%89%E1%85%B3%E1%84%8F%E1%85%B3%E1%84%85%E1%85%B5%E1%86%AB%E1%84%89%E1%85%A3%E1%86%BA%202023-07-22%20%E1%84%8B%E1%85%A9%E1%84%8C%E1%85%A5%E1%86%AB%206.59.51.png": {
     "image/png": "[encoded data removed]"
    }
   },
   "cell_type": "markdown",
   "id": "9f39688e",
   "metadata": {},
   "source": [
    "- 다음 튜플을 요구 사항에 맞춰 아이템을 슬라이스하자.\n",
    "![%E1%84%89%E1%85%B3%E1%84%8F%E1%85%B3%E1%84%85%E1%85%B5%E1%86%AB%E1%84%89%E1%85%A3%E1%86%BA%202023-07-22%20%E1%84%8B%E1%85%A9%E1%84%8C%E1%85%A5%E1%86%AB%206.59.51.png](attachment:%E1%84%89%E1%85%B3%E1%84%8F%E1%85%B3%E1%84%85%E1%85%B5%E1%86%AB%E1%84%89%E1%85%A3%E1%86%BA%202023-07-22%20%E1%84%8B%E1%85%A9%E1%84%8C%E1%85%A5%E1%86%AB%206.59.51.png)"
   ]
  },
  {
   "cell_type": "code",
   "execution_count": 29,
   "id": "428765dc",
   "metadata": {},
   "outputs": [
    {
     "name": "stdout",
     "output_type": "stream",
     "text": [
      "index 0 부터 3까지: (8.7, 9.0, 9.1, 9.2)\n",
      "index 2 부터 4까지: (9.1, 9.2, 8.6)\n",
      "index 3 부터 끝까지: (9.2, 8.6, 0.3, 7.9, 8.1, 8.3)\n",
      "index 2 부터 -2까지: (9.1, 9.2, 8.6, 0.3, 7.9)\n",
      "index 0 부터 끝까지 3단계: (8.7, 9.2, 7.9)\n"
     ]
    }
   ],
   "source": [
    "numbers = (8.7, 9.0, 9.1, 9.2, 8.6, 0.3, 7.9, 8.1, 8.3)\n",
    "print(f\"index 0 부터 3까지: {numbers[:4]}\")\n",
    "print(f\"index 2 부터 4까지: {numbers[2:5]}\")\n",
    "print(f\"index 3 부터 끝까지: {numbers[3:]}\")\n",
    "print(f\"index 2 부터 -2까지: {numbers[2:-2]}\")\n",
    "print(f\"index 0 부터 끝까지 3단계: {numbers[::3]}\")"
   ]
  },
  {
   "cell_type": "code",
   "execution_count": 33,
   "id": "cf54bd7b",
   "metadata": {},
   "outputs": [
    {
     "name": "stdout",
     "output_type": "stream",
     "text": [
      "국어 점수 입력: 92\n",
      "영어 점수 입력: 86\n",
      "수학 점수 입력: 77\n",
      "과학 점수 입력: 68\n",
      "국사 점수 입력: 54\n",
      "scores: ({'kor': 92}, {'eng': 86}, {'mat': 77}, {'sci': 68}, {'his': 54})\n",
      "scores: ({'kor': 'A'}, {'eng': 'B'}, {'mat': 'C'}, {'sci': 'D'}, {'his': 'F'})\n"
     ]
    }
   ],
   "source": [
    "# 시험 점수를 입력한 후 튜플에 저장하고 과목별 학점을 출력해보자.\n",
    "    \n",
    "kor_score = int(input(\"국어 점수 입력: \"))\n",
    "eng_score = int(input(\"영어 점수 입력: \"))\n",
    "mat_score = int(input(\"수학 점수 입력: \"))\n",
    "sci_score = int(input(\"과학 점수 입력: \"))\n",
    "his_score = int(input(\"국사 점수 입력: \"))\n",
    "\n",
    "scores = (\n",
    "        {\"kor\": kor_score},\n",
    "        {\"eng\": eng_score},\n",
    "        {\"mat\": mat_score},\n",
    "        {\"sci\": sci_score},\n",
    "        {\"his\": his_score},\n",
    ")\n",
    "\n",
    "print(f\"scores: {scores}\")\n",
    "\n",
    "for item in scores:\n",
    "    for key in item.keys():\n",
    "        \n",
    "        if item[key] >= 90:\n",
    "            item[key] = \"A\"\n",
    "            \n",
    "        elif item[key] < 90 and item[key] >= 80:\n",
    "            item[key] = \"B\"\n",
    "            \n",
    "        elif item[key] < 80 and item[key] >= 70:\n",
    "            item[key] = \"C\"\n",
    "            \n",
    "        elif item[key] < 70 and item[key] >= 60:\n",
    "            item[key] = \"D\"\n",
    "            \n",
    "        else:\n",
    "            item[key] = \"F\"\n",
    "        \n",
    "print(f\"scores: {scores}\")\n"
   ]
  },
  {
   "cell_type": "markdown",
   "id": "9fcf3c97",
   "metadata": {},
   "source": [
    "# 47_[연습문제] 튜플(04)"
   ]
  },
  {
   "cell_type": "code",
   "execution_count": 5,
   "id": "b22045f1",
   "metadata": {},
   "outputs": [
    {
     "name": "stdout",
     "output_type": "stream",
     "text": [
      "[('수박', 8), ('참외', 12), ('포도', 13), ('자몽', 15), ('사과', 17), ('자두', 19)]\n",
      "[('자두', 19), ('사과', 17), ('자몽', 15), ('포도', 13), ('참외', 12), ('수박', 8)]\n"
     ]
    }
   ],
   "source": [
    "# 다음 튜플의 과일 개수에 대해서 오름차순 및 내림차순으로 정렬해보자.\n",
    "fruits = (\n",
    "    {\"수박\":8},\n",
    "    {\"포도\":13},\n",
    "    {\"참외\":12},\n",
    "    {\"사과\":17},\n",
    "    {\"자두\":19},\n",
    "    {\"자몽\":15},\n",
    ")\n",
    "\n",
    "# 먼저 딕셔너리들의 튜플을 단일 딕셔너리로 변환\n",
    "fruits_dict = {list(fruit.keys())[0]: list(fruit.values())[0] for fruit in fruits}\n",
    "\n",
    "# 과일 개수를 오름차순으로 정렬\n",
    "sorted_fruits_asc = sorted(fruits_dict.items(), key=lambda x: x[1])\n",
    "print(sorted_fruits_asc)\n",
    "\n",
    "# 과일 개수를 내림차순으로 정렬\n",
    "sorted_fruits_desc = sorted(fruits_dict.items(), key=lambda x: x[1], reverse=True)\n",
    "print(sorted_fruits_desc)"
   ]
  },
  {
   "cell_type": "markdown",
   "id": "d484b2f8",
   "metadata": {},
   "source": [
    "# 49_[연습문제] 딕셔너리(01)"
   ]
  },
  {
   "cell_type": "code",
   "execution_count": 6,
   "id": "5b84fd77",
   "metadata": {},
   "outputs": [
    {
     "name": "stdout",
     "output_type": "stream",
     "text": [
      "국어점수 입력: 88\n",
      "영어점수 입력: 96\n",
      "수학점수 입력: 89\n",
      "과학점수 입력: 79\n",
      "국사점수 입력: 83\n",
      "{'국어': '88', '영어': '96', '수학': '89', '과학': '79', '국사': '83'}\n"
     ]
    }
   ],
   "source": [
    "# 과목별 점수를 딕셔너리에 저장하고 출력하는 프로그램을 만들어보자.\n",
    "\n",
    "subject = [\"국어\", \"영어\", \"수학\", \"과학\", \"국사\"]\n",
    "scores = {}\n",
    "\n",
    "for i in subject:\n",
    "    score = input(i + \"점수 입력: \")\n",
    "    scores[i] = score\n",
    "\n",
    "print(scores)"
   ]
  },
  {
   "cell_type": "markdown",
   "id": "8ddf9473",
   "metadata": {},
   "source": [
    "# 50_[연습문제] 딕셔너리(02)"
   ]
  },
  {
   "cell_type": "code",
   "execution_count": 7,
   "id": "1d394e38",
   "metadata": {},
   "outputs": [
    {
     "name": "stdout",
     "output_type": "stream",
     "text": [
      "{3: [180, 60], 4: [360, 90], 5: [540, 108], 6: [720, 120], 7: [900, 128], 8: [1080, 135], 9: [1260, 140], 10: [1440, 144]}\n"
     ]
    }
   ],
   "source": [
    "# 삼각형부터 십각형까지의 내각의 합과 내각을 딕셔너리에 저장하는 프로그램을 만들어보자.\n",
    "\n",
    "dic = {}\n",
    "\n",
    "for i in range(3,11):\n",
    "    hap = 180 * (i-2)\n",
    "    ang = int(hap / i)\n",
    "    dic[i] = [hap, ang]\n",
    "print(dic)"
   ]
  },
  {
   "cell_type": "markdown",
   "id": "67d60175",
   "metadata": {},
   "source": [
    "# 51_[연습문제] 딕셔너리(03)"
   ]
  },
  {
   "cell_type": "code",
   "execution_count": 10,
   "id": "82796985",
   "metadata": {},
   "outputs": [
    {
     "name": "stdout",
     "output_type": "stream",
     "text": [
      "{0: '파이썬은', 1: '1991년', 2: '프로그래머인', 3: '귀도', 4: '반', 5: '로섬이', 6: '발표한', 7: '고급', 8: '프로그래밍', 9: '언어이다.'}\n"
     ]
    }
   ],
   "source": [
    "about_python = \"파이썬은 1991년 프로그래머인 귀도 반 로섬이 발표한 고급 프로그래밍 언어이다.\"\n",
    "l = about_python.split()\n",
    "dic = {}\n",
    "\n",
    "for idx, value in enumerate(l):\n",
    "    dic[idx] = value\n",
    "    \n",
    "print(dic)"
   ]
  },
  {
   "cell_type": "markdown",
   "id": "703c3046",
   "metadata": {},
   "source": [
    "# 53_[연습문제] 딕셔너리(05)"
   ]
  },
  {
   "cell_type": "code",
   "execution_count": 19,
   "id": "92db63ed",
   "metadata": {},
   "outputs": [
    {
     "name": "stdout",
     "output_type": "stream",
     "text": [
      "학생번호: S21-0001\n",
      "이름: 최성훈\n",
      "성구분: M\n",
      "전공: 디자인\n",
      "연락처: 010-1234-5678\n",
      "메일: hun@gmail.com\n",
      "취미: ['농구', '음악']\n",
      "========================================\n",
      "학생번호: S21-0002\n",
      "이름: 탁영우\n",
      "성구분: M\n",
      "전공: 바리스타\n",
      "연락처: 010-5678-9012\n",
      "메일: yeong@gmail.com\n",
      "취미: 축구\n",
      "========================================\n",
      "학생번호: S21-0003\n",
      "이름: 황진영\n",
      "성구분: W\n",
      "전공: 음악\n",
      "연락처: 010-9012-3456\n",
      "메일: jin@gmail.com\n",
      "취미: ['수영', '코딩']\n",
      "========================================\n",
      "조회 대상 학생 번호 입력: S21-0001\n",
      "S21-0001: {'이름': '최성훈', '성구분': 'M', '전공': '디자인', '연락처': '010-1234-5678', '메일': 'hun@gmail.com', '취미': ['농구', '음악']}\n"
     ]
    }
   ],
   "source": [
    "students = {\n",
    "    \"S21-0001\": {\"이름\": \"최성훈\",\n",
    "                \"성구분\": \"M\",\n",
    "                \"전공\": \"디자인\",\n",
    "                \"연락처\": \"010-1234-5678\",\n",
    "                \"메일\": \"hun@gmail.com\",\n",
    "                \"취미\": [\"농구\", \"음악\"]},\n",
    "    \"S21-0002\": {\"이름\": \"탁영우\",\n",
    "                \"성구분\": \"M\",\n",
    "                \"전공\": \"바리스타\",\n",
    "                \"연락처\": \"010-5678-9012\",\n",
    "                \"메일\": \"yeong@gmail.com\",\n",
    "                \"취미\": \"축구\"},\n",
    "    \"S21-0003\": {\"이름\": \"황진영\",\n",
    "                \"성구분\": \"W\",\n",
    "                \"전공\": \"음악\",\n",
    "                \"연락처\": \"010-9012-3456\",\n",
    "                \"메일\": \"jin@gmail.com\",\n",
    "                \"취미\": [\"수영\", \"코딩\"]}\n",
    "}\n",
    "for k1 in students.keys():\n",
    "    print(f\"학생번호: {k1}\")\n",
    "    \n",
    "    student = students[k1]\n",
    "    for k2 in student.keys():\n",
    "        print(f\"{k2}: {student[k2]}\")\n",
    "    print(\"=\"*40)\n",
    "        \n",
    "student_no = input(\"조회 대상 학생 번호 입력: \")\n",
    "print(f\"{student_no}: {students[student_no]}\")"
   ]
  },
  {
   "cell_type": "code",
   "execution_count": null,
   "id": "d6d092db",
   "metadata": {},
   "outputs": [],
   "source": []
  },
  {
   "cell_type": "code",
   "execution_count": null,
   "id": "8a05449d",
   "metadata": {},
   "outputs": [],
   "source": []
  },
  {
   "cell_type": "code",
   "execution_count": null,
   "id": "bb5a5c48",
   "metadata": {},
   "outputs": [],
   "source": []
  },
  {
   "cell_type": "code",
   "execution_count": null,
   "id": "b7728d2f",
   "metadata": {},
   "outputs": [],
   "source": []
  },
  {
   "cell_type": "code",
   "execution_count": null,
   "id": "9759c962",
   "metadata": {},
   "outputs": [],
   "source": []
  },
  {
   "cell_type": "code",
   "execution_count": null,
   "id": "ec591758",
   "metadata": {},
   "outputs": [],
   "source": []
  },
  {
   "cell_type": "code",
   "execution_count": null,
   "id": "789ede17",
   "metadata": {},
   "outputs": [],
   "source": []
  },
  {
   "cell_type": "code",
   "execution_count": null,
   "id": "75228fb5",
   "metadata": {},
   "outputs": [],
   "source": []
  },
  {
   "cell_type": "code",
   "execution_count": null,
   "id": "57e3b046",
   "metadata": {},
   "outputs": [],
   "source": []
  },
  {
   "cell_type": "code",
   "execution_count": null,
   "id": "cf69a92a",
   "metadata": {},
   "outputs": [],
   "source": []
  },
  {
   "cell_type": "code",
   "execution_count": null,
   "id": "8a2c3f5b",
   "metadata": {},
   "outputs": [],
   "source": []
  },
  {
   "cell_type": "code",
   "execution_count": null,
   "id": "805e4e9e",
   "metadata": {},
   "outputs": [],
   "source": []
  },
  {
   "cell_type": "code",
   "execution_count": null,
   "id": "a1126d87",
   "metadata": {},
   "outputs": [],
   "source": []
  },
  {
   "cell_type": "code",
   "execution_count": null,
   "id": "8b725f71",
   "metadata": {},
   "outputs": [],
   "source": []
  }
 ],
 "metadata": {
  "kernelspec": {
   "display_name": "Python 3 (ipykernel)",
   "language": "python",
   "name": "python3"
  },
  "language_info": {
   "codemirror_mode": {
    "name": "ipython",
    "version": 3
   },
   "file_extension": ".py",
   "mimetype": "text/x-python",
   "name": "python",
   "nbconvert_exporter": "python",
   "pygments_lexer": "ipython3",
   "version": "3.9.16"
  }
 },
 "nbformat": 4,
 "nbformat_minor": 5
}
