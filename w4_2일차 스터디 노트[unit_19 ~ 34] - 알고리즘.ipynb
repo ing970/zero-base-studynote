{
 "cells": [
  {
   "cell_type": "markdown",
   "id": "d6ebe005",
   "metadata": {},
   "source": [
    "# ⚡️study by 석민⚡️"
   ]
  },
  {
   "cell_type": "markdown",
   "id": "4cc5564a",
   "metadata": {},
   "source": [
    "# 19_근삿값"
   ]
  },
  {
   "cell_type": "markdown",
   "id": "e6e03d0b",
   "metadata": {},
   "source": [
    "- 특정 값(참값)에 가장 가까운 값을 근삿값이라고 한다."
   ]
  },
  {
   "cell_type": "code",
   "execution_count": 50,
   "id": "44024119",
   "metadata": {},
   "outputs": [
    {
     "name": "stdout",
     "output_type": "stream",
     "text": [
      "nums : [15, 27, 0, 1, 32, 31, 6, 36, 35, 39, 37, 33, 4, 41, 24, 46, 21, 22, 13, 25]\n",
      "input num: 11\n",
      "input num: 11\n",
      "near_num: 13\n"
     ]
    }
   ],
   "source": [
    "import random\n",
    "nums = random.sample(range(0, 50), 20)\n",
    "print(f\"nums : {nums}\")\n",
    "\n",
    "input_num = int(input(\"input num: \"))\n",
    "print(f\"input num: {input_num}\")\n",
    "\n",
    "near_num = 0\n",
    "min_num = 50\n",
    "\n",
    "for n in nums:\n",
    "    abs_num = abs(n - input_num)\n",
    "#     print(f\"abs_num: {abs_num}\")\n",
    "    \n",
    "    if abs_num < min_num:\n",
    "        min_num = abs_num\n",
    "        near_num = n\n",
    "        \n",
    "print(f\"near_num: {near_num}\")"
   ]
  },
  {
   "cell_type": "markdown",
   "id": "d4459bca",
   "metadata": {},
   "source": [
    "# 21_평균"
   ]
  },
  {
   "cell_type": "markdown",
   "id": "dcd596c0",
   "metadata": {},
   "source": [
    "- 여러 수나 양의 중간값을 갖는 수를 평균이라고 한다."
   ]
  },
  {
   "cell_type": "markdown",
   "id": "a457302b",
   "metadata": {},
   "source": [
    "# 22_평균(실습)"
   ]
  },
  {
   "cell_type": "code",
   "execution_count": 6,
   "id": "0df50da6",
   "metadata": {},
   "outputs": [
    {
     "name": "stdout",
     "output_type": "stream",
     "text": [
      "전체 평균: 83.9\n",
      "1위 -> 9.4\n",
      "2위 -> 9.1\n",
      "3위 -> 8.9\n",
      "4위 -> 8.8\n",
      "5위 -> 8.7\n",
      "6위 -> 8.2\n",
      "7위 -> 8.1\n",
      "8위 -> 7.9\n",
      "9위 -> 7.6\n",
      "10위 -> 7.2\n"
     ]
    }
   ],
   "source": [
    "# 다음은 어떤 체조선수의 점수이다.평균을 구하고 순위를 정하는 알고리즘을 만들어보자.\n",
    "score_list = [8.9, 7.6, 8.2, 9.1, 8.8, 8.1, 7.9, 9.4, 7.2, 8.7]\n",
    "sum_score = 0\n",
    "grade_score = {}\n",
    "score_list.sort(reverse = True)\n",
    "\n",
    "for idx, value in enumerate(score_list):\n",
    "    grade_score[idx+1] = value\n",
    "    sum_score += value\n",
    "\n",
    "print(f\"전체 평균: {sum_score}\")\n",
    "\n",
    "for num in grade_score:\n",
    "    print(f\"{num}위 -> {grade_score[num]}\")"
   ]
  },
  {
   "cell_type": "markdown",
   "id": "73ff96f2",
   "metadata": {},
   "source": [
    "# 23_재귀"
   ]
  },
  {
   "cell_type": "markdown",
   "id": "25f49316",
   "metadata": {},
   "source": [
    "- 재귀 함수(recursive function)란 함수 내에서 자기 자신을 다시 호출하는 함수를 의미합니다. \n",
    "- 재귀 함수는 일반적으로 문제를 더 작은 하위 문제(sub-problems)로 분해하고, 이 하위 문제를 해결함으로써 원래 문제를 해결하는 방식으로 작동합니다.\n",
    "\n",
    "- 재귀 함수를 이해하고 설계하는 데는 두 가지 주요 요소가 있습니다.\n",
    "    - 기본 케이스(base case)\n",
    "    - 재귀 케이스(recursive case)\n",
    "\n",
    ">- 기본 케이스: 재귀 함수가 종료되는 조건입니다. 이는 더 이상 하위 문제로 분해할 수 없는 문제 상태를 나타내며, 이를 통해 재귀 호출이 무한히 계속되는 것을 방지합니다.\n",
    ">-재귀 케이스: 함수가 자신을 호출하여 문제를 더 작은 문제로 분해하는 부분입니다.\n",
    "\n",
    "⚡️ 예) 팩토리얼 함수는 재귀 함수를 사용하여 쉽게 구현할 수 있는 고전적인 예입니다. \n",
    "\n",
    "    - 팩토리얼 n!은 n * (n-1) * (n-2) * ... * 1이며, 재귀적으로 정의할 수 있습니다.\n",
    "~~~python\n",
    "    def factorial(n):\n",
    "    # 기본 케이스\n",
    "    if n == 0 or n == 1:\n",
    "        return 1\n",
    "    # 재귀 케이스\n",
    "    else:\n",
    "        return n * factorial(n - 1)\n",
    "~~~\n",
    "\n",
    "    - factorial(n - 1) 호출은 함수가 자기 자신을 호출하는 재귀적 부분입니다.\n",
    "    - n이 0이나 1이 되면 재귀 호출이 중지되고 1이 반환되는데, 이 부분이 기본 케이스입니다.\n",
    "- 귀 함수를 사용하면 복잡한 알고리즘을 간결하게 표현할 수 있지만, 잘못 사용하면 스택 오버플로우(stack overflow)와 같은 문제를 일으킬 수 있으므로 주의가 필요합니다. \n",
    "- 따라서 재귀 함수를 사용할 때는 항상 기본 케이스가 존재하도록 하여 재귀가 끝날 수 있도록 해야 합니다"
   ]
  },
  {
   "cell_type": "code",
   "execution_count": 8,
   "id": "c11bf1dd",
   "metadata": {},
   "outputs": [
    {
     "name": "stdout",
     "output_type": "stream",
     "text": [
      "**********\n",
      "*********\n",
      "********\n",
      "*******\n",
      "******\n",
      "*****\n",
      "****\n",
      "***\n",
      "**\n",
      "*\n"
     ]
    },
    {
     "data": {
      "text/plain": [
       "1"
      ]
     },
     "execution_count": 8,
     "metadata": {},
     "output_type": "execute_result"
    }
   ],
   "source": [
    "def star_print(n):\n",
    "    \n",
    "    if n == 0 :\n",
    "        return 1\n",
    "    \n",
    "    else:\n",
    "        print(\"*\"*n)\n",
    "        return star_print(n - 1)\n",
    "    \n",
    "star_print(10)"
   ]
  },
  {
   "cell_type": "markdown",
   "id": "42d3b5b9",
   "metadata": {},
   "source": [
    "# 24_재귀(실습)"
   ]
  },
  {
   "cell_type": "markdown",
   "id": "b9a08594",
   "metadata": {},
   "source": [
    "### 유클리드 호제법\n",
    "- 유클리드 호제법의 기본 아이디어는 두 수 a, b (a > b)의 최대 공약수는 'a를 b로 나눈 나머지'와 'b'의 최대 공약수와 같다는 것입니다"
   ]
  },
  {
   "cell_type": "code",
   "execution_count": 12,
   "id": "61e31ddc",
   "metadata": {},
   "outputs": [
    {
     "name": "stdout",
     "output_type": "stream",
     "text": [
      "8\n"
     ]
    }
   ],
   "source": [
    "def gcd(a, b):\n",
    "    \n",
    "    if b == 0:\n",
    "        return a \n",
    "    else:\n",
    "        return gcd(b, a % b)\n",
    "        \n",
    "print(gcd(96, 40))"
   ]
  },
  {
   "cell_type": "markdown",
   "id": "dea06759",
   "metadata": {},
   "source": [
    "# 25_하노이의 탑"
   ]
  },
  {
   "cell_type": "markdown",
   "id": "da78033d",
   "metadata": {},
   "source": [
    "- 세 개의 기둥과 이 기둥 중 하나에 꿴 원반이 있다고 가정합니다. 이 원반들은 크기 순서대로 꿰어져 있으며 가장 큰 원반이 가장 아래에, 가장 작은 원반이 가장 위에 있습니다. 목표는 모든 원반을 다른 기둥으로 옮기는 것입니다. 그러나 원반을 옮길 때는 다음과 같은 규칙을 따라야 합니다:\n",
    "> 1. 한 번에 하나의 원반만 옮길 수 있습니다.\n",
    "> 2. 작은 원반 위에 큰 원반을 놓을 수 없습니다."
   ]
  },
  {
   "attachments": {
    "38e392575fa40c5a077b3.gif": {
     "image/gif": "[encoded data removed]"
    }
   },
   "cell_type": "markdown",
   "id": "db2484e8",
   "metadata": {},
   "source": [
    "![38e392575fa40c5a077b3.gif](attachment:38e392575fa40c5a077b3.gif)"
   ]
  },
  {
   "cell_type": "markdown",
   "id": "3b14f3fb",
   "metadata": {},
   "source": [
    "# 26_하노이의 탑(실습)"
   ]
  },
  {
   "cell_type": "markdown",
   "id": "fdbc926e",
   "metadata": {},
   "source": [
    "### 문제 해결 방법\n",
    "> 1. 가장 위에 있는 n-1개의 원반을 '보조 기둥(auxiliary peg)'으로 옮깁니다.\n",
    "> 2. 남아있는 가장 큰 원반을 '목표 기둥(target peg)'으로 옮깁니다.\n",
    "> 3. 보조 기둥에 있는 n-1개의 원반을 목표 기둥으로 옮깁니다.\n",
    "\n",
    "- 위의 각 단계 역시 재귀적으로 실행할 수 있습니다. 각 단계에서 원반의 개수가 1개인 경우는 기본 경우(base case)로, 해당 원반을 바로 목표 기둥으로 옮기면 됩니다."
   ]
  },
  {
   "cell_type": "code",
   "execution_count": 18,
   "id": "92a6491f",
   "metadata": {},
   "outputs": [
    {
     "name": "stdout",
     "output_type": "stream",
     "text": [
      "1블럭: A에서 C(으)로 이동!!\n",
      "2블럭: A에서 B(으)로 이동!!\n",
      "1블럭: C에서 B(으)로 이동!!\n",
      "3블럭: A에서 C(으)로 이동!!\n",
      "1블럭: B에서 A(으)로 이동!!\n",
      "2블럭: B에서 C(으)로 이동!!\n",
      "1블럭: A에서 C(으)로 이동!!\n"
     ]
    }
   ],
   "source": [
    "def hanoi(n, source, target, auxiliary):\n",
    "    if n == 1:\n",
    "        print(f\"{n}블럭: {source}에서 {target}(으)로 이동!!\")\n",
    "    \n",
    "    else:\n",
    "        # 1. n-1개의 원반을 보조 기둥으로 옮깁니다.\n",
    "        hanoi(n - 1, source, auxiliary, target)\n",
    "\n",
    "        # 2. 남아있는 원반을 목표 기둥으로 옮깁니다.\n",
    "        print(f\"{n}블럭: {source}에서 {target}(으)로 이동!!\")\n",
    "\n",
    "        # 3. 보조 기둥에 있는 원반을 목표 기둥으로 옮깁니다.\n",
    "        hanoi(n - 1, auxiliary, target, source)\n",
    "\n",
    "# 3개의 원반을 사용하는 하노이의 탑 문제를 해결합니다.\n",
    "'''\n",
    "원반을 옮기는 순서가 출력됩니다. \n",
    "처음에는 3개의 원반이 'A' 기둥에 있고, \n",
    "최종적으로 모든 원반이 'C' 기둥으로 옮겨지는 과정을 보여줍니다.\n",
    "'''\n",
    "hanoi(3, 'A', 'C', 'B')"
   ]
  },
  {
   "cell_type": "markdown",
   "id": "9a1df70e",
   "metadata": {},
   "source": [
    "# 27_병합 정렬"
   ]
  },
  {
   "cell_type": "markdown",
   "id": "75680ed2",
   "metadata": {},
   "source": [
    "- 병합 정렬(Merge Sort)은 분할 정복(Divide and Conquer) 전략을 사용하는 효율적인 정렬 알고리즘입니다. \n",
    "- 병합 정렬은 원래 배열을 두 부분으로 분할하고 각 부분을 정렬한 다음 병합하는 과정을 반복하여 작동합니다. \n",
    "- 이 알고리즘은 O(n log n)의 시간 복잡도를 가지며, 안정적인 정렐 알고리즘으로 알려져 있습니다.\n",
    "\n",
    "### 병합 정렬의 주요 단계\n",
    ">1. 분할(Divide): 입력 배열을 같은 크기의 두 하위 배열로 분할합니다. 이를 재귀적으로 반복하여 각 하위 배열에 하나의 요소만 남을 때까지 분할합니다. 단일 요소 배열은 자체적으로 정렬된 배열로 간주됩니다.\n",
    ">2. 정렬(Sort): 분할된 배열을 각각 재귀적으로 정렬합니다.\n",
    ">3. 병합(Merge): 정렬된 두 하위 배열을 하나의 정렬된 배열로 병합합니다."
   ]
  },
  {
   "attachments": {
    "1_2Xl0wf6WZnVfinVPUn81bw.webp": {
     "image/webp": "[encoded data removed]"
    }
   },
   "cell_type": "markdown",
   "id": "483f82ef",
   "metadata": {},
   "source": [
    "![1_2Xl0wf6WZnVfinVPUn81bw.webp](attachment:1_2Xl0wf6WZnVfinVPUn81bw.webp)"
   ]
  },
  {
   "cell_type": "markdown",
   "id": "cdc64848",
   "metadata": {},
   "source": [
    "# 28_병합 정렬(실습)"
   ]
  },
  {
   "cell_type": "code",
   "execution_count": 28,
   "id": "ee39d795",
   "metadata": {},
   "outputs": [
    {
     "name": "stdout",
     "output_type": "stream",
     "text": [
      "[8, 7, 1, 6, 4, 9, 2, 3, 5, 10]\n",
      "[1, 2, 3, 4, 5, 6, 7, 8, 9, 10]\n"
     ]
    }
   ],
   "source": [
    "import random\n",
    "\n",
    "def merge_sort(array):\n",
    "    # 재귀 종료 조건: 배열의 길이가 1 이하일 때\n",
    "    if len(array) <= 1:\n",
    "        return array\n",
    "\n",
    "    # 분할\n",
    "    mid = len(array) // 2\n",
    "    left = merge_sort(array[:mid])  # 왼쪽 반을 재귀적으로 정렬\n",
    "    right = merge_sort(array[mid:]) # 오른쪽 반을 재귀적으로 정렬\n",
    "\n",
    "    # 정렬된 두 배열을 병합\n",
    "    merged = []\n",
    "    l = r = 0\n",
    "    while l < len(left) and r < len(right):\n",
    "        if left[l] < right[r]:\n",
    "            merged.append(left[l])\n",
    "            l += 1\n",
    "        else:\n",
    "            merged.append(right[r])\n",
    "            r += 1\n",
    "\n",
    "    # 남아있는 원소들을 결과 리스트에 추가\n",
    "    merged.extend(left[l:])\n",
    "    merged.extend(right[r:])\n",
    "    return merged\n",
    "\n",
    "\n",
    "num_r = random.sample(range(1, 11), 10)\n",
    "print(num_r)\n",
    "sorted_array = merge_sort(num_r)\n",
    "print(sorted_array)"
   ]
  },
  {
   "cell_type": "markdown",
   "id": "b19158d2",
   "metadata": {},
   "source": [
    "# 29_퀵 정렬"
   ]
  },
  {
   "cell_type": "markdown",
   "id": "539adc3a",
   "metadata": {},
   "source": [
    "- 퀵 정렬(Quick Sort)은 효율적이면서도 간단한 분할 정복(divide and conquer) 정렬 알고리즘입니다. \n",
    "- 이 알고리즘의 기본 아이디어는 배열의 한 요소를 선택하고 (이를 '피벗'이라고 부릅니다)\n",
    "- 퀵 정렬의 평균 시간 복잡도는 O(n log n)입니다. \n",
    "- 그러나 피벗 선택이 잘못되었을 때(예: 이미 정렬된 배열에서 맨 처음이나 맨 마지막 요소를 피벗으로 선택한 경우) 최악의 경우 시간 복잡도는 O(n^2)가 됩니다.\n",
    "> 1. 피벗보다 작은 요소를 왼쪽에, 피벗보다 큰 요소를 오른쪽에 위치시키는 것입니다. \n",
    "> 2. 이렇게 하면 피벗은 배열에서 정확한 위치에 위치하게 되며, 피벗의 왼쪽에 있는 요소는 모두 피벗보다 작고, 오른쪽에 있는 요소는 모두 피벗보다 크게 됩니다. 이를 '분할' 단계라고 부릅니다.\n",
    "> 3. 분할이 완료되면, 피벗을 제외한 왼쪽 부분과 오른쪽 부분에 대해 같은 과정을 재귀적으로 반복합니다. 이 과정은 크기가 0이거나 1인 부분 배열에 도달할 때까지 계속되며, 이런 부분 배열은 자연스럽게 정렬된 상태입니다."
   ]
  },
  {
   "cell_type": "markdown",
   "id": "d820e7cf",
   "metadata": {},
   "source": [
    "# 30_퀵 정렬(실습)"
   ]
  },
  {
   "cell_type": "code",
   "execution_count": 42,
   "id": "69e66091",
   "metadata": {},
   "outputs": [
    {
     "name": "stdout",
     "output_type": "stream",
     "text": [
      "[1, 5, 7, 8, 9, 10]\n"
     ]
    }
   ],
   "source": [
    "def partition(array, low, high):\n",
    "    pivot = array[high]\n",
    "    i = low - 1\n",
    "    for j in range(low, high):\n",
    "        if array[j] < pivot:\n",
    "            i += 1\n",
    "            array[i], array[j] = array[j], array[i]\n",
    "    array[i + 1], array[high] = array[high], array[i + 1]\n",
    "    return i + 1\n",
    "\n",
    "def quick_sort(array, low=0, high=None):\n",
    "    if high is None:\n",
    "        high = len(array) - 1\n",
    "    if low < high:\n",
    "        pi = partition(array, low, high)\n",
    "        quick_sort(array, low, pi - 1)\n",
    "        quick_sort(array, pi + 1, high)\n",
    "\n",
    "# 테스트\n",
    "arr = [10, 7, 8, 9, 1, 5]\n",
    "quick_sort(arr)\n",
    "print(arr)  # [1, 5, 7, 8, 9, 10]"
   ]
  },
  {
   "cell_type": "markdown",
   "id": "452ed98a",
   "metadata": {},
   "source": [
    "### ⚡️주의\n",
    "- 피벗 선택 전략에 따라 퀵 정렬의 성능이 크게 달라질 수 있습니다. \n",
    "- 일반적으로 중간값을 피벗으로 선택하거나, 무작위로 피벗을 선택하는 전략이 효과적인 경우가 많습니다. \n",
    "- 이런 전략을 사용하면 퀵 정렬의 평균적인 성능을 더욱 향상시킬 수 있습니다."
   ]
  }
 ],
 "metadata": {
  "kernelspec": {
   "display_name": "Python 3 (ipykernel)",
   "language": "python",
   "name": "python3"
  },
  "language_info": {
   "codemirror_mode": {
    "name": "ipython",
    "version": 3
   },
   "file_extension": ".py",
   "mimetype": "text/x-python",
   "name": "python",
   "nbconvert_exporter": "python",
   "pygments_lexer": "ipython3",
   "version": "3.9.13"
  }
 },
 "nbformat": 4,
 "nbformat_minor": 5
}
