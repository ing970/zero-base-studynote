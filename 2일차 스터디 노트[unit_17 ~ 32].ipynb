{
 "cells": [
  {
   "cell_type": "markdown",
   "id": "403d1b1e",
   "metadata": {},
   "source": [
    "# ⚡️study by 석민⚡️"
   ]
  },
  {
   "cell_type": "markdown",
   "id": "4cc5564a",
   "metadata": {},
   "source": [
    "# 17_산술 연산자(곱셈, 나눗셈)"
   ]
  },
  {
   "cell_type": "code",
   "execution_count": 3,
   "id": "50d9d0fd",
   "metadata": {},
   "outputs": [
    {
     "name": "stdout",
     "output_type": "stream",
     "text": [
      "result : 62.800000000000004\n",
      "result : 62.80\n"
     ]
    }
   ],
   "source": [
    "# 곱셈 연산자(정수, 실수)\n",
    "num1 = 20\n",
    "f_num1 = 3.14\n",
    "result = num1 * f_num1\n",
    "print(f'result : {result}')\n",
    "print(\"result : %.2f\" % result)"
   ]
  },
  {
   "cell_type": "code",
   "execution_count": 4,
   "id": "d7670ca5",
   "metadata": {},
   "outputs": [
    {
     "name": "stdout",
     "output_type": "stream",
     "text": [
      "result : HiHiHiHiHiHiHi\n"
     ]
    }
   ],
   "source": [
    "# 곱셈 연산자 (문자열)\n",
    "str1 = \"Hi\"\n",
    "result = str1 * 7\n",
    "print(\"result : {}\".format(result))"
   ]
  },
  {
   "cell_type": "code",
   "execution_count": 6,
   "id": "18fb8695",
   "metadata": {},
   "outputs": [
    {
     "name": "stdout",
     "output_type": "stream",
     "text": [
      "result : 3.3333333333333335\n",
      "result : 3.33 \n"
     ]
    }
   ],
   "source": [
    "# 나눗셈 연산자(정수, 실수)\n",
    "num1 = 10\n",
    "num2 = 3\n",
    "result = num1 / num2\n",
    "print(\"result : {}\".format(result))\n",
    "print(\"result : %.2f \" % result)"
   ]
  },
  {
   "cell_type": "code",
   "execution_count": 7,
   "id": "c3e208f8",
   "metadata": {},
   "outputs": [
    {
     "name": "stdout",
     "output_type": "stream",
     "text": [
      "result : 0.0\n"
     ]
    }
   ],
   "source": [
    "# 0을 나눗셈 하는 경우\n",
    "num1 = 0\n",
    "num2 = 3\n",
    "result = num1 / num2\n",
    "print(\"result : {}\".format(result))"
   ]
  },
  {
   "cell_type": "code",
   "execution_count": 8,
   "id": "0ad91a39",
   "metadata": {},
   "outputs": [
    {
     "ename": "ZeroDivisionError",
     "evalue": "division by zero",
     "output_type": "error",
     "traceback": [
      "\u001b[0;31m---------------------------------------------------------------------------\u001b[0m",
      "\u001b[0;31mZeroDivisionError\u001b[0m                         Traceback (most recent call last)",
      "Cell \u001b[0;32mIn[8], line 1\u001b[0m\n\u001b[0;32m----> 1\u001b[0m result \u001b[38;5;241m=\u001b[39m \u001b[43mnum2\u001b[49m\u001b[43m \u001b[49m\u001b[38;5;241;43m/\u001b[39;49m\u001b[43m \u001b[49m\u001b[43mnum1\u001b[49m\n\u001b[1;32m      2\u001b[0m \u001b[38;5;28mprint\u001b[39m(\u001b[38;5;124m\"\u001b[39m\u001b[38;5;124mresult : \u001b[39m\u001b[38;5;132;01m{}\u001b[39;00m\u001b[38;5;124m\"\u001b[39m\u001b[38;5;241m.\u001b[39mformat(result))\n",
      "\u001b[0;31mZeroDivisionError\u001b[0m: division by zero"
     ]
    }
   ],
   "source": [
    "# 정수를 0으로 나누는경우 Error 발생\n",
    "result = num2 / num1\n",
    "print(\"result : {}\".format(result))"
   ]
  },
  {
   "cell_type": "code",
   "execution_count": 10,
   "id": "1e27a576",
   "metadata": {},
   "outputs": [
    {
     "name": "stdout",
     "output_type": "stream",
     "text": [
      "result : 2.0\n",
      "result : <class 'float'>\n"
     ]
    }
   ],
   "source": [
    "# 나눗셈 결과는 항상 float이다.\n",
    "num1 = 20\n",
    "num2 = 10\n",
    "result = num1 / num2\n",
    "print(\"result : {}\".format(result))\n",
    "print(\"result : {}\".format(type(result)))"
   ]
  },
  {
   "cell_type": "code",
   "execution_count": 13,
   "id": "4378923d",
   "metadata": {},
   "outputs": [
    {
     "name": "stdout",
     "output_type": "stream",
     "text": [
      "국어 점수는? 70\n",
      "영어 점수는? 70\n",
      "수학 점수는? 60\n",
      "합계 : 200\n",
      "합계 = 200\n",
      "평균 : 66.66666666666667\n",
      "평군 : 66.67\n"
     ]
    }
   ],
   "source": [
    "kor = int(input(\"국어 점수는? \"))\n",
    "eng = int(input(\"영어 점수는? \"))\n",
    "mat = int(input(\"수학 점수는? \"))\n",
    "\n",
    "result = kor + eng + mat\n",
    "print(\"합계 : {}\".format(result))\n",
    "print(f\"합계 = {result}\")\n",
    "print(\"평균 : {}\".format(result / 3))\n",
    "print(\"평군 : %.2f\" % (result / 3))\n"
   ]
  },
  {
   "cell_type": "markdown",
   "id": "65974e1d",
   "metadata": {},
   "source": [
    "# 18_산술 연산자(나머지와 몫)"
   ]
  },
  {
   "cell_type": "code",
   "execution_count": 16,
   "id": "a6a052f4",
   "metadata": {},
   "outputs": [
    {
     "name": "stdout",
     "output_type": "stream",
     "text": [
      "3.3333333333333335\n",
      "1\n",
      "3\n"
     ]
    }
   ],
   "source": [
    "# 나누기 연산자\n",
    "num1 = 10\n",
    "num2 = 3\n",
    "result = num1 / num2\n",
    "print(result)\n",
    "\n",
    "# 몫 연산자\n",
    "result3 = num1 // num2\n",
    "print(result3)\n",
    "\n",
    "# 나머지 연산자\n",
    "result2 = num1 % num2\n",
    "print(result2)"
   ]
  },
  {
   "cell_type": "code",
   "execution_count": 23,
   "id": "374b79d7",
   "metadata": {},
   "outputs": [
    {
     "name": "stdout",
     "output_type": "stream",
     "text": [
      "result = (3, 1)\n",
      "몫 : 3\n",
      "나머지 : 1\n"
     ]
    }
   ],
   "source": [
    "# divmod()함수 : 나머지와 몫을 한번에 구하기\n",
    "result = divmod(num1, num2)\n",
    "print(f\"{result = }\")\n",
    "print(f\"몫 : {result[0]}\")\n",
    "print(f\"나머지 : {result[1]}\")"
   ]
  },
  {
   "cell_type": "markdown",
   "id": "07fe80f0",
   "metadata": {},
   "source": [
    "## 📍실습\n",
    "### - 123개의 사과를 4개씩 직원들한테 나누어 주려고 한다. 최대 나누어 줄수 있는 직원수와 남는 사과 개수를 출력해 보자."
   ]
  },
  {
   "cell_type": "code",
   "execution_count": 26,
   "id": "690e52ea",
   "metadata": {},
   "outputs": [
    {
     "name": "stdout",
     "output_type": "stream",
     "text": [
      "최대 나누어 줄 수 있는 직원수 : 30\n",
      "남는 사과 개수 : 3\n"
     ]
    }
   ],
   "source": [
    "apple_cnt = 123\n",
    "divide_cnt = 4\n",
    "result = divmod(apple_cnt, divide_cnt)\n",
    "print(f\"최대 나누어 줄 수 있는 직원수 : {result[0]}\")\n",
    "print(f\"남는 사과 개수 : {result[1]}\")"
   ]
  },
  {
   "cell_type": "markdown",
   "id": "75b2f846",
   "metadata": {},
   "source": [
    "# 19_산술 연산자(거듭제곱)"
   ]
  },
  {
   "cell_type": "code",
   "execution_count": 27,
   "id": "f82d7183",
   "metadata": {},
   "outputs": [
    {
     "name": "stdout",
     "output_type": "stream",
     "text": [
      "result = 8\n"
     ]
    }
   ],
   "source": [
    "# 같은 수를 여러 번 곱한 값을 구한다.\n",
    "num1 = 2\n",
    "num2 = 3\n",
    "result = num1 ** num2\n",
    "print(f\"{result = }\")"
   ]
  },
  {
   "cell_type": "code",
   "execution_count": 40,
   "id": "230dbffd",
   "metadata": {},
   "outputs": [
    {
     "name": "stdout",
     "output_type": "stream",
     "text": [
      "8의 3제곱근 = 2.0\n",
      "256의 4제곱근 = 4.0\n"
     ]
    }
   ],
   "source": [
    "# n의 m제곱근 공식 = n ** (1/m)\n",
    "result1 = 8 ** (1/3)\n",
    "print(f\"8의 3제곱근 = {result1}\")\n",
    "\n",
    "result2 = 256 ** (1/4)\n",
    "print(f\"256의 4제곱근 = {result2}\")"
   ]
  },
  {
   "cell_type": "code",
   "execution_count": 61,
   "id": "79be9a23",
   "metadata": {},
   "outputs": [
    {
     "name": "stdout",
     "output_type": "stream",
     "text": [
      "16의 제곱근은 = 4.00\n",
      "25의 제곱근은 = 5.00\n",
      "8의 3제곱 = 512\n",
      "2의 3제곱 = 8\n"
     ]
    }
   ],
   "source": [
    "# math 모듈의 sqrt()와 pow()함수\n",
    "# sqrt()함수를 이용한 제곱근 구하기\n",
    "import math\n",
    "\n",
    "print(\"16의 제곱근은 = %.2f\" % math.sqrt(16))\n",
    "print(\"25의 제곱근은 = %.2f\" % math.sqrt(25))\n",
    "\n",
    "# pow() 함수를 이용한 거듭제곱 구하기\n",
    "print(f\"8의 3제곱 = {pow(8, 3)}\")\n",
    "print(f\"2의 3제곱 = {pow(2, 3)}\")"
   ]
  },
  {
   "cell_type": "markdown",
   "id": "18f5083e",
   "metadata": {},
   "source": [
    "## 📍실습\n",
    "### - 아들이 엄마한테 용돈을 받는데, 첫 달에는 200원을 받고 매월 이전 달의 2배씩 인상하기로 했다. \n",
    "### - 12 개월째 되는 달에는 얼마를 받을 수 있는지 계산해 보자."
   ]
  },
  {
   "cell_type": "code",
   "execution_count": 73,
   "id": "c1305d6d",
   "metadata": {},
   "outputs": [
    {
     "name": "stdout",
     "output_type": "stream",
     "text": [
      "12개월 후 용돈 = 409,600원\n",
      "12개월 후 용돈 = 409,600원\n"
     ]
    }
   ],
   "source": [
    "first_money = 200\n",
    "after_12month = ((first_money * 0.01) ** 12) * 100\n",
    "result = int(after_12month)\n",
    "# format을 활용한 결과\n",
    "print(\"12개월 후 용돈 = {}원\".format(format(result, \",\")))\n",
    "# 다른 방법\n",
    "print(f\"12개월 후 용돈 = {result:,}원\")"
   ]
  },
  {
   "cell_type": "markdown",
   "id": "0e5f5094",
   "metadata": {},
   "source": [
    "# 20_복합 연산자"
   ]
  },
  {
   "cell_type": "code",
   "execution_count": 75,
   "id": "ff48017f",
   "metadata": {},
   "outputs": [
    {
     "name": "stdout",
     "output_type": "stream",
     "text": [
      "30\n"
     ]
    }
   ],
   "source": [
    "# 할당 연산자\n",
    "num1 = 10\n",
    "num2 = 20\n",
    "result = num1 + num2\n",
    "print(result)"
   ]
  },
  {
   "cell_type": "markdown",
   "id": "3dbbb4e2",
   "metadata": {},
   "source": [
    "## 📍실습"
   ]
  },
  {
   "attachments": {
    "%E1%84%89%E1%85%B3%E1%84%8F%E1%85%B3%E1%84%85%E1%85%B5%E1%86%AB%E1%84%89%E1%85%A3%E1%86%BA%202023-07-05%20%E1%84%8B%E1%85%A9%E1%84%92%E1%85%AE%202.42.36.png": {
     "image/png": "[encoded data removed]"
    }
   },
   "cell_type": "markdown",
   "id": "6e2d59ee",
   "metadata": {},
   "source": [
    "![%E1%84%89%E1%85%B3%E1%84%8F%E1%85%B3%E1%84%85%E1%85%B5%E1%86%AB%E1%84%89%E1%85%A3%E1%86%BA%202023-07-05%20%E1%84%8B%E1%85%A9%E1%84%92%E1%85%AE%202.42.36.png](attachment:%E1%84%89%E1%85%B3%E1%84%8F%E1%85%B3%E1%84%85%E1%85%B5%E1%86%AB%E1%84%89%E1%85%A3%E1%86%BA%202023-07-05%20%E1%84%8B%E1%85%A9%E1%84%92%E1%85%AE%202.42.36.png)"
   ]
  },
  {
   "cell_type": "code",
   "execution_count": 105,
   "id": "a05b5e6d",
   "metadata": {},
   "outputs": [],
   "source": [
    "# 복합 연산자\n",
    "month = [30, 45, 47, 55, 65, 100, 128, 209, 204, 186, 67, 25]"
   ]
  },
  {
   "cell_type": "code",
   "execution_count": 108,
   "id": "888e1d36",
   "metadata": {},
   "outputs": [
    {
     "name": "stdout",
     "output_type": "stream",
     "text": [
      "1월 누적 강수량 : 30mm\n",
      "2월 누적 강수량 : 75mm\n",
      "3월 누적 강수량 : 122mm\n",
      "4월 누적 강수량 : 177mm\n",
      "5월 누적 강수량 : 242mm\n",
      "6월 누적 강수량 : 342mm\n",
      "7월 누적 강수량 : 470mm\n",
      "8월 누적 강수량 : 679mm\n",
      "9월 누적 강수량 : 883mm\n",
      "10월 누적 강수량 : 1,069mm\n",
      "11월 누적 강수량 : 1,136mm\n",
      "12월 누적 강수량 : 1,161mm\n",
      "------------------------------\n",
      "연간 누적 강수량 : 1,161mm\n",
      "연간 평균 강수량 : 96.75mm\n",
      "------------------------------\n"
     ]
    }
   ],
   "source": [
    "result = 0\n",
    "for i in range(len(month)):\n",
    "    result += int(month[i])\n",
    "    print(f\"{i+1}월 누적 강수량 : {result:,}mm\")\n",
    "print(\"-\"* 30)\n",
    "print(f\"연간 누적 강수량 : {sum(month):,}mm\")\n",
    "print(f\"연간 평균 강수량 : {round(sum(month)/len(month),2)}mm\")\n",
    "print(\"-\"* 30)"
   ]
  },
  {
   "cell_type": "markdown",
   "id": "dc3a09f6",
   "metadata": {},
   "source": [
    "# 21_비교 연산자(숫자 비교)"
   ]
  },
  {
   "cell_type": "markdown",
   "id": "295bed9b",
   "metadata": {},
   "source": [
    "## 📍숫자 비교\n",
    "- ' > '\n",
    "- ' >= '\n",
    "- ' < '\n",
    "- ' <= '\n",
    "- ' == '\n",
    "- ' != '"
   ]
  },
  {
   "cell_type": "code",
   "execution_count": 111,
   "id": "0cac344c",
   "metadata": {},
   "outputs": [
    {
     "name": "stdout",
     "output_type": "stream",
     "text": [
      "첫 번째 숫자 입력: 10\n",
      "두 번째 숫자 입력: 5\n",
      "10 > 5 : True\n",
      "10 >= 5 : True\n",
      "10 < 5 : False\n",
      "10 <= 5 : False\n",
      "10 == 5 : False\n",
      "10 != 5 : True\n"
     ]
    }
   ],
   "source": [
    "user_num1 = int(input(\"첫 번째 숫자 입력: \"))\n",
    "user_num2 = int(input(\"두 번째 숫자 입력: \"))\n",
    "\n",
    "print(\"{} > {} : {}\".format(user_num1, user_num2, (user_num1 > user_num2)))\n",
    "print(\"{} >= {} : {}\".format(user_num1, user_num2, (user_num1 >= user_num2)))\n",
    "print(\"{} < {} : {}\".format(user_num1, user_num2, (user_num1 < user_num2)))\n",
    "print(\"{} <= {} : {}\".format(user_num1, user_num2, (user_num1 <= user_num2)))\n",
    "print(\"{} == {} : {}\".format(user_num1, user_num2, (user_num1 == user_num2)))\n",
    "print(\"{} != {} : {}\".format(user_num1, user_num2, (user_num1 != user_num2)))"
   ]
  },
  {
   "cell_type": "markdown",
   "id": "e155d983",
   "metadata": {},
   "source": [
    "## 📍실습\n",
    "### - 자동차의 전장과 전폭을 입력하면 자동차 기계 세차 가능여부를 출력하는 코드를 작성해 보자. \n",
    "### (최대 전장 길이 : 5200mm, 최대 전폭 길이 : 1985mm)"
   ]
  },
  {
   "attachments": {
    "%E1%84%89%E1%85%B3%E1%84%8F%E1%85%B3%E1%84%85%E1%85%B5%E1%86%AB%E1%84%89%E1%85%A3%E1%86%BA%202023-07-05%20%E1%84%8B%E1%85%A9%E1%84%92%E1%85%AE%203.03.41.png": {
     "image/png": "[encoded data removed]"
    }
   },
   "cell_type": "markdown",
   "id": "58c219ef",
   "metadata": {},
   "source": [
    "![%E1%84%89%E1%85%B3%E1%84%8F%E1%85%B3%E1%84%85%E1%85%B5%E1%86%AB%E1%84%89%E1%85%A3%E1%86%BA%202023-07-05%20%E1%84%8B%E1%85%A9%E1%84%92%E1%85%AE%203.03.41.png](attachment:%E1%84%89%E1%85%B3%E1%84%8F%E1%85%B3%E1%84%85%E1%85%B5%E1%86%AB%E1%84%89%E1%85%A3%E1%86%BA%202023-07-05%20%E1%84%8B%E1%85%A9%E1%84%92%E1%85%AE%203.03.41.png)"
   ]
  },
  {
   "cell_type": "code",
   "execution_count": 112,
   "id": "e32dfaf4",
   "metadata": {},
   "outputs": [
    {
     "name": "stdout",
     "output_type": "stream",
     "text": [
      "전장 길이 입력: 5201\n",
      "전폭 길이 입력: 1985\n",
      "전장 가능 여부 : False\n",
      "전폭 가능 여부 : True\n"
     ]
    }
   ],
   "source": [
    "max_length = 5200\n",
    "max_width = 1985\n",
    "\n",
    "car_length = int(input(\"전장 길이 입력: \"))\n",
    "car_width = int(input(\"전폭 길이 입력: \"))\n",
    "\n",
    "print(f\"전장 가능 여부 : {car_length <= max_length}\")\n",
    "print(f\"전폭 가능 여부 : {car_width <= max_width}\")"
   ]
  },
  {
   "cell_type": "markdown",
   "id": "e7ec6099",
   "metadata": {},
   "source": [
    "# 22. 비교 연산자(문자 비교)"
   ]
  },
  {
   "cell_type": "markdown",
   "id": "3145fbf8",
   "metadata": {},
   "source": [
    "## 📍 문자 비교\n",
    "- 아스키 코드를 이용한 비교 연산"
   ]
  },
  {
   "cell_type": "code",
   "execution_count": 114,
   "id": "10575a1b",
   "metadata": {},
   "outputs": [
    {
     "name": "stdout",
     "output_type": "stream",
     "text": [
      "A > S : False\n",
      "A >= S : False\n",
      "A < S : True\n",
      "A <= S : True\n",
      "A == S : False\n",
      "A != S : True\n"
     ]
    }
   ],
   "source": [
    "cha1 = \"A\" # 65\n",
    "cha2 = \"S\" # 83\n",
    "\n",
    "print(f\"{cha1} > {cha2} : {cha1 > cha2}\")\n",
    "print(f\"{cha1} >= {cha2} : {cha1 >= cha2}\")\n",
    "print(f\"{cha1} < {cha2} : {cha1 < cha2}\")\n",
    "print(f\"{cha1} <= {cha2} : {cha1 <= cha2}\")\n",
    "print(f\"{cha1} == {cha2} : {cha1 == cha2}\")\n",
    "print(f\"{cha1} != {cha2} : {cha1 != cha2}\")"
   ]
  },
  {
   "cell_type": "markdown",
   "id": "098a1092",
   "metadata": {},
   "source": [
    "## 📍 문자와 아스키 코드 변환\n",
    "- **ord( ): 문자를 아스키 코드로 변환.**"
   ]
  },
  {
   "cell_type": "code",
   "execution_count": 124,
   "id": "8d394340",
   "metadata": {},
   "outputs": [
    {
     "name": "stdout",
     "output_type": "stream",
     "text": [
      "'A' -> 65 \n",
      "'A' -> 83\n"
     ]
    }
   ],
   "source": [
    "print(f\"'A' -> {ord('A')} \")\n",
    "print(f\"'A' -> {ord('S')}\")"
   ]
  },
  {
   "cell_type": "markdown",
   "id": "f0aef75f",
   "metadata": {},
   "source": [
    "- **chr( ): 아스키 코드를 문자로 변환.**"
   ]
  },
  {
   "cell_type": "code",
   "execution_count": 123,
   "id": "bfe66926",
   "metadata": {},
   "outputs": [
    {
     "name": "stdout",
     "output_type": "stream",
     "text": [
      "65 -> A\n",
      "83 -> S\n"
     ]
    }
   ],
   "source": [
    "print(f\"65 -> {chr(65)}\")\n",
    "print(f\"83 -> {chr(83)}\")"
   ]
  },
  {
   "cell_type": "markdown",
   "id": "2789d140",
   "metadata": {},
   "source": [
    "## 📍 실습\n"
   ]
  },
  {
   "attachments": {
    "%E1%84%89%E1%85%B3%E1%84%8F%E1%85%B3%E1%84%85%E1%85%B5%E1%86%AB%E1%84%89%E1%85%A3%E1%86%BA%202023-07-05%20%E1%84%8B%E1%85%A9%E1%84%92%E1%85%AE%203.59.45.png": {
     "image/png": "[encoded data removed]"
    }
   },
   "cell_type": "markdown",
   "id": "3c7d6fb0",
   "metadata": {},
   "source": [
    "![%E1%84%89%E1%85%B3%E1%84%8F%E1%85%B3%E1%84%85%E1%85%B5%E1%86%AB%E1%84%89%E1%85%A3%E1%86%BA%202023-07-05%20%E1%84%8B%E1%85%A9%E1%84%92%E1%85%AE%203.59.45.png](attachment:%E1%84%89%E1%85%B3%E1%84%8F%E1%85%B3%E1%84%85%E1%85%B5%E1%86%AB%E1%84%89%E1%85%A3%E1%86%BA%202023-07-05%20%E1%84%8B%E1%85%A9%E1%84%92%E1%85%AE%203.59.45.png)"
   ]
  },
  {
   "cell_type": "code",
   "execution_count": 125,
   "id": "0dd4752d",
   "metadata": {},
   "outputs": [
    {
     "name": "stdout",
     "output_type": "stream",
     "text": [
      "알파벳 입력 : h\n",
      "h : 104\n"
     ]
    }
   ],
   "source": [
    "user_input = input(\"알파벳 입력 : \")\n",
    "print(f\"{user_input} : {ord(user_input)}\")"
   ]
  },
  {
   "attachments": {
    "%E1%84%89%E1%85%B3%E1%84%8F%E1%85%B3%E1%84%85%E1%85%B5%E1%86%AB%E1%84%89%E1%85%A3%E1%86%BA%202023-07-05%20%E1%84%8B%E1%85%A9%E1%84%92%E1%85%AE%204.00.15.png": {
     "image/png": "[encoded data removed]"
    }
   },
   "cell_type": "markdown",
   "id": "42769868",
   "metadata": {},
   "source": [
    "![%E1%84%89%E1%85%B3%E1%84%8F%E1%85%B3%E1%84%85%E1%85%B5%E1%86%AB%E1%84%89%E1%85%A3%E1%86%BA%202023-07-05%20%E1%84%8B%E1%85%A9%E1%84%92%E1%85%AE%204.00.15.png](attachment:%E1%84%89%E1%85%B3%E1%84%8F%E1%85%B3%E1%84%85%E1%85%B5%E1%86%AB%E1%84%89%E1%85%A3%E1%86%BA%202023-07-05%20%E1%84%8B%E1%85%A9%E1%84%92%E1%85%AE%204.00.15.png)"
   ]
  },
  {
   "cell_type": "code",
   "execution_count": 128,
   "id": "b24cf3bb",
   "metadata": {},
   "outputs": [
    {
     "name": "stdout",
     "output_type": "stream",
     "text": [
      "아스키 코드 입력: 104\n",
      "104 : h \n"
     ]
    }
   ],
   "source": [
    "# 아스키 코드는 'int'로 받을 것!!\n",
    "user_input = int(input(\"아스키 코드 입력: \"))\n",
    "print(f\"{user_input} : {chr(user_input)} \")"
   ]
  },
  {
   "attachments": {
    "%E1%84%89%E1%85%B3%E1%84%8F%E1%85%B3%E1%84%85%E1%85%B5%E1%86%AB%E1%84%89%E1%85%A3%E1%86%BA%202023-07-05%20%E1%84%8B%E1%85%A9%E1%84%92%E1%85%AE%204.02.24.png": {
     "image/png": "[encoded data removed]"
    }
   },
   "cell_type": "markdown",
   "id": "fdf98bae",
   "metadata": {},
   "source": [
    "![%E1%84%89%E1%85%B3%E1%84%8F%E1%85%B3%E1%84%85%E1%85%B5%E1%86%AB%E1%84%89%E1%85%A3%E1%86%BA%202023-07-05%20%E1%84%8B%E1%85%A9%E1%84%92%E1%85%AE%204.02.24.png](attachment:%E1%84%89%E1%85%B3%E1%84%8F%E1%85%B3%E1%84%85%E1%85%B5%E1%86%AB%E1%84%89%E1%85%A3%E1%86%BA%202023-07-05%20%E1%84%8B%E1%85%A9%E1%84%92%E1%85%AE%204.02.24.png)"
   ]
  },
  {
   "cell_type": "code",
   "execution_count": 130,
   "id": "448734af",
   "metadata": {},
   "outputs": [
    {
     "name": "stdout",
     "output_type": "stream",
     "text": [
      "아이디 입력: seokmin\n",
      "비번 입력: wwwewe\n",
      "아이디 비교 결과 : True\n",
      "비번 비교 결과: False\n"
     ]
    }
   ],
   "source": [
    "user_id = \"seokmin\"\n",
    "user_pw = \"!@ssSS\"\n",
    "input_id = input(\"아이디 입력: \")\n",
    "input_pw = input(\"비번 입력: \")\n",
    "\n",
    "print(f\"아이디 비교 결과 : {user_id == input_id}\")\n",
    "print(f\"비번 비교 결과: {user_pw == input_pw}\")"
   ]
  },
  {
   "cell_type": "markdown",
   "id": "36eaa7f4",
   "metadata": {},
   "source": [
    "# 23. 논리 연산자"
   ]
  },
  {
   "cell_type": "markdown",
   "id": "7de817d9",
   "metadata": {},
   "source": [
    "## 📍논리 연산자 란, 피연산자의 논리(True, False)를 이용한 연산."
   ]
  },
  {
   "cell_type": "code",
   "execution_count": 133,
   "id": "ae1e5528",
   "metadata": {},
   "outputs": [
    {
     "name": "stdout",
     "output_type": "stream",
     "text": [
      "True and True : True\n",
      "False and True : False\n",
      "True and False : False\n",
      "False and False : False\n"
     ]
    }
   ],
   "source": [
    "# and 연산\n",
    "print(f\"{True} and {True} : {True and True}\")\n",
    "print(f\"{False} and {True} : {False and True}\")\n",
    "print(f\"{True} and {False} : {True and False}\")\n",
    "print(f\"{False} and {False} : {False and False}\")"
   ]
  },
  {
   "cell_type": "code",
   "execution_count": 134,
   "id": "3570c08b",
   "metadata": {},
   "outputs": [
    {
     "name": "stdout",
     "output_type": "stream",
     "text": [
      "True or True : True\n",
      "False or True : True\n",
      "True or False : True\n",
      "False or False : False\n"
     ]
    }
   ],
   "source": [
    "# or 연산\n",
    "print(f\"{True} or {True} : {True or True}\")\n",
    "print(f\"{False} or {True} : {False or True}\")\n",
    "print(f\"{True} or {False} : {True or False}\")\n",
    "print(f\"{False} or {False} : {False or False}\")"
   ]
  },
  {
   "cell_type": "code",
   "execution_count": 136,
   "id": "67f7eee5",
   "metadata": {},
   "outputs": [
    {
     "name": "stdout",
     "output_type": "stream",
     "text": [
      "not True : False\n",
      "not False : True\n"
     ]
    }
   ],
   "source": [
    "# not 연산\n",
    "print(f\"not {True} : {not True}\")\n",
    "print(f\"not {False} : {not False}\")"
   ]
  },
  {
   "cell_type": "markdown",
   "id": "f52335d3",
   "metadata": {},
   "source": [
    "## 실습\n",
    "‘백신 접종 대상자는 20세 미만 또는 65세 이상자에 한합니다.’를 논리연산자를 이용해서 코딩해 보자."
   ]
  },
  {
   "cell_type": "code",
   "execution_count": 138,
   "id": "9799c2fd",
   "metadata": {},
   "outputs": [
    {
     "name": "stdout",
     "output_type": "stream",
     "text": [
      "나이 입력: 49\n",
      "age: 49, result: True\n"
     ]
    }
   ],
   "source": [
    "age = int(input(\"나이 입력: \"))\n",
    "vaccine = (age >= 20) | (age < 65)\n",
    "print(f\"age: {age}, result: {vaccine}\")"
   ]
  },
  {
   "cell_type": "markdown",
   "id": "8ba31bbc",
   "metadata": {},
   "source": [
    "- 국어, 영어, 수학 점수를 입력하고 평균이 70점 이상이면 True를 출력하는 코드를 작성해 보자. \n",
    "- (단, 과목별 점수가 최소 60이상인 경우에 True를 출력한다.)"
   ]
  },
  {
   "cell_type": "code",
   "execution_count": 144,
   "id": "7e23f367",
   "metadata": {},
   "outputs": [
    {
     "name": "stdout",
     "output_type": "stream",
     "text": [
      "국어 점수: 65\n",
      "영어 점수: 75\n",
      "수학 점수: 90\n",
      "평균: 76.66666666666667, 결과: True\n",
      "국어: 65, 결과: True\n",
      "영어: 75, 결과: True\n",
      "수학: 90, 결과: True\n",
      "과락 결과: True\n",
      "최종 결과: True\n"
     ]
    }
   ],
   "source": [
    "kor = int(input(\"국어 점수: \"))\n",
    "eng = int(input(\"영어 점수: \"))\n",
    "mat = int(input(\"수학 점수: \"))\n",
    "\n",
    "avg = (kor + eng + mat)/ 3\n",
    "result = ave >= 70\n",
    "\n",
    "kor_result = kor >= 60\n",
    "eng_result = eng >= 60\n",
    "mat_result = mat >= 60\n",
    "\n",
    "sub_result = kor_result | eng_result | mat_result\n",
    "final_result = result | sub_result\n",
    "\n",
    "\n",
    "print(f\"평균: {avg}, 결과: {result1}\")\n",
    "print(f\"국어: {kor}, 결과: {kor_result}\")\n",
    "print(f\"영어: {eng}, 결과: {eng_result}\")\n",
    "print(f\"수학: {mat}, 결과: {mat_result}\")\n",
    "print(f\"과락 결과: {sub_result}\")\n",
    "print(f\"최종 결과: {final_result}\")"
   ]
  },
  {
   "cell_type": "markdown",
   "id": "2af12b79",
   "metadata": {},
   "source": [
    "# 24. Operator 모듈"
   ]
  },
  {
   "cell_type": "code",
   "execution_count": 148,
   "id": "64807241",
   "metadata": {},
   "outputs": [
    {
     "name": "stdout",
     "output_type": "stream",
     "text": [
      "8 + 3 : 11\n",
      "8 - 3 : 5\n",
      "8 * 3 : 24\n",
      "8 / 3 : 2.6666666666666665\n",
      "8 // 3 : 2\n",
      "8 % 3 : 2\n",
      "8 ** 3 : 512\n"
     ]
    }
   ],
   "source": [
    "# 모듈이란, 누군가 이미 만들어 놓은 훌륭한 기능(우리는 공짜로 사용할 수 있다.\n",
    "\n",
    "# 산술 연산자 관련 함수\n",
    "import operator\n",
    "\n",
    "num1 = 8\n",
    "num2 = 3\n",
    "\n",
    "print(f\"{num1} + {num2} : {operator.add(num1, num2)}\")\n",
    "print(f\"{num1} - {num2} : {operator.sub(num1, num2)}\")\n",
    "print(f\"{num1} * {num2} : {operator.mul(num1, num2)}\")\n",
    "print(f\"{num1} / {num2} : {operator.truediv(num1, num2)}\")\n",
    "print(f\"{num1} // {num2} : {operator.floordiv(num1, num2)}\")\n",
    "print(f\"{num1} % {num2} : {operator.mod(num1, num2)}\")\n",
    "print(f\"{num1} ** {num2} : {operator.pow(num1, num2)}\")"
   ]
  },
  {
   "cell_type": "code",
   "execution_count": 167,
   "id": "e875b8fc",
   "metadata": {},
   "outputs": [
    {
     "name": "stdout",
     "output_type": "stream",
     "text": [
      "8 == 3 : False\n",
      "8 != 3 : True\n",
      "8 > 3 : True\n",
      "8 >= 3 : True\n",
      "8 < 3 : False\n",
      "8 <= 3 : False\n"
     ]
    }
   ],
   "source": [
    "# 비교 연산자 관련 함수\n",
    "\n",
    "num1 = 8\n",
    "num2 = 3\n",
    "\n",
    "print(f\"{num1} == {num2} : {operator.eq(num1, num2)}\")\n",
    "print(f\"{num1} != {num2} : {operator.ne(num1, num2)}\")\n",
    "print(f\"{num1} > {num2} : {operator.gt(num1, num2)}\")\n",
    "print(f\"{num1} >= {num2} : {operator.ge(num1, num2)}\")\n",
    "print(f\"{num1} < {num2} : {operator.lt(num1, num2)}\")\n",
    "print(f\"{num1} <= {num2} : {operator.le(num1, num2)}\")"
   ]
  },
  {
   "cell_type": "code",
   "execution_count": 157,
   "id": "d826719d",
   "metadata": {},
   "outputs": [
    {
     "name": "stdout",
     "output_type": "stream",
     "text": [
      "True and False : False\n",
      "True or False : True\n",
      "not True : False \n"
     ]
    }
   ],
   "source": [
    "# 논리 연산자 관련 함수\n",
    "\n",
    "flag1 = True\n",
    "flag2 = False\n",
    "\n",
    "print(f\"{flag1} and {flag2} : {operator.and_(flag1, flag2)}\")\n",
    "print(f\"{flag1} or {flag2} : {operator.or_(flag1, flag2)}\")\n",
    "print(f\"not {flag1} : {operator.not_(flag1)} \")"
   ]
  },
  {
   "cell_type": "markdown",
   "id": "202b4cc6",
   "metadata": {},
   "source": [
    "## 실습\n",
    "- 이전 시간에 실습했던 백신 접종 대상자 출력 코드를 operator 모듈을 이용해서 변경해 보자.\n",
    "\n",
    "- ‘백신 접종 대상자는 20세 미만 또는 65세 이상자에 한합니다.’를 논리연산자를 이용해서 코딩해 보자."
   ]
  },
  {
   "cell_type": "code",
   "execution_count": 158,
   "id": "1969eb91",
   "metadata": {},
   "outputs": [
    {
     "name": "stdout",
     "output_type": "stream",
     "text": [
      "나이 입력: 25\n",
      "age: 25, result: True\n"
     ]
    }
   ],
   "source": [
    "import operator\n",
    "age = int(input(\"나이 입력: \"))\n",
    "vaccine = operator.and_(operator.ge(age, 20), operator.le(age, 65))\n",
    "print(f\"age: {age}, result: {vaccine}\")"
   ]
  },
  {
   "cell_type": "markdown",
   "id": "0b5a33be",
   "metadata": {},
   "source": [
    "- random과 operator 모듈을 사용해서 10부터 100사이의 난수 중 십의 자리와 일의 자리가 각각 3의 배 수인지 판단하는 코드를 작성해 보자."
   ]
  },
  {
   "cell_type": "code",
   "execution_count": 163,
   "id": "0bf8b7e1",
   "metadata": {},
   "outputs": [
    {
     "name": "stdout",
     "output_type": "stream",
     "text": [
      "난수 : 90\n",
      "십의 자리 : 9\n",
      "일의 자리 : 0\n",
      "십의 자리는 3의 배수이다. : True\n",
      "일의 자리는 3의 배수이다. : True\n"
     ]
    }
   ],
   "source": [
    "import random\n",
    "\n",
    "r_int = random.randint(10, 100)\n",
    "num10 = operator.floordiv(r_int, 10)\n",
    "num1 = operator.mod(r_int, 10)\n",
    "\n",
    "print(f\"난수 : {r_int}\")\n",
    "print(f\"십의 자리 : {num10}\")\n",
    "print(f\"일의 자리 : {num1}\")\n",
    "print(f\"십의 자리는 3의 배수이다. : {operator.mod(num10, 3) == 0}\")\n",
    "print(f\"일의 자리는 3의 배수이다. : {operator.mod(num1, 3) == 0}\")"
   ]
  },
  {
   "cell_type": "markdown",
   "id": "8143377a",
   "metadata": {},
   "source": [
    "# 25_조건식"
   ]
  },
  {
   "cell_type": "markdown",
   "id": "186efae6",
   "metadata": {},
   "source": [
    "## 조건식이란,어떤조건에따라실행이분기되는식.\n",
    "- A if 조건식 else B -> 조건식의 결과가 True이면 A실행, 그렇지 않으면 B실행"
   ]
  },
  {
   "cell_type": "code",
   "execution_count": 164,
   "id": "1319beb0",
   "metadata": {},
   "outputs": [
    {
     "name": "stdout",
     "output_type": "stream",
     "text": [
      "num1 > num2 : False\n",
      "num1은 num2보다 크지 않다.\n"
     ]
    }
   ],
   "source": [
    "num1 = 10\n",
    "num2 = 100\n",
    "\n",
    "result = True if num1 > num2 else False\n",
    "print(f\"num1 > num2 : {result}\")\n",
    "print(\"num1은 num2보다 크다.\") if result else print(\"num1은 num2보다 크지 않다.\")"
   ]
  },
  {
   "cell_type": "markdown",
   "id": "cad4bf66",
   "metadata": {},
   "source": [
    "- 적설량을 입력하고 적설량이 30mm 이상이면 대설 경보를 발령하고 그렇지 않으면 대설 경보를 해제하는 코드를 작성해 보자."
   ]
  },
  {
   "cell_type": "code",
   "execution_count": 166,
   "id": "783335fe",
   "metadata": {},
   "outputs": [
    {
     "name": "stdout",
     "output_type": "stream",
     "text": [
      "적설량 입력(mm): 55\n",
      "적설량: 55mm, 대설 경보 발령!!\n"
     ]
    }
   ],
   "source": [
    "# python에서 \"\\\"은 line을 이어서 입력한다는 뜻.\n",
    "limit_amount = 30\n",
    "snow_amount = int(input(\"적설량 입력(mm): \"))\n",
    "\n",
    "print(f\"적설량: {snow_amount}mm, 대설 경보 발령!!\") if snow_amount >= limit_amount else \\\n",
    "    print(f\"적설량: {snouw_amount}mm, 대설 경보 해제~~\")"
   ]
  },
  {
   "cell_type": "markdown",
   "id": "0c5d3305",
   "metadata": {},
   "source": [
    "- 국어, 영어, 수학 점수를 입력하면 조건식을 이용해서 과목별 결과와 전체 결과를 출력하는 코드를 작성해 보자.\n",
    "- 과목별 합격 점수 : 60점 전체 합격 평균 점수 : 70"
   ]
  },
  {
   "cell_type": "code",
   "execution_count": 172,
   "id": "a756a886",
   "metadata": {},
   "outputs": [
    {
     "name": "stdout",
     "output_type": "stream",
     "text": [
      "국어 점수: 62\n",
      "영어 점수: 80\n",
      "수학 점수: 85\n",
      "국어: Pass\n",
      "영어: Pass\n",
      "수학: Pass\n",
      "시험: Pass\n",
      "총점: 227, 평균: 75.67\n"
     ]
    }
   ],
   "source": [
    "import operator\n",
    "\n",
    "p_sub_score = 60\n",
    "p_total_score = 70\n",
    "\n",
    "kor = int(input(\"국어 점수: \"))\n",
    "eng = int(input(\"영어 점수: \"))\n",
    "mat = int(input(\"수학 점수: \"))\n",
    "\n",
    "total = kor + eng + mat\n",
    "avg = total / 3\n",
    "\n",
    "print(f\"국어: Pass\") if operator.ge(kor, p_sub_score) else print(f\"국어: Fail\")\n",
    "print(f\"영어: Pass\") if operator.ge(eng, p_sub_score) else print(f\"영어: Fail\")\n",
    "print(f\"수학: Pass\") if operator.ge(mat, p_sub_score) else print(f\"수학: Fail\")\n",
    "print(f\"시험: Pass\") if operator.ge(avg, p_total_score) else print(f\"시험: Fail\")\n",
    "print(f\"총점: {total}, 평균: {round(avg, 2)}\")"
   ]
  },
  {
   "cell_type": "markdown",
   "id": "bd3f530b",
   "metadata": {},
   "source": [
    "# 26. 조건문(if문)"
   ]
  },
  {
   "cell_type": "markdown",
   "id": "0b85d302",
   "metadata": {},
   "source": [
    "## 조건문\n",
    "- if문"
   ]
  },
  {
   "cell_type": "code",
   "execution_count": 173,
   "id": "37c251b7",
   "metadata": {},
   "outputs": [
    {
     "name": "stdout",
     "output_type": "stream",
     "text": [
      "10은 5보다 크다.\n"
     ]
    }
   ],
   "source": [
    "if 10 > 5:\n",
    "    print(\"10은 5보다 크다.\")"
   ]
  },
  {
   "cell_type": "code",
   "execution_count": 175,
   "id": "53cd58d3",
   "metadata": {},
   "outputs": [
    {
     "name": "stdout",
     "output_type": "stream",
     "text": [
      "num1은 num2보다 작거나 같다.\n"
     ]
    }
   ],
   "source": [
    "num1 = 10\n",
    "num2 = 20\n",
    "\n",
    "if num1 <= num2:\n",
    "    print(\"num1은 num2보다 작거나 같다.\")"
   ]
  },
  {
   "cell_type": "markdown",
   "id": "45ecedf9",
   "metadata": {},
   "source": [
    "- 국어, 영어, 수학 점수를 입력하고 평균이 90점 이상이면 ‘참 잘했어요.’를 출력하는 코드를 작성하자."
   ]
  },
  {
   "cell_type": "code",
   "execution_count": 177,
   "id": "a50beb96",
   "metadata": {},
   "outputs": [
    {
     "name": "stdout",
     "output_type": "stream",
     "text": [
      "국어 점수 입력: 95\n",
      "영어 점수 입력: 85\n",
      "수학 점수 입력: 100\n",
      "평균: 93.33333333333333\n",
      "참 잘했어요~\n"
     ]
    }
   ],
   "source": [
    "kor = int(input(\"국어 점수 입력: \"))\n",
    "eng = int(input(\"영어 점수 입력: \"))\n",
    "mat = int(input(\"수학 점수 입력: \"))\n",
    "\n",
    "avg = (kor + eng + mat) / 3\n",
    "print(f\"평균: {avg}\")\n",
    "\n",
    "if avg >= 90:\n",
    "    print(\"참 잘했어요~\")"
   ]
  },
  {
   "cell_type": "markdown",
   "id": "b9d9956d",
   "metadata": {},
   "source": [
    "- 실내 온도를 입력하고 온도가 28°C이상이면 ‘냉방 작동!’이 출력되고, 20°C 이하면 ‘난방 작동!’이 출력되는 코드를 작성하자."
   ]
  },
  {
   "cell_type": "code",
   "execution_count": 179,
   "id": "0d1030ca",
   "metadata": {},
   "outputs": [
    {
     "name": "stdout",
     "output_type": "stream",
     "text": [
      "실내 온도 입력: 29\n",
      "냉방 작동!\n"
     ]
    }
   ],
   "source": [
    "inner_t = int(input(\"실내 온도 입력: \"))\n",
    "\n",
    "if inner_t >= 28:\n",
    "    print(\"냉방 작동!\")\n",
    "if inner_t <= 20:\n",
    "    print(\"난방 작동!\")"
   ]
  },
  {
   "cell_type": "markdown",
   "id": "8c22a899",
   "metadata": {},
   "source": [
    "# 27. 양자택일 조건문 "
   ]
  },
  {
   "cell_type": "markdown",
   "id": "5cad1ce3",
   "metadata": {},
   "source": [
    "- if~else문 : 조건식 결과에 따라 둘 중에 하나가 실행됨."
   ]
  },
  {
   "cell_type": "code",
   "execution_count": 182,
   "id": "a26822fc",
   "metadata": {},
   "outputs": [
    {
     "name": "stdout",
     "output_type": "stream",
     "text": [
      "점수 입력: 89\n",
      "Pass!!\n"
     ]
    }
   ],
   "source": [
    "p_score = 80\n",
    "\n",
    "user_score = int(input(\"점수 입력: \"))\n",
    "\n",
    "if user_score > p_score:\n",
    "    print(\"Pass!!\")\n",
    "else:\n",
    "    print(\"Fail!!\")"
   ]
  },
  {
   "cell_type": "markdown",
   "id": "0025782e",
   "metadata": {},
   "source": [
    "- pass 키워드"
   ]
  },
  {
   "cell_type": "code",
   "execution_count": 183,
   "id": "949e8f29",
   "metadata": {},
   "outputs": [
    {
     "name": "stdout",
     "output_type": "stream",
     "text": [
      "문자 메시지 입력: 안녕하세요\n"
     ]
    }
   ],
   "source": [
    "message = input(\"문자 메시지 입력: \")\n",
    "\n",
    "if len(message) >= 500:\n",
    "    pass\n",
    "else: \n",
    "    pass"
   ]
  },
  {
   "cell_type": "markdown",
   "id": "31196965",
   "metadata": {},
   "source": [
    "- 나이가 65세 이상이면 교통 요금 무료를 적용하는 프로그램을 만들어 보자."
   ]
  },
  {
   "cell_type": "code",
   "execution_count": 186,
   "id": "b04eaf7e",
   "metadata": {},
   "outputs": [
    {
     "name": "stdout",
     "output_type": "stream",
     "text": [
      "나이 입력: 89\n",
      "무료 대상 승객입니다.\n"
     ]
    }
   ],
   "source": [
    "limit_age = 65\n",
    "user_age = int(input(\"나이 입력: \"))\n",
    "\n",
    "if user_age >= limit_age:\n",
    "    print(\"무료 대상 승객입니다.\")\n",
    "else:\n",
    "    print(\"유로 대상 승객입니다.\")"
   ]
  },
  {
   "cell_type": "markdown",
   "id": "858b1b34",
   "metadata": {},
   "source": [
    "- 소수점 첫 번째 자리에서 반올림하는 프로그램을 만들어 보자."
   ]
  },
  {
   "cell_type": "code",
   "execution_count": 189,
   "id": "6f4d3e9a",
   "metadata": {},
   "outputs": [
    {
     "name": "stdout",
     "output_type": "stream",
     "text": [
      "소수 입력: 3.56\n",
      "올림: 4\n"
     ]
    }
   ],
   "source": [
    "f_num = float(input(\"소수 입력: \"))\n",
    "\n",
    "if f_num - int(f_num) >= 0.5:\n",
    "    print(f\"올림: {int(f_num) + 1}\")\n",
    "else:\n",
    "    print(f\"버림: {int(f_num)}\")"
   ]
  },
  {
   "cell_type": "markdown",
   "id": "d03c0136",
   "metadata": {},
   "source": [
    "# 28. if ~ else문과 조건식\n",
    "## 📍 조건식(삼항연산자)의 두가지 사용법"
   ]
  },
  {
   "cell_type": "markdown",
   "id": "34d26515",
   "metadata": {},
   "source": [
    "- 비올 확률을 입력하고 비올 확률이 55%이상이면 ‘우산을 챙기세요’를 그렇지 않으면 ‘양산을 챙기세요.’출력하는 코드를 작성하자. \n",
    "- (조건식과 if ~else문을 이용해서 각각 작성해 보자.)"
   ]
  },
  {
   "cell_type": "code",
   "execution_count": 191,
   "id": "7bde1bc6",
   "metadata": {},
   "outputs": [
    {
     "name": "stdout",
     "output_type": "stream",
     "text": [
      "비올 확률 입력: 60\n",
      "우산을 챙기세요.\n",
      "우산을 챙기세요.\n"
     ]
    }
   ],
   "source": [
    "rain_per = 55\n",
    "user_input_per = int(input(\"비올 확률 입력: \"))\n",
    "\n",
    "if user_input_per >= rain_per:\n",
    "    print(\"우산을 챙기세요.\")\n",
    "else:\n",
    "    print(\"양산을 챙기세요.\")\n",
    "    \n",
    "print(\"우산을 챙기세요.\") if user_input_per >= rain_per else print(\"양산을 챙기세요.\")"
   ]
  },
  {
   "cell_type": "markdown",
   "id": "ff2845da",
   "metadata": {},
   "source": [
    "- 다음의 요구 사항을 해결하기 위해서 조건식과 if ~else문 중 알맞은 구문을 사용해 보자.\n",
    "\n",
    ">[요구 사항]\n",
    ">1. 최저 기온 입력\n",
    ">2. 최고 기온 입력\n",
    ">3. 일교차가 11도 이상인 경우 출력 내용\n",
    "일교차 : 12도\n",
    "‘감기 조심하세요.’\n",
    ">4. 일교차가 11도 미만인 경우 출력 내용\n",
    "일교차 : 9도\n",
    "‘산책하기 좋은 날씨입니다.’"
   ]
  },
  {
   "cell_type": "code",
   "execution_count": 196,
   "id": "c56735fb",
   "metadata": {},
   "outputs": [
    {
     "name": "stdout",
     "output_type": "stream",
     "text": [
      "최적 기온 입력: 10\n",
      "최고 기온 입력: 23\n",
      "일교차: 13도\n",
      "'감기 조심하세요.'\n"
     ]
    }
   ],
   "source": [
    "min_tem = int(input(\"최적 기온 입력: \"))\n",
    "max_tem = int(input(\"최고 기온 입력: \"))\n",
    "\n",
    "daily_tem_range = max_tem - min_tem\n",
    "\n",
    "if daily_tem_range >= 11:\n",
    "    print(f\"일교차: {daily_tem_range}도\\n'감기 조심하세요.'\")\n",
    "else:\n",
    "    print(f\"일교차: {daily_tem_range}도\\n'산책하기 좋은 날씨입니다.'\")"
   ]
  },
  {
   "cell_type": "markdown",
   "id": "bdc1c05b",
   "metadata": {},
   "source": [
    "# 29. 다자택일 조건문(if ~ elif 문)"
   ]
  },
  {
   "cell_type": "markdown",
   "id": "57fdd354",
   "metadata": {},
   "source": [
    "## - if~elif문 : 여러 가지 조건식 결과에 따라 실행문이 결정됨."
   ]
  },
  {
   "cell_type": "markdown",
   "id": "8be4e8c5",
   "metadata": {},
   "source": [
    "- 계절을 입력하면 영어로 번역되는 프로그램을 만들어 보자."
   ]
  },
  {
   "cell_type": "code",
   "execution_count": 198,
   "id": "8a8a08bc",
   "metadata": {},
   "outputs": [
    {
     "name": "stdout",
     "output_type": "stream",
     "text": [
      "계절: 봄, 여름, 가을, 겨울\n",
      "계절 입력: 봄\n",
      "봄 : Spring\n"
     ]
    }
   ],
   "source": [
    "print(\"계절: 봄, 여름, 가을, 겨울\")\n",
    "season = input(\"계절 입력: \")\n",
    "\n",
    "if season == \"봄\":\n",
    "    print(f\"{season} : Spring\")\n",
    "elif season == \"여름\":\n",
    "    print(f\"{season} : Summer\")\n",
    "elif season == \"가을\":\n",
    "    print(f\"{season} : Fall\")\n",
    "elif season == \"겨울\":\n",
    "    print(f\"{season} : Winter\")\n",
    "else:\n",
    "    print(\"알수 없음.\")"
   ]
  },
  {
   "cell_type": "markdown",
   "id": "8065a322",
   "metadata": {},
   "source": [
    "- 키오스크에서 메뉴를 선택하면 영수증이 출력되는 프로그램을 만들어 보자."
   ]
  },
  {
   "cell_type": "code",
   "execution_count": 200,
   "id": "dcf28408",
   "metadata": {},
   "outputs": [
    {
     "name": "stdout",
     "output_type": "stream",
     "text": [
      "1.카페라떼(3.5)\t 2.에스프레소(3.0)\t 3.아메리카노(2.0)\t 4.곡물라떼(4.0)\t 5.밀크티(4.3)\n",
      "메뉴 선택: 3\n",
      "--------------------\n",
      "메뉴: 아메리카노\n",
      "가격: 2,000원\n",
      "--------------------\n"
     ]
    }
   ],
   "source": [
    "print(\"1.카페라떼(3.5)\\t 2.에스프레소(3.0)\\t 3.아메리카노(2.0)\\t 4.곡물라떼(4.0)\\t 5.밀크티(4.3)\")\n",
    "choose = int(input(\"메뉴 선택: \"))\n",
    "\n",
    "if choose == 1:\n",
    "    print(\"-\"*20)\n",
    "    print(\"메뉴: 카페라떼\")\n",
    "    print(\"가격: 3,500원\")\n",
    "    print(\"-\"*20)\n",
    "    \n",
    "elif choose == 2:\n",
    "    print(\"-\"*20)\n",
    "    print(\"메뉴: 에스프레소\")\n",
    "    print(\"가격: 3,000원\")\n",
    "    print(\"-\"*20)\n",
    "    \n",
    "elif choose == 3:\n",
    "    print(\"-\"*20)\n",
    "    print(\"메뉴: 아메리카노\")\n",
    "    print(\"가격: 2,000원\")\n",
    "    print(\"-\"*20)\n",
    "    \n",
    "elif choose == 4:\n",
    "    print(\"-\"*20)\n",
    "    print(\"메뉴: 곡물라떼\")\n",
    "    print(\"가격: 4,000원\")\n",
    "    print(\"-\"*20)\n",
    "    \n",
    "elif choose == 5:\n",
    "    print(\"-\"*20)\n",
    "    print(\"메뉴: 밀크티\")\n",
    "    print(\"가격: 4,300원\")\n",
    "    print(\"-\"*20)\n",
    "\n",
    "else:\n",
    "    print(\"다시 골라주세요.\")\n",
    "    "
   ]
  },
  {
   "cell_type": "markdown",
   "id": "55d41507",
   "metadata": {},
   "source": [
    "# 30. 다자책일 조건문 사용 시 주의할 점."
   ]
  },
  {
   "cell_type": "markdown",
   "id": "ba713a75",
   "metadata": {},
   "source": [
    "- 자동차 배기량에 따라 세금을 부과한다고 할 때, 다음 표를 보고 배기량을 입력하면 세금이 출력되는 프로그램을 만들어 보자."
   ]
  },
  {
   "cell_type": "code",
   "execution_count": 206,
   "id": "f29b93aa",
   "metadata": {},
   "outputs": [
    {
     "name": "stdout",
     "output_type": "stream",
     "text": [
      "자동차 베기량 입력: 4200\n",
      "세금: 500,000원\n"
     ]
    }
   ],
   "source": [
    "displacement = int(input(\"자동차 베기량 입력: \"))\n",
    "\n",
    "if displacement >= 5000:\n",
    "    print(\"세금: 600,000원\")\n",
    "elif displacement < 5000 and displacement >= 4000:\n",
    "    print(\"세금: 500,000원\")\n",
    "elif displacement < 4000 and displacement >= 3000:\n",
    "    print(\"세금: 400,000원\")\n",
    "elif displacement < 3000 and displacement >= 2000:\n",
    "    print(\"세금: 300,000원\")\n",
    "elif displacement < 2000 and displacement >= 1000:\n",
    "    print(\"세금: 200,000원\")\n",
    "else:\n",
    "    print(\"세금: 100,000원\")"
   ]
  },
  {
   "cell_type": "markdown",
   "id": "3be70a30",
   "metadata": {},
   "source": [
    "# 31. 중첩 조건문"
   ]
  },
  {
   "cell_type": "markdown",
   "id": "94370441",
   "metadata": {},
   "source": [
    "- 출퇴근 시 이용하는 교통 수단에 따라 세금을 감면해 주는 정책을 세우려고 한다. 다음 내용에 맞게 프로그램을 만들어 보자."
   ]
  },
  {
   "cell_type": "code",
   "execution_count": 207,
   "id": "085ea54c",
   "metadata": {},
   "outputs": [
    {
     "name": "stdout",
     "output_type": "stream",
     "text": [
      "출퇴근 대상자 인가요? 1.Yes \t 2.No1\n",
      "교통수단을 선택해주세요\n",
      "1.도보, 자전거 \t 2.버스, 지하철 \t 3.자가용1\n",
      "세금 감면 5%\n"
     ]
    }
   ],
   "source": [
    "select_num = int(input(\"출퇴근 대상자 인가요? 1.Yes \\t 2.No\"))\n",
    "\n",
    "if select_num == 1:\n",
    "    print(\"교통수단을 선택해주세요\")\n",
    "    trans = int(input(\"1.도보, 자전거 \\t 2.버스, 지하철 \\t 3.자가용\"))\n",
    "    \n",
    "    if trans == 1:\n",
    "        print(\"세금 감면 5%\")\n",
    "    elif trans == 2:\n",
    "        print(\"세금 감면 3%\")\n",
    "    elif trans == 3:\n",
    "        print(\"세금 감면 1%\")\n",
    "    \n",
    "elif select_num == 2:\n",
    "    print(\"세금 변동 없습니다.\")\n",
    "else:\n",
    "    print(\"잘못 입력했습니다.\")"
   ]
  },
  {
   "cell_type": "markdown",
   "id": "37065f45",
   "metadata": {},
   "source": [
    "# 32. 반복문"
   ]
  },
  {
   "cell_type": "code",
   "execution_count": 209,
   "id": "4d310c1a",
   "metadata": {},
   "outputs": [
    {
     "name": "stdout",
     "output_type": "stream",
     "text": [
      "박찬호선수 한테 메일 발송\n",
      "박세리선수 한테 메일 발송\n",
      "박지성선수 한테 메일 발송\n",
      "김연경선수 한테 메일 발송\n",
      "이승엽선수 한테 메일 발송\n"
     ]
    }
   ],
   "source": [
    "players = ['박찬호', '박세리', '박지성', '김연경', '이승엽']\n",
    "\n",
    "for i in players:\n",
    "    print(f\"{i}선수 한테 메일 발송\")"
   ]
  }
 ],
 "metadata": {
  "kernelspec": {
   "display_name": "Python 3 (ipykernel)",
   "language": "python",
   "name": "python3"
  },
  "language_info": {
   "codemirror_mode": {
    "name": "ipython",
    "version": 3
   },
   "file_extension": ".py",
   "mimetype": "text/x-python",
   "name": "python",
   "nbconvert_exporter": "python",
   "pygments_lexer": "ipython3",
   "version": "3.9.16"
  }
 },
 "nbformat": 4,
 "nbformat_minor": 5
}
